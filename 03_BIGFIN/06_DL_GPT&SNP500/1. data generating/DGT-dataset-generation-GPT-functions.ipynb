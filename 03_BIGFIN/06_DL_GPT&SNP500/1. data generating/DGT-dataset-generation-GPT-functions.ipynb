{
 "cells": [
  {
   "cell_type": "markdown",
   "id": "14bf0ffc",
   "metadata": {},
   "source": [
    "# DGT x ChatGPT API"
   ]
  },
  {
   "cell_type": "code",
   "execution_count": null,
   "id": "59f68074",
   "metadata": {},
   "outputs": [],
   "source": [
    "import openai\n",
    "GPT_API_KEY = 'your OpenAI API KEY'\n",
    "openai.api_key = GPT_API_KEY\n",
    "openai.Model.list()"
   ]
  },
  {
   "cell_type": "markdown",
   "id": "ef0178ad",
   "metadata": {},
   "source": [
    "# (함수) chatGPT의 대답을 출력하는 함수"
   ]
  },
  {
   "cell_type": "code",
   "execution_count": 2,
   "id": "bd556ff8",
   "metadata": {},
   "outputs": [],
   "source": [
    "def getAnswer(q):\n",
    "    return q.choices[0].message.content"
   ]
  },
  {
   "cell_type": "markdown",
   "id": "68358c41",
   "metadata": {},
   "source": [
    "# (함수) chatGPT의 대답 문자열로부터 리스트를 얻는 함수"
   ]
  },
  {
   "cell_type": "code",
   "execution_count": 3,
   "id": "5b35ac34",
   "metadata": {},
   "outputs": [],
   "source": [
    "import re\n",
    "import ast\n",
    "\n",
    "def getListFromAnswer(ans):\n",
    "    list_pattern = r\"\\[.*\\]\"\n",
    "    str_list = re.findall(list_pattern, ans, re.DOTALL)[0]\n",
    "    lst = ast.literal_eval(str_list)\n",
    "    return lst"
   ]
  },
  {
   "cell_type": "markdown",
   "id": "fb2072ce",
   "metadata": {},
   "source": [
    "# (함수) chatGPT의 대답 문자열로부터 딕셔너리를 얻는 함수"
   ]
  },
  {
   "cell_type": "code",
   "execution_count": 4,
   "id": "dfc02d9a",
   "metadata": {},
   "outputs": [],
   "source": [
    "import re\n",
    "import ast\n",
    "\n",
    "def getDictFromAnswer(ans):\n",
    "    list_pattern = r\"\\{.*\\}\"\n",
    "    str_dict = re.findall(list_pattern, ans, re.DOTALL)[0]\n",
    "    \n",
    "    if str_dict:\n",
    "        dct = ast.literal_eval(str_dict)\n",
    "    else:\n",
    "        dct = {}\n",
    "    return dct"
   ]
  },
  {
   "cell_type": "markdown",
   "id": "687f137a",
   "metadata": {},
   "source": [
    "# (예시) S&P500 기업 503개 평가"
   ]
  },
  {
   "cell_type": "markdown",
   "id": "3974e0e6",
   "metadata": {},
   "source": [
    "# S&P500 티커심볼, 기업명 불러오기"
   ]
  },
  {
   "cell_type": "code",
   "execution_count": 5,
   "id": "64c6d546",
   "metadata": {
    "scrolled": true
   },
   "outputs": [
    {
     "data": {
      "text/html": [
       "<div>\n",
       "<style scoped>\n",
       "    .dataframe tbody tr th:only-of-type {\n",
       "        vertical-align: middle;\n",
       "    }\n",
       "\n",
       "    .dataframe tbody tr th {\n",
       "        vertical-align: top;\n",
       "    }\n",
       "\n",
       "    .dataframe thead th {\n",
       "        text-align: right;\n",
       "    }\n",
       "</style>\n",
       "<table border=\"1\" class=\"dataframe\">\n",
       "  <thead>\n",
       "    <tr style=\"text-align: right;\">\n",
       "      <th></th>\n",
       "      <th>Ticker</th>\n",
       "      <th>Company</th>\n",
       "    </tr>\n",
       "  </thead>\n",
       "  <tbody>\n",
       "    <tr>\n",
       "      <th>0</th>\n",
       "      <td>MMM</td>\n",
       "      <td>3M</td>\n",
       "    </tr>\n",
       "    <tr>\n",
       "      <th>1</th>\n",
       "      <td>AOS</td>\n",
       "      <td>A. O. Smith</td>\n",
       "    </tr>\n",
       "    <tr>\n",
       "      <th>2</th>\n",
       "      <td>ABT</td>\n",
       "      <td>Abbott</td>\n",
       "    </tr>\n",
       "    <tr>\n",
       "      <th>3</th>\n",
       "      <td>ABBV</td>\n",
       "      <td>AbbVie</td>\n",
       "    </tr>\n",
       "    <tr>\n",
       "      <th>4</th>\n",
       "      <td>ACN</td>\n",
       "      <td>Accenture</td>\n",
       "    </tr>\n",
       "    <tr>\n",
       "      <th>...</th>\n",
       "      <td>...</td>\n",
       "      <td>...</td>\n",
       "    </tr>\n",
       "    <tr>\n",
       "      <th>498</th>\n",
       "      <td>YUM</td>\n",
       "      <td>Yum! Brands</td>\n",
       "    </tr>\n",
       "    <tr>\n",
       "      <th>499</th>\n",
       "      <td>ZBRA</td>\n",
       "      <td>Zebra Technologies</td>\n",
       "    </tr>\n",
       "    <tr>\n",
       "      <th>500</th>\n",
       "      <td>ZBH</td>\n",
       "      <td>Zimmer Biomet</td>\n",
       "    </tr>\n",
       "    <tr>\n",
       "      <th>501</th>\n",
       "      <td>ZION</td>\n",
       "      <td>Zions Bancorporation</td>\n",
       "    </tr>\n",
       "    <tr>\n",
       "      <th>502</th>\n",
       "      <td>ZTS</td>\n",
       "      <td>Zoetis</td>\n",
       "    </tr>\n",
       "  </tbody>\n",
       "</table>\n",
       "<p>503 rows × 2 columns</p>\n",
       "</div>"
      ],
      "text/plain": [
       "    Ticker               Company\n",
       "0      MMM                    3M\n",
       "1      AOS           A. O. Smith\n",
       "2      ABT                Abbott\n",
       "3     ABBV                AbbVie\n",
       "4      ACN             Accenture\n",
       "..     ...                   ...\n",
       "498    YUM           Yum! Brands\n",
       "499   ZBRA    Zebra Technologies\n",
       "500    ZBH         Zimmer Biomet\n",
       "501   ZION  Zions Bancorporation\n",
       "502    ZTS                Zoetis\n",
       "\n",
       "[503 rows x 2 columns]"
      ]
     },
     "execution_count": 5,
     "metadata": {},
     "output_type": "execute_result"
    }
   ],
   "source": [
    "import pandas as pd\n",
    "\n",
    "# S&P500 기업 정보 데이터 불러오기\n",
    "sp500 = pd.read_html('https://en.wikipedia.org/wiki/List_of_S%26P_500_companies')[0]\n",
    "\n",
    "# 필요한 열 선택하기\n",
    "sp500 = sp500[['Symbol', 'Security']]\n",
    "\n",
    "# 열 이름 변경하기\n",
    "sp500 = sp500.rename(columns={'Symbol': 'Ticker', 'Security': 'Company'})\n",
    "\n",
    "# 데이터프레임 출력하기\n",
    "sp500\n"
   ]
  },
  {
   "cell_type": "markdown",
   "id": "40f24a7d",
   "metadata": {},
   "source": [
    "# (함수) 평가함수: 데이터프레임 입력"
   ]
  },
  {
   "cell_type": "code",
   "execution_count": 2,
   "id": "8ac018a7",
   "metadata": {},
   "outputs": [],
   "source": [
    "import time \n",
    "\n",
    "def evaluateCorporations(df_tickerAndcorp):\n",
    "    listTickers = df_tickerAndcorp['Ticker'].tolist()\n",
    "    listCorps = df_tickerAndcorp['Company'].tolist()\n",
    "    print(f'start ...')\n",
    "    print(f'corps: {listTickers}')\n",
    "    start_time = time.time()\n",
    "\n",
    "    bucket_ans_eval = []\n",
    "    bucket_dicts_eval = []\n",
    "    \n",
    "    for i in range(len(listTickers)):\n",
    "        print(f'evaluating {listTickers[i]} ... {i+1}/{len(listTickers)}')\n",
    "        q_eval = openai.ChatCompletion.create(\n",
    "            model = 'gpt-3.5-turbo',\n",
    "            messages = [\n",
    "                {\n",
    "                    \"role\": \"system\", \n",
    "                    \"content\": '''\n",
    "                        From now on, please consider yourself as a well-known and respected corporate analyst, \n",
    "                        fund manager, and analyst.'''\n",
    "                },\n",
    "                {\n",
    "                    \"role\": \"user\", \n",
    "                    \"content\": \n",
    "                     f'''\n",
    "                         I am interested in a company with \n",
    "                         the ticker symbol {listTickers[i]}, corporation name {listCorps[i]}, \n",
    "                         and here are the important characteristics used to evaluate the company:\n",
    "                         \n",
    "                            ['financial stability and liquidity',\n",
    "                            'strong management team',\n",
    "                            'competitive advantage',\n",
    "                            'market potential',\n",
    "                            'growth prospects',\n",
    "                            'diversification within the company',\n",
    "                            'sustainable business model',\n",
    "                            'innovation and R&D',\n",
    "                            'corporate governance',\n",
    "                            'strong brand recognition']\n",
    "                    \n",
    "                        Can you assign a score of 0-100 for each of these characteristics to provide an evaluation of the company? \n",
    "                        \n",
    "                        It would be great if the output is in the form of a Python dictionary, which also includes keys \"ticker\" in first place and \"company\" in second place to identify the company.'''\n",
    "                }\n",
    "            ]\n",
    "        )\n",
    "\n",
    "        a_eval = getAnswer(q_eval)\n",
    "        bucket_ans_eval.append(a_eval)\n",
    "        dict_eval = getDictFromAnswer(a_eval)\n",
    "        if dict_eval == {}:\n",
    "            dict_eval = {'ticker': listTickers[i], 'company': listCorps[i]}\n",
    "        bucket_dicts_eval.append(dict_eval)\n",
    "\n",
    "    print(f'end ...')\n",
    "    end_time = time.time()\n",
    "    elapsed_time = end_time - start_time  # 실행 시간 계산\n",
    "    print(f\"Elapsed time: {elapsed_time:.2f} seconds\")\n",
    "    return [bucket_dicts_eval, bucket_ans_eval]"
   ]
  },
  {
   "cell_type": "markdown",
   "id": "c4a6af47",
   "metadata": {},
   "source": [
    "# (함수) 평가로부터 데이터프레임을 출력하는 함수"
   ]
  },
  {
   "cell_type": "code",
   "execution_count": 7,
   "id": "37666045",
   "metadata": {},
   "outputs": [],
   "source": [
    "import pandas as pd\n",
    "\n",
    "# index = 0 = 기본값인 경우 평가함수의 출력만을 넣어 데이터 프레임 출력 가능  \n",
    "# index= -1 일 경우 딕셔너리 인풋으로 데이터프레임을 출력 가능\n",
    "def getDataFrame(listDicts, index=0):\n",
    "    if index != -1:\n",
    "        df = pd.DataFrame(listDicts[index])\n",
    "    else:\n",
    "        df = pd.DataFrame(listDicts)\n",
    "    return df"
   ]
  },
  {
   "cell_type": "markdown",
   "id": "f90e39cc",
   "metadata": {},
   "source": [
    "# (함수) 입력 데이터프레임 쪼개어 배치 만들기"
   ]
  },
  {
   "cell_type": "code",
   "execution_count": 8,
   "id": "b78a8e78",
   "metadata": {},
   "outputs": [],
   "source": [
    "def makeBatch(df, batch_size=5):\n",
    "    bucket = []\n",
    "    num_batch = len(df) // batch_size\n",
    "    for n_th in range(num_batch+1):\n",
    "        if (n_th+1)*batch_size < len(df):\n",
    "            df_batch = df.iloc[n_th*batch_size: (n_th+1)*batch_size]\n",
    "        else:\n",
    "            df_batch = df.iloc[n_th*batch_size: ]\n",
    "        bucket.append(df_batch)\n",
    "    return bucket"
   ]
  },
  {
   "cell_type": "markdown",
   "id": "191fa226",
   "metadata": {},
   "source": [
    "# STEP 0: 입력 데이터 배치 만들기 "
   ]
  },
  {
   "cell_type": "code",
   "execution_count": null,
   "id": "62e8b942",
   "metadata": {
    "scrolled": true
   },
   "outputs": [],
   "source": [
    "list_batches = makeBatch(sp500)\n",
    "list_batches # 여기에 index를 입력하면 배치 5개 기업 단위로 얻어짐"
   ]
  },
  {
   "cell_type": "markdown",
   "id": "63e07e55",
   "metadata": {},
   "source": [
    "# 배치 0/100 (0번째 배치 = 첫 5개 기업)"
   ]
  },
  {
   "cell_type": "markdown",
   "id": "ea745632",
   "metadata": {},
   "source": [
    "Q) 잠깐! 왜 배치를 나누고 5개 기업 단위로 평가를 할까요? \n",
    "A) 5개 기업 이상을 반복해서 돌릴 경우 gpt의 이상 답변 확률이 증가하고 네트워크 이상에 의해 오류 답변 가능성, 답변 대기 시간이 증가합니다. 반면 5개 미만이 되면 지나치게 여러번 평가 함수를 돌려야 하므로 작업 효율이 떨어집니다."
   ]
  },
  {
   "cell_type": "markdown",
   "id": "a2c1222c",
   "metadata": {},
   "source": [
    "# STEP 1: 평가하기"
   ]
  },
  {
   "cell_type": "code",
   "execution_count": 10,
   "id": "69bf2308",
   "metadata": {
    "scrolled": false
   },
   "outputs": [
    {
     "name": "stdout",
     "output_type": "stream",
     "text": [
      "start ...\n",
      "corps: ['MMM', 'AOS', 'ABT', 'ABBV', 'ACN']\n",
      "evaluating MMM ... 1/5\n",
      "evaluating AOS ... 2/5\n",
      "evaluating ABT ... 3/5\n",
      "evaluating ABBV ... 4/5\n",
      "evaluating ACN ... 5/5\n",
      "end ...\n",
      "Elapsed time: 161.36 seconds\n"
     ]
    }
   ],
   "source": [
    "index = 0 # 배치 인덱스 입력\n",
    "eval_batch0 = evaluateCorporations(list_batches[index])"
   ]
  },
  {
   "cell_type": "markdown",
   "id": "a3686bb8",
   "metadata": {},
   "source": [
    "# STEP 2: 평가한 배치 저장하기"
   ]
  },
  {
   "cell_type": "code",
   "execution_count": null,
   "id": "47bd79c7",
   "metadata": {
    "scrolled": true
   },
   "outputs": [],
   "source": [
    "# 평가 결과는 [평가 점수 딕셔너리, 평가한 원문 문자열] 형식으로 저장되므로\n",
    "# 인덱스 0으로 딕셔너리만을 저장하는 것에 유의하라\n",
    "evals = eval_batch0[0]\n",
    "evals"
   ]
  },
  {
   "cell_type": "markdown",
   "id": "0f165d88",
   "metadata": {},
   "source": [
    "# STEP 3: 평가한 배치0 데이터프레임 출력해보기"
   ]
  },
  {
   "cell_type": "code",
   "execution_count": 13,
   "id": "9f8808ce",
   "metadata": {
    "scrolled": true
   },
   "outputs": [
    {
     "data": {
      "text/html": [
       "<div>\n",
       "<style scoped>\n",
       "    .dataframe tbody tr th:only-of-type {\n",
       "        vertical-align: middle;\n",
       "    }\n",
       "\n",
       "    .dataframe tbody tr th {\n",
       "        vertical-align: top;\n",
       "    }\n",
       "\n",
       "    .dataframe thead th {\n",
       "        text-align: right;\n",
       "    }\n",
       "</style>\n",
       "<table border=\"1\" class=\"dataframe\">\n",
       "  <thead>\n",
       "    <tr style=\"text-align: right;\">\n",
       "      <th></th>\n",
       "      <th>ticker</th>\n",
       "      <th>company</th>\n",
       "      <th>financial stability and liquidity</th>\n",
       "      <th>strong management team</th>\n",
       "      <th>competitive advantage</th>\n",
       "      <th>market potential</th>\n",
       "      <th>growth prospects</th>\n",
       "      <th>diversification within the company</th>\n",
       "      <th>sustainable business model</th>\n",
       "      <th>innovation and R&amp;D</th>\n",
       "      <th>corporate governance</th>\n",
       "      <th>strong brand recognition</th>\n",
       "    </tr>\n",
       "  </thead>\n",
       "  <tbody>\n",
       "    <tr>\n",
       "      <th>0</th>\n",
       "      <td>MMM</td>\n",
       "      <td>3M</td>\n",
       "      <td>90</td>\n",
       "      <td>85</td>\n",
       "      <td>95</td>\n",
       "      <td>80</td>\n",
       "      <td>75</td>\n",
       "      <td>90</td>\n",
       "      <td>85</td>\n",
       "      <td>90</td>\n",
       "      <td>80</td>\n",
       "      <td>95</td>\n",
       "    </tr>\n",
       "    <tr>\n",
       "      <th>1</th>\n",
       "      <td>AOS</td>\n",
       "      <td>A. O. Smith Corporation</td>\n",
       "      <td>90</td>\n",
       "      <td>85</td>\n",
       "      <td>80</td>\n",
       "      <td>85</td>\n",
       "      <td>80</td>\n",
       "      <td>70</td>\n",
       "      <td>90</td>\n",
       "      <td>75</td>\n",
       "      <td>85</td>\n",
       "      <td>90</td>\n",
       "    </tr>\n",
       "    <tr>\n",
       "      <th>2</th>\n",
       "      <td>ABT</td>\n",
       "      <td>Abbott</td>\n",
       "      <td>85</td>\n",
       "      <td>90</td>\n",
       "      <td>90</td>\n",
       "      <td>80</td>\n",
       "      <td>85</td>\n",
       "      <td>80</td>\n",
       "      <td>90</td>\n",
       "      <td>90</td>\n",
       "      <td>85</td>\n",
       "      <td>85</td>\n",
       "    </tr>\n",
       "    <tr>\n",
       "      <th>3</th>\n",
       "      <td>ABBV</td>\n",
       "      <td>AbbVie</td>\n",
       "      <td>90</td>\n",
       "      <td>85</td>\n",
       "      <td>90</td>\n",
       "      <td>75</td>\n",
       "      <td>80</td>\n",
       "      <td>70</td>\n",
       "      <td>85</td>\n",
       "      <td>90</td>\n",
       "      <td>75</td>\n",
       "      <td>85</td>\n",
       "    </tr>\n",
       "    <tr>\n",
       "      <th>4</th>\n",
       "      <td>ACN</td>\n",
       "      <td>Accenture</td>\n",
       "      <td>95</td>\n",
       "      <td>90</td>\n",
       "      <td>95</td>\n",
       "      <td>85</td>\n",
       "      <td>90</td>\n",
       "      <td>85</td>\n",
       "      <td>90</td>\n",
       "      <td>85</td>\n",
       "      <td>90</td>\n",
       "      <td>95</td>\n",
       "    </tr>\n",
       "  </tbody>\n",
       "</table>\n",
       "</div>"
      ],
      "text/plain": [
       "  ticker                  company  financial stability and liquidity  \\\n",
       "0    MMM                       3M                                 90   \n",
       "1    AOS  A. O. Smith Corporation                                 90   \n",
       "2    ABT                   Abbott                                 85   \n",
       "3   ABBV                   AbbVie                                 90   \n",
       "4    ACN                Accenture                                 95   \n",
       "\n",
       "   strong management team  competitive advantage  market potential  \\\n",
       "0                      85                     95                80   \n",
       "1                      85                     80                85   \n",
       "2                      90                     90                80   \n",
       "3                      85                     90                75   \n",
       "4                      90                     95                85   \n",
       "\n",
       "   growth prospects  diversification within the company  \\\n",
       "0                75                                  90   \n",
       "1                80                                  70   \n",
       "2                85                                  80   \n",
       "3                80                                  70   \n",
       "4                90                                  85   \n",
       "\n",
       "   sustainable business model  innovation and R&D  corporate governance  \\\n",
       "0                          85                  90                    80   \n",
       "1                          90                  75                    85   \n",
       "2                          90                  90                    85   \n",
       "3                          85                  90                    75   \n",
       "4                          90                  85                    90   \n",
       "\n",
       "   strong brand recognition  \n",
       "0                        95  \n",
       "1                        90  \n",
       "2                        85  \n",
       "3                        85  \n",
       "4                        95  "
      ]
     },
     "execution_count": 13,
     "metadata": {},
     "output_type": "execute_result"
    }
   ],
   "source": [
    "df_batch = getDataFrame(eval_batch0)\n",
    "df_batch"
   ]
  },
  {
   "cell_type": "markdown",
   "id": "52acded9",
   "metadata": {},
   "source": [
    "# 배치 1/100 (0번째 배치 = 다음 5개 기업)"
   ]
  },
  {
   "cell_type": "markdown",
   "id": "fb408051",
   "metadata": {},
   "source": [
    "# STEP 4: 또 평가하기"
   ]
  },
  {
   "cell_type": "code",
   "execution_count": 14,
   "id": "2407e2b7",
   "metadata": {
    "scrolled": true
   },
   "outputs": [
    {
     "name": "stdout",
     "output_type": "stream",
     "text": [
      "start ...\n",
      "corps: ['ATVI', 'ADM', 'ADBE', 'ADP', 'AAP']\n",
      "evaluating ATVI ... 1/5\n",
      "evaluating ADM ... 2/5\n",
      "evaluating ADBE ... 3/5\n",
      "evaluating ADP ... 4/5\n",
      "evaluating AAP ... 5/5\n",
      "end ...\n",
      "Elapsed time: 124.24 seconds\n"
     ]
    }
   ],
   "source": [
    "eval_batch1 = evaluateCorporations(list_batches[1])"
   ]
  },
  {
   "cell_type": "markdown",
   "id": "c3b619a7",
   "metadata": {},
   "source": [
    "# STEP 5: 앞서 평가한 배치0과 이번 평가를 합쳐 저장하기"
   ]
  },
  {
   "cell_type": "code",
   "execution_count": null,
   "id": "05f6380c",
   "metadata": {
    "scrolled": false
   },
   "outputs": [],
   "source": [
    "# 평가 결과는 [평가 점수 딕셔너리, 평가한 원문 문자열] 형식으로 저장되므로\n",
    "# 평가 결과 중 인덱스 0인 요소인 평가 점수 딕셔너리만을 합친다.\n",
    "evals = evals + eval_batch1[0]\n",
    "evals"
   ]
  },
  {
   "cell_type": "markdown",
   "id": "c8754738",
   "metadata": {},
   "source": [
    "# STEP 6: 합쳐진 평가들을 데이터프레임 출력해보기"
   ]
  },
  {
   "cell_type": "code",
   "execution_count": 24,
   "id": "37d657ef",
   "metadata": {
    "scrolled": true
   },
   "outputs": [
    {
     "data": {
      "text/html": [
       "<div>\n",
       "<style scoped>\n",
       "    .dataframe tbody tr th:only-of-type {\n",
       "        vertical-align: middle;\n",
       "    }\n",
       "\n",
       "    .dataframe tbody tr th {\n",
       "        vertical-align: top;\n",
       "    }\n",
       "\n",
       "    .dataframe thead th {\n",
       "        text-align: right;\n",
       "    }\n",
       "</style>\n",
       "<table border=\"1\" class=\"dataframe\">\n",
       "  <thead>\n",
       "    <tr style=\"text-align: right;\">\n",
       "      <th></th>\n",
       "      <th>ticker</th>\n",
       "      <th>company</th>\n",
       "      <th>financial stability and liquidity</th>\n",
       "      <th>strong management team</th>\n",
       "      <th>competitive advantage</th>\n",
       "      <th>market potential</th>\n",
       "      <th>growth prospects</th>\n",
       "      <th>diversification within the company</th>\n",
       "      <th>sustainable business model</th>\n",
       "      <th>innovation and R&amp;D</th>\n",
       "      <th>corporate governance</th>\n",
       "      <th>strong brand recognition</th>\n",
       "    </tr>\n",
       "  </thead>\n",
       "  <tbody>\n",
       "    <tr>\n",
       "      <th>0</th>\n",
       "      <td>MMM</td>\n",
       "      <td>3M</td>\n",
       "      <td>90</td>\n",
       "      <td>85</td>\n",
       "      <td>95</td>\n",
       "      <td>80</td>\n",
       "      <td>75</td>\n",
       "      <td>90</td>\n",
       "      <td>85</td>\n",
       "      <td>90</td>\n",
       "      <td>80</td>\n",
       "      <td>95</td>\n",
       "    </tr>\n",
       "    <tr>\n",
       "      <th>1</th>\n",
       "      <td>AOS</td>\n",
       "      <td>A. O. Smith Corporation</td>\n",
       "      <td>90</td>\n",
       "      <td>85</td>\n",
       "      <td>80</td>\n",
       "      <td>85</td>\n",
       "      <td>80</td>\n",
       "      <td>70</td>\n",
       "      <td>90</td>\n",
       "      <td>75</td>\n",
       "      <td>85</td>\n",
       "      <td>90</td>\n",
       "    </tr>\n",
       "    <tr>\n",
       "      <th>2</th>\n",
       "      <td>ABT</td>\n",
       "      <td>Abbott</td>\n",
       "      <td>85</td>\n",
       "      <td>90</td>\n",
       "      <td>90</td>\n",
       "      <td>80</td>\n",
       "      <td>85</td>\n",
       "      <td>80</td>\n",
       "      <td>90</td>\n",
       "      <td>90</td>\n",
       "      <td>85</td>\n",
       "      <td>85</td>\n",
       "    </tr>\n",
       "    <tr>\n",
       "      <th>3</th>\n",
       "      <td>ABBV</td>\n",
       "      <td>AbbVie</td>\n",
       "      <td>90</td>\n",
       "      <td>85</td>\n",
       "      <td>90</td>\n",
       "      <td>75</td>\n",
       "      <td>80</td>\n",
       "      <td>70</td>\n",
       "      <td>85</td>\n",
       "      <td>90</td>\n",
       "      <td>75</td>\n",
       "      <td>85</td>\n",
       "    </tr>\n",
       "    <tr>\n",
       "      <th>4</th>\n",
       "      <td>ACN</td>\n",
       "      <td>Accenture</td>\n",
       "      <td>95</td>\n",
       "      <td>90</td>\n",
       "      <td>95</td>\n",
       "      <td>85</td>\n",
       "      <td>90</td>\n",
       "      <td>85</td>\n",
       "      <td>90</td>\n",
       "      <td>85</td>\n",
       "      <td>90</td>\n",
       "      <td>95</td>\n",
       "    </tr>\n",
       "    <tr>\n",
       "      <th>5</th>\n",
       "      <td>ATVI</td>\n",
       "      <td>Activision Blizzard</td>\n",
       "      <td>85</td>\n",
       "      <td>90</td>\n",
       "      <td>85</td>\n",
       "      <td>80</td>\n",
       "      <td>90</td>\n",
       "      <td>80</td>\n",
       "      <td>90</td>\n",
       "      <td>85</td>\n",
       "      <td>85</td>\n",
       "      <td>95</td>\n",
       "    </tr>\n",
       "    <tr>\n",
       "      <th>6</th>\n",
       "      <td>ADM</td>\n",
       "      <td>ADM Corporation</td>\n",
       "      <td>80</td>\n",
       "      <td>90</td>\n",
       "      <td>85</td>\n",
       "      <td>75</td>\n",
       "      <td>70</td>\n",
       "      <td>75</td>\n",
       "      <td>80</td>\n",
       "      <td>70</td>\n",
       "      <td>90</td>\n",
       "      <td>85</td>\n",
       "    </tr>\n",
       "    <tr>\n",
       "      <th>7</th>\n",
       "      <td>ADBE</td>\n",
       "      <td>Adobe Inc.</td>\n",
       "      <td>80</td>\n",
       "      <td>85</td>\n",
       "      <td>90</td>\n",
       "      <td>85</td>\n",
       "      <td>90</td>\n",
       "      <td>80</td>\n",
       "      <td>85</td>\n",
       "      <td>95</td>\n",
       "      <td>90</td>\n",
       "      <td>95</td>\n",
       "    </tr>\n",
       "    <tr>\n",
       "      <th>8</th>\n",
       "      <td>ADP</td>\n",
       "      <td>ADP</td>\n",
       "      <td>88</td>\n",
       "      <td>95</td>\n",
       "      <td>80</td>\n",
       "      <td>70</td>\n",
       "      <td>75</td>\n",
       "      <td>85</td>\n",
       "      <td>90</td>\n",
       "      <td>70</td>\n",
       "      <td>90</td>\n",
       "      <td>95</td>\n",
       "    </tr>\n",
       "    <tr>\n",
       "      <th>9</th>\n",
       "      <td>AAP</td>\n",
       "      <td>Advance Auto Parts</td>\n",
       "      <td>85</td>\n",
       "      <td>80</td>\n",
       "      <td>70</td>\n",
       "      <td>75</td>\n",
       "      <td>65</td>\n",
       "      <td>60</td>\n",
       "      <td>80</td>\n",
       "      <td>30</td>\n",
       "      <td>75</td>\n",
       "      <td>90</td>\n",
       "    </tr>\n",
       "  </tbody>\n",
       "</table>\n",
       "</div>"
      ],
      "text/plain": [
       "  ticker                  company  financial stability and liquidity  \\\n",
       "0    MMM                       3M                                 90   \n",
       "1    AOS  A. O. Smith Corporation                                 90   \n",
       "2    ABT                   Abbott                                 85   \n",
       "3   ABBV                   AbbVie                                 90   \n",
       "4    ACN                Accenture                                 95   \n",
       "5   ATVI      Activision Blizzard                                 85   \n",
       "6    ADM          ADM Corporation                                 80   \n",
       "7   ADBE               Adobe Inc.                                 80   \n",
       "8    ADP                      ADP                                 88   \n",
       "9    AAP       Advance Auto Parts                                 85   \n",
       "\n",
       "   strong management team  competitive advantage  market potential  \\\n",
       "0                      85                     95                80   \n",
       "1                      85                     80                85   \n",
       "2                      90                     90                80   \n",
       "3                      85                     90                75   \n",
       "4                      90                     95                85   \n",
       "5                      90                     85                80   \n",
       "6                      90                     85                75   \n",
       "7                      85                     90                85   \n",
       "8                      95                     80                70   \n",
       "9                      80                     70                75   \n",
       "\n",
       "   growth prospects  diversification within the company  \\\n",
       "0                75                                  90   \n",
       "1                80                                  70   \n",
       "2                85                                  80   \n",
       "3                80                                  70   \n",
       "4                90                                  85   \n",
       "5                90                                  80   \n",
       "6                70                                  75   \n",
       "7                90                                  80   \n",
       "8                75                                  85   \n",
       "9                65                                  60   \n",
       "\n",
       "   sustainable business model  innovation and R&D  corporate governance  \\\n",
       "0                          85                  90                    80   \n",
       "1                          90                  75                    85   \n",
       "2                          90                  90                    85   \n",
       "3                          85                  90                    75   \n",
       "4                          90                  85                    90   \n",
       "5                          90                  85                    85   \n",
       "6                          80                  70                    90   \n",
       "7                          85                  95                    90   \n",
       "8                          90                  70                    90   \n",
       "9                          80                  30                    75   \n",
       "\n",
       "   strong brand recognition  \n",
       "0                        95  \n",
       "1                        90  \n",
       "2                        85  \n",
       "3                        85  \n",
       "4                        95  \n",
       "5                        95  \n",
       "6                        85  \n",
       "7                        95  \n",
       "8                        95  \n",
       "9                        90  "
      ]
     },
     "execution_count": 24,
     "metadata": {},
     "output_type": "execute_result"
    }
   ],
   "source": [
    "# 합쳐진 평가를 데이터프레임으로 출력할 경우 딕셔너리 입력을 넣게 된다.\n",
    "# 딕셔너리 입력을 넣을 경우, 함수 두번째 변수(인덱스 변수)에 -1을 입력하라 \n",
    "df_total = getDataFrame(evals, -1)\n",
    "df_total"
   ]
  },
  {
   "cell_type": "code",
   "execution_count": 1,
   "id": "a08b8687",
   "metadata": {},
   "outputs": [],
   "source": [
    "# 이하 모든 배치 반복"
   ]
  }
 ],
 "metadata": {
  "kernelspec": {
   "display_name": "Python 3 (ipykernel)",
   "language": "python",
   "name": "python3"
  },
  "language_info": {
   "codemirror_mode": {
    "name": "ipython",
    "version": 3
   },
   "file_extension": ".py",
   "mimetype": "text/x-python",
   "name": "python",
   "nbconvert_exporter": "python",
   "pygments_lexer": "ipython3",
   "version": "3.10.9"
  }
 },
 "nbformat": 4,
 "nbformat_minor": 5
}
