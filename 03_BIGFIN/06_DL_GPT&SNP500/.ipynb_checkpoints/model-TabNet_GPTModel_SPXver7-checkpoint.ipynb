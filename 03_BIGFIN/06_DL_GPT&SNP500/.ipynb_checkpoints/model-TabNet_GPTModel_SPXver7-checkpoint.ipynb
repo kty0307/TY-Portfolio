{
 "cells": [
  {
   "cell_type": "markdown",
   "metadata": {
    "id": "nHHCchgQHHL3"
   },
   "source": [
    "# Preparing Data"
   ]
  },
  {
   "cell_type": "markdown",
   "metadata": {
    "id": "IJSDr1VscIBD"
   },
   "source": [
    "우리가 하려는 건 결국 주식에 대한 정보와, 과거 주가를 넣으면 미래 주가가 나오는 모델을 만드는 것이 목표. <br>\n",
    "그러면 시기가 끊기는 것은 중요하지 않으므로, NaN 값이 없는 데이터셋을 사용"
   ]
  },
  {
   "cell_type": "markdown",
   "metadata": {
    "id": "FPcmsKmhHheF"
   },
   "source": [
    "## Data 불러오기 (colab)"
   ]
  },
  {
   "cell_type": "code",
   "execution_count": 1,
   "metadata": {
    "colab": {
     "base_uri": "https://localhost:8080/"
    },
    "id": "pZdTDcprMg0U",
    "outputId": "ad08e4d0-4374-4bca-99ef-7908bb11c0fa"
   },
   "outputs": [
    {
     "name": "stdout",
     "output_type": "stream",
     "text": [
      "Mounted at /content/drive\n"
     ]
    }
   ],
   "source": [
    "from google.colab import drive\n",
    "drive.mount('/content/drive')"
   ]
  },
  {
   "cell_type": "code",
   "execution_count": 2,
   "metadata": {
    "id": "-KSk6A39IH0I"
   },
   "outputs": [],
   "source": [
    "import pandas as pd\n",
    "df = pd.read_csv('/content/drive/MyDrive/Colab Notebooks/dataset-evalPRPR-SPX-nonan (2).csv')"
   ]
  },
  {
   "cell_type": "markdown",
   "metadata": {
    "id": "Xe28WkTwLwNw"
   },
   "source": [
    "## Data 불러오기 (VS code)"
   ]
  },
  {
   "cell_type": "code",
   "execution_count": null,
   "metadata": {
    "id": "Jp9ty6YaLwNw"
   },
   "outputs": [],
   "source": [
    "import pandas as pd\n",
    "df = pd.read_csv(\"./dataset-evalPRPR-SPX-nonan (2).csv\")"
   ]
  },
  {
   "cell_type": "markdown",
   "metadata": {
    "id": "XYToiEmrLwNw"
   },
   "source": [
    "## 기본 데이터 정보 확인"
   ]
  },
  {
   "cell_type": "code",
   "execution_count": 3,
   "metadata": {
    "id": "rSaNad2mLwNw"
   },
   "outputs": [],
   "source": [
    "df_ = df.copy()"
   ]
  },
  {
   "cell_type": "code",
   "execution_count": 4,
   "metadata": {
    "colab": {
     "base_uri": "https://localhost:8080/",
     "height": 320
    },
    "id": "DT03mGysbYyc",
    "outputId": "5df3d980-59ac-4220-e7c5-fdc05f3f680e"
   },
   "outputs": [
    {
     "data": {
      "text/html": [
       "\n",
       "  <div id=\"df-c72708d6-47f3-4cb2-aa44-56319cbe09f9\">\n",
       "    <div class=\"colab-df-container\">\n",
       "      <div>\n",
       "<style scoped>\n",
       "    .dataframe tbody tr th:only-of-type {\n",
       "        vertical-align: middle;\n",
       "    }\n",
       "\n",
       "    .dataframe tbody tr th {\n",
       "        vertical-align: top;\n",
       "    }\n",
       "\n",
       "    .dataframe thead th {\n",
       "        text-align: right;\n",
       "    }\n",
       "</style>\n",
       "<table border=\"1\" class=\"dataframe\">\n",
       "  <thead>\n",
       "    <tr style=\"text-align: right;\">\n",
       "      <th></th>\n",
       "      <th>ticker</th>\n",
       "      <th>company</th>\n",
       "      <th>timestamp</th>\n",
       "      <th>financial stability and liquidity</th>\n",
       "      <th>strong management team</th>\n",
       "      <th>competitive advantage</th>\n",
       "      <th>market potential</th>\n",
       "      <th>growth prospects</th>\n",
       "      <th>diversification within the company</th>\n",
       "      <th>sustainable business model</th>\n",
       "      <th>...</th>\n",
       "      <th>low</th>\n",
       "      <th>close</th>\n",
       "      <th>volume</th>\n",
       "      <th>return</th>\n",
       "      <th>SPX</th>\n",
       "      <th>calculated_price</th>\n",
       "      <th>P</th>\n",
       "      <th>P_future</th>\n",
       "      <th>R</th>\n",
       "      <th>R_future</th>\n",
       "    </tr>\n",
       "  </thead>\n",
       "  <tbody>\n",
       "    <tr>\n",
       "      <th>count</th>\n",
       "      <td>241298</td>\n",
       "      <td>241298</td>\n",
       "      <td>241298</td>\n",
       "      <td>241298</td>\n",
       "      <td>241298</td>\n",
       "      <td>241298</td>\n",
       "      <td>241298</td>\n",
       "      <td>241298</td>\n",
       "      <td>241298</td>\n",
       "      <td>241298</td>\n",
       "      <td>...</td>\n",
       "      <td>241298</td>\n",
       "      <td>241298</td>\n",
       "      <td>241298</td>\n",
       "      <td>241298</td>\n",
       "      <td>241298</td>\n",
       "      <td>241298</td>\n",
       "      <td>241298</td>\n",
       "      <td>241298</td>\n",
       "      <td>241298</td>\n",
       "      <td>241298</td>\n",
       "    </tr>\n",
       "    <tr>\n",
       "      <th>unique</th>\n",
       "      <td>1</td>\n",
       "      <td>1</td>\n",
       "      <td>1</td>\n",
       "      <td>1</td>\n",
       "      <td>1</td>\n",
       "      <td>1</td>\n",
       "      <td>1</td>\n",
       "      <td>1</td>\n",
       "      <td>1</td>\n",
       "      <td>1</td>\n",
       "      <td>...</td>\n",
       "      <td>1</td>\n",
       "      <td>1</td>\n",
       "      <td>1</td>\n",
       "      <td>1</td>\n",
       "      <td>1</td>\n",
       "      <td>1</td>\n",
       "      <td>1</td>\n",
       "      <td>1</td>\n",
       "      <td>1</td>\n",
       "      <td>1</td>\n",
       "    </tr>\n",
       "    <tr>\n",
       "      <th>top</th>\n",
       "      <td>False</td>\n",
       "      <td>False</td>\n",
       "      <td>False</td>\n",
       "      <td>False</td>\n",
       "      <td>False</td>\n",
       "      <td>False</td>\n",
       "      <td>False</td>\n",
       "      <td>False</td>\n",
       "      <td>False</td>\n",
       "      <td>False</td>\n",
       "      <td>...</td>\n",
       "      <td>False</td>\n",
       "      <td>False</td>\n",
       "      <td>False</td>\n",
       "      <td>False</td>\n",
       "      <td>False</td>\n",
       "      <td>False</td>\n",
       "      <td>False</td>\n",
       "      <td>False</td>\n",
       "      <td>False</td>\n",
       "      <td>False</td>\n",
       "    </tr>\n",
       "    <tr>\n",
       "      <th>freq</th>\n",
       "      <td>241298</td>\n",
       "      <td>241298</td>\n",
       "      <td>241298</td>\n",
       "      <td>241298</td>\n",
       "      <td>241298</td>\n",
       "      <td>241298</td>\n",
       "      <td>241298</td>\n",
       "      <td>241298</td>\n",
       "      <td>241298</td>\n",
       "      <td>241298</td>\n",
       "      <td>...</td>\n",
       "      <td>241298</td>\n",
       "      <td>241298</td>\n",
       "      <td>241298</td>\n",
       "      <td>241298</td>\n",
       "      <td>241298</td>\n",
       "      <td>241298</td>\n",
       "      <td>241298</td>\n",
       "      <td>241298</td>\n",
       "      <td>241298</td>\n",
       "      <td>241298</td>\n",
       "    </tr>\n",
       "  </tbody>\n",
       "</table>\n",
       "<p>4 rows × 25 columns</p>\n",
       "</div>\n",
       "      <button class=\"colab-df-convert\" onclick=\"convertToInteractive('df-c72708d6-47f3-4cb2-aa44-56319cbe09f9')\"\n",
       "              title=\"Convert this dataframe to an interactive table.\"\n",
       "              style=\"display:none;\">\n",
       "        \n",
       "  <svg xmlns=\"http://www.w3.org/2000/svg\" height=\"24px\"viewBox=\"0 0 24 24\"\n",
       "       width=\"24px\">\n",
       "    <path d=\"M0 0h24v24H0V0z\" fill=\"none\"/>\n",
       "    <path d=\"M18.56 5.44l.94 2.06.94-2.06 2.06-.94-2.06-.94-.94-2.06-.94 2.06-2.06.94zm-11 1L8.5 8.5l.94-2.06 2.06-.94-2.06-.94L8.5 2.5l-.94 2.06-2.06.94zm10 10l.94 2.06.94-2.06 2.06-.94-2.06-.94-.94-2.06-.94 2.06-2.06.94z\"/><path d=\"M17.41 7.96l-1.37-1.37c-.4-.4-.92-.59-1.43-.59-.52 0-1.04.2-1.43.59L10.3 9.45l-7.72 7.72c-.78.78-.78 2.05 0 2.83L4 21.41c.39.39.9.59 1.41.59.51 0 1.02-.2 1.41-.59l7.78-7.78 2.81-2.81c.8-.78.8-2.07 0-2.86zM5.41 20L4 18.59l7.72-7.72 1.47 1.35L5.41 20z\"/>\n",
       "  </svg>\n",
       "      </button>\n",
       "      \n",
       "  <style>\n",
       "    .colab-df-container {\n",
       "      display:flex;\n",
       "      flex-wrap:wrap;\n",
       "      gap: 12px;\n",
       "    }\n",
       "\n",
       "    .colab-df-convert {\n",
       "      background-color: #E8F0FE;\n",
       "      border: none;\n",
       "      border-radius: 50%;\n",
       "      cursor: pointer;\n",
       "      display: none;\n",
       "      fill: #1967D2;\n",
       "      height: 32px;\n",
       "      padding: 0 0 0 0;\n",
       "      width: 32px;\n",
       "    }\n",
       "\n",
       "    .colab-df-convert:hover {\n",
       "      background-color: #E2EBFA;\n",
       "      box-shadow: 0px 1px 2px rgba(60, 64, 67, 0.3), 0px 1px 3px 1px rgba(60, 64, 67, 0.15);\n",
       "      fill: #174EA6;\n",
       "    }\n",
       "\n",
       "    [theme=dark] .colab-df-convert {\n",
       "      background-color: #3B4455;\n",
       "      fill: #D2E3FC;\n",
       "    }\n",
       "\n",
       "    [theme=dark] .colab-df-convert:hover {\n",
       "      background-color: #434B5C;\n",
       "      box-shadow: 0px 1px 3px 1px rgba(0, 0, 0, 0.15);\n",
       "      filter: drop-shadow(0px 1px 2px rgba(0, 0, 0, 0.3));\n",
       "      fill: #FFFFFF;\n",
       "    }\n",
       "  </style>\n",
       "\n",
       "      <script>\n",
       "        const buttonEl =\n",
       "          document.querySelector('#df-c72708d6-47f3-4cb2-aa44-56319cbe09f9 button.colab-df-convert');\n",
       "        buttonEl.style.display =\n",
       "          google.colab.kernel.accessAllowed ? 'block' : 'none';\n",
       "\n",
       "        async function convertToInteractive(key) {\n",
       "          const element = document.querySelector('#df-c72708d6-47f3-4cb2-aa44-56319cbe09f9');\n",
       "          const dataTable =\n",
       "            await google.colab.kernel.invokeFunction('convertToInteractive',\n",
       "                                                     [key], {});\n",
       "          if (!dataTable) return;\n",
       "\n",
       "          const docLinkHtml = 'Like what you see? Visit the ' +\n",
       "            '<a target=\"_blank\" href=https://colab.research.google.com/notebooks/data_table.ipynb>data table notebook</a>'\n",
       "            + ' to learn more about interactive tables.';\n",
       "          element.innerHTML = '';\n",
       "          dataTable['output_type'] = 'display_data';\n",
       "          await google.colab.output.renderOutput(dataTable, element);\n",
       "          const docLink = document.createElement('div');\n",
       "          docLink.innerHTML = docLinkHtml;\n",
       "          element.appendChild(docLink);\n",
       "        }\n",
       "      </script>\n",
       "    </div>\n",
       "  </div>\n",
       "  "
      ],
      "text/plain": [
       "        ticker company timestamp financial stability and liquidity  \\\n",
       "count   241298  241298    241298                            241298   \n",
       "unique       1       1         1                                 1   \n",
       "top      False   False     False                             False   \n",
       "freq    241298  241298    241298                            241298   \n",
       "\n",
       "       strong management team competitive advantage market potential  \\\n",
       "count                  241298                241298           241298   \n",
       "unique                      1                     1                1   \n",
       "top                     False                 False            False   \n",
       "freq                   241298                241298           241298   \n",
       "\n",
       "       growth prospects diversification within the company  \\\n",
       "count            241298                             241298   \n",
       "unique                1                                  1   \n",
       "top               False                              False   \n",
       "freq             241298                             241298   \n",
       "\n",
       "       sustainable business model  ...     low   close  volume  return  \\\n",
       "count                      241298  ...  241298  241298  241298  241298   \n",
       "unique                          1  ...       1       1       1       1   \n",
       "top                         False  ...   False   False   False   False   \n",
       "freq                       241298  ...  241298  241298  241298  241298   \n",
       "\n",
       "           SPX calculated_price       P P_future       R R_future  \n",
       "count   241298           241298  241298   241298  241298   241298  \n",
       "unique       1                1       1        1       1        1  \n",
       "top      False            False   False    False   False    False  \n",
       "freq    241298           241298  241298   241298  241298   241298  \n",
       "\n",
       "[4 rows x 25 columns]"
      ]
     },
     "execution_count": 4,
     "metadata": {},
     "output_type": "execute_result"
    }
   ],
   "source": [
    "# 결측치 확인 - 없음\n",
    "df.isna().describe()"
   ]
  },
  {
   "cell_type": "code",
   "execution_count": 5,
   "metadata": {
    "colab": {
     "base_uri": "https://localhost:8080/"
    },
    "id": "amRDNoR52ewT",
    "outputId": "7c35df89-1dee-45da-d6b0-6831d38d370c"
   },
   "outputs": [
    {
     "data": {
      "text/plain": [
       "str"
      ]
     },
     "execution_count": 5,
     "metadata": {},
     "output_type": "execute_result"
    }
   ],
   "source": [
    "# list가 아닌 str로 저장되어 있음\n",
    "type(df['R_future'][33])"
   ]
  },
  {
   "cell_type": "code",
   "execution_count": 6,
   "metadata": {
    "colab": {
     "base_uri": "https://localhost:8080/"
    },
    "id": "80ufgdA74tcO",
    "outputId": "56b19c04-fda2-4e78-d7d3-1cebb918684b"
   },
   "outputs": [
    {
     "data": {
      "text/plain": [
       "Index(['ticker', 'company', 'timestamp', 'financial stability and liquidity',\n",
       "       'strong management team', 'competitive advantage', 'market potential',\n",
       "       'growth prospects', 'diversification within the company',\n",
       "       'sustainable business model', 'innovation and R&D',\n",
       "       'corporate governance', 'strong brand recognition', 'open', 'high',\n",
       "       'low', 'close', 'volume', 'return', 'SPX', 'calculated_price', 'P',\n",
       "       'P_future', 'R', 'R_future'],\n",
       "      dtype='object')"
      ]
     },
     "execution_count": 6,
     "metadata": {},
     "output_type": "execute_result"
    }
   ],
   "source": [
    "df.columns"
   ]
  },
  {
   "cell_type": "markdown",
   "metadata": {
    "id": "TH9G6Yh11k39"
   },
   "source": [
    "# Data Preprocessing"
   ]
  },
  {
   "cell_type": "markdown",
   "metadata": {
    "id": "7AKzWZZPLwNx"
   },
   "source": [
    "## 모든 timestamp 정보를 가진 기업만 추리기"
   ]
  },
  {
   "cell_type": "code",
   "execution_count": 7,
   "metadata": {
    "colab": {
     "base_uri": "https://localhost:8080/"
    },
    "id": "nEQeLJ0Om0rP",
    "outputId": "588c4ed3-c161-45d9-f450-a390850f2e05"
   },
   "outputs": [
    {
     "data": {
      "text/plain": [
       "Index(['ticker', 'company', 'timestamp', 'financial stability and liquidity',\n",
       "       'strong management team', 'competitive advantage', 'market potential',\n",
       "       'growth prospects', 'diversification within the company',\n",
       "       'sustainable business model', 'innovation and R&D',\n",
       "       'corporate governance', 'strong brand recognition', 'open', 'high',\n",
       "       'low', 'close', 'volume', 'return', 'SPX', 'calculated_price', 'P',\n",
       "       'P_future', 'R', 'R_future'],\n",
       "      dtype='object')"
      ]
     },
     "execution_count": 7,
     "metadata": {},
     "output_type": "execute_result"
    }
   ],
   "source": [
    "# 우리가 가지고 있는 모든 timestamp(509개)의 정보를 가진 기업만 다룰 예정\n",
    "# 지워야 하는 기업의 리스트\n",
    "delete_ticker_list = []\n",
    "\n",
    "# for문으로 509개의 정보를 가지지 않은 기업 delete_ticker_list에 저장\n",
    "for t in df['ticker'].unique():\n",
    "  if not len(df.loc[df['ticker'] == t, 'timestamp'].values) == 509:\n",
    "      delete_ticker_list.append(t)\n",
    "\n",
    "# delete_ticker_list에 들어있지 않은 기업들만 데려감\n",
    "for ticker in delete_ticker_list:\n",
    "    df = df[df['ticker'] != ticker]\n",
    "\n",
    "df.columns"
   ]
  },
  {
   "cell_type": "markdown",
   "metadata": {
    "id": "YBKKHVLJLwNx"
   },
   "source": [
    "## 정규화"
   ]
  },
  {
   "cell_type": "code",
   "execution_count": 8,
   "metadata": {
    "colab": {
     "base_uri": "https://localhost:8080/",
     "height": 1000
    },
    "id": "JA0aWn_pLwNx",
    "outputId": "77c23dbd-6019-4e59-e551-143c8ba0ee6c"
   },
   "outputs": [
    {
     "name": "stdout",
     "output_type": "stream",
     "text": [
      "['ticker', 'timestamp', 'financial stability and liquidity', 'strong management team', 'competitive advantage', 'market potential', 'growth prospects', 'diversification within the company', 'sustainable business model', 'innovation and R&D', 'corporate governance', 'strong brand recognition', 'open', 'high', 'low', 'close', 'volume', 'return', 'SPX', 'calculated_price']\n",
      "['financial stability and liquidity', 'strong management team', 'competitive advantage', 'market potential', 'growth prospects', 'diversification within the company', 'sustainable business model', 'innovation and R&D', 'corporate governance', 'strong brand recognition', 'calculated_price', 'return']\n",
      "['open', 'high', 'low', 'close']\n"
     ]
    },
    {
     "data": {
      "text/html": [
       "\n",
       "  <div id=\"df-18c49936-a674-45fc-8a26-7bf23e3eb507\">\n",
       "    <div class=\"colab-df-container\">\n",
       "      <div>\n",
       "<style scoped>\n",
       "    .dataframe tbody tr th:only-of-type {\n",
       "        vertical-align: middle;\n",
       "    }\n",
       "\n",
       "    .dataframe tbody tr th {\n",
       "        vertical-align: top;\n",
       "    }\n",
       "\n",
       "    .dataframe thead th {\n",
       "        text-align: right;\n",
       "    }\n",
       "</style>\n",
       "<table border=\"1\" class=\"dataframe\">\n",
       "  <thead>\n",
       "    <tr style=\"text-align: right;\">\n",
       "      <th></th>\n",
       "      <th>ticker</th>\n",
       "      <th>company</th>\n",
       "      <th>timestamp</th>\n",
       "      <th>financial stability and liquidity</th>\n",
       "      <th>strong management team</th>\n",
       "      <th>competitive advantage</th>\n",
       "      <th>market potential</th>\n",
       "      <th>growth prospects</th>\n",
       "      <th>diversification within the company</th>\n",
       "      <th>sustainable business model</th>\n",
       "      <th>...</th>\n",
       "      <th>low</th>\n",
       "      <th>close</th>\n",
       "      <th>volume</th>\n",
       "      <th>return</th>\n",
       "      <th>SPX</th>\n",
       "      <th>calculated_price</th>\n",
       "      <th>P</th>\n",
       "      <th>P_future</th>\n",
       "      <th>R</th>\n",
       "      <th>R_future</th>\n",
       "    </tr>\n",
       "  </thead>\n",
       "  <tbody>\n",
       "    <tr>\n",
       "      <th>0</th>\n",
       "      <td>MMM</td>\n",
       "      <td>3M</td>\n",
       "      <td>2013-05-03</td>\n",
       "      <td>0.714286</td>\n",
       "      <td>0.714286</td>\n",
       "      <td>0.7</td>\n",
       "      <td>0.571429</td>\n",
       "      <td>0.411765</td>\n",
       "      <td>0.916667</td>\n",
       "      <td>0.818182</td>\n",
       "      <td>...</td>\n",
       "      <td>0.000000</td>\n",
       "      <td>0.002051</td>\n",
       "      <td>16064000.0</td>\n",
       "      <td>0.123858</td>\n",
       "      <td>1614.42</td>\n",
       "      <td>0.018047</td>\n",
       "      <td>[102.66, 103.23, 103.54, 103.77, 105.71, 106.4...</td>\n",
       "      <td>[110.48, 111.39, 110.27, 110.27, 111.11, 111.0...</td>\n",
       "      <td>[0.010831, 0.0055523, 0.003003, 0.0022214, 0.0...</td>\n",
       "      <td>[0.0245757, 0.0082368, -0.0100548, 0.0, 0.0076...</td>\n",
       "    </tr>\n",
       "    <tr>\n",
       "      <th>1</th>\n",
       "      <td>MMM</td>\n",
       "      <td>3M</td>\n",
       "      <td>2013-05-10</td>\n",
       "      <td>0.714286</td>\n",
       "      <td>0.714286</td>\n",
       "      <td>0.7</td>\n",
       "      <td>0.571429</td>\n",
       "      <td>0.411765</td>\n",
       "      <td>0.916667</td>\n",
       "      <td>0.818182</td>\n",
       "      <td>...</td>\n",
       "      <td>0.032070</td>\n",
       "      <td>0.019588</td>\n",
       "      <td>14544300.0</td>\n",
       "      <td>0.122070</td>\n",
       "      <td>1633.70</td>\n",
       "      <td>0.018494</td>\n",
       "      <td>[103.23, 103.54, 103.77, 105.71, 106.4, 106.42...</td>\n",
       "      <td>[111.39, 110.27, 110.27, 111.11, 111.03, 109.5...</td>\n",
       "      <td>[0.0055523, 0.003003, 0.0022214, 0.0186952, 0....</td>\n",
       "      <td>[0.0082368, -0.0100548, 0.0, 0.0076177, -0.000...</td>\n",
       "    </tr>\n",
       "    <tr>\n",
       "      <th>2</th>\n",
       "      <td>MMM</td>\n",
       "      <td>3M</td>\n",
       "      <td>2013-05-17</td>\n",
       "      <td>0.714286</td>\n",
       "      <td>0.714286</td>\n",
       "      <td>0.7</td>\n",
       "      <td>0.571429</td>\n",
       "      <td>0.411765</td>\n",
       "      <td>0.916667</td>\n",
       "      <td>0.818182</td>\n",
       "      <td>...</td>\n",
       "      <td>0.047964</td>\n",
       "      <td>0.025610</td>\n",
       "      <td>14184300.0</td>\n",
       "      <td>0.120035</td>\n",
       "      <td>1667.47</td>\n",
       "      <td>0.018647</td>\n",
       "      <td>[103.54, 103.77, 105.71, 106.4, 106.42, 106.31...</td>\n",
       "      <td>[110.27, 110.27, 111.11, 111.03, 109.59, 109.3...</td>\n",
       "      <td>[0.003003, 0.0022214, 0.0186952, 0.0065273, 0....</td>\n",
       "      <td>[-0.0100548, 0.0, 0.0076177, -0.00072, -0.0129...</td>\n",
       "    </tr>\n",
       "    <tr>\n",
       "      <th>3</th>\n",
       "      <td>MMM</td>\n",
       "      <td>3M</td>\n",
       "      <td>2013-05-24</td>\n",
       "      <td>0.714286</td>\n",
       "      <td>0.714286</td>\n",
       "      <td>0.7</td>\n",
       "      <td>0.571429</td>\n",
       "      <td>0.411765</td>\n",
       "      <td>0.916667</td>\n",
       "      <td>0.818182</td>\n",
       "      <td>...</td>\n",
       "      <td>0.046417</td>\n",
       "      <td>0.018199</td>\n",
       "      <td>13560600.0</td>\n",
       "      <td>0.117756</td>\n",
       "      <td>1649.60</td>\n",
       "      <td>0.018458</td>\n",
       "      <td>[103.77, 105.71, 106.4, 106.42, 106.31, 105.78...</td>\n",
       "      <td>[110.27, 111.11, 111.03, 109.59, 109.35, 111.5...</td>\n",
       "      <td>[0.0022214, 0.0186952, 0.0065273, 0.000188, -0...</td>\n",
       "      <td>[0.0, 0.0076177, -0.00072, -0.0129695, -0.0021...</td>\n",
       "    </tr>\n",
       "    <tr>\n",
       "      <th>4</th>\n",
       "      <td>MMM</td>\n",
       "      <td>3M</td>\n",
       "      <td>2013-05-31</td>\n",
       "      <td>0.714286</td>\n",
       "      <td>0.714286</td>\n",
       "      <td>0.7</td>\n",
       "      <td>0.571429</td>\n",
       "      <td>0.411765</td>\n",
       "      <td>0.916667</td>\n",
       "      <td>0.818182</td>\n",
       "      <td>...</td>\n",
       "      <td>0.051902</td>\n",
       "      <td>0.018199</td>\n",
       "      <td>10642500.0</td>\n",
       "      <td>0.119009</td>\n",
       "      <td>1630.74</td>\n",
       "      <td>0.018458</td>\n",
       "      <td>[105.71, 106.4, 106.42, 106.31, 105.78, 107.68...</td>\n",
       "      <td>[111.11, 111.03, 109.59, 109.35, 111.54, 115.1...</td>\n",
       "      <td>[0.0186952, 0.0065273, 0.000188, -0.0010336, -...</td>\n",
       "      <td>[0.0076177, -0.00072, -0.0129695, -0.00219, 0....</td>\n",
       "    </tr>\n",
       "    <tr>\n",
       "      <th>...</th>\n",
       "      <td>...</td>\n",
       "      <td>...</td>\n",
       "      <td>...</td>\n",
       "      <td>...</td>\n",
       "      <td>...</td>\n",
       "      <td>...</td>\n",
       "      <td>...</td>\n",
       "      <td>...</td>\n",
       "      <td>...</td>\n",
       "      <td>...</td>\n",
       "      <td>...</td>\n",
       "      <td>...</td>\n",
       "      <td>...</td>\n",
       "      <td>...</td>\n",
       "      <td>...</td>\n",
       "      <td>...</td>\n",
       "      <td>...</td>\n",
       "      <td>...</td>\n",
       "      <td>...</td>\n",
       "      <td>...</td>\n",
       "      <td>...</td>\n",
       "    </tr>\n",
       "    <tr>\n",
       "      <th>241293</th>\n",
       "      <td>ZTS</td>\n",
       "      <td>Zoetis</td>\n",
       "      <td>2022-12-30</td>\n",
       "      <td>0.857143</td>\n",
       "      <td>0.892857</td>\n",
       "      <td>0.8</td>\n",
       "      <td>0.714286</td>\n",
       "      <td>0.647059</td>\n",
       "      <td>0.666667</td>\n",
       "      <td>0.909091</td>\n",
       "      <td>...</td>\n",
       "      <td>0.537044</td>\n",
       "      <td>0.547929</td>\n",
       "      <td>4950165.0</td>\n",
       "      <td>0.119684</td>\n",
       "      <td>3839.50</td>\n",
       "      <td>0.024571</td>\n",
       "      <td>[147.37, 145.4, 147.21, 153.28, 133.67, 148.55...</td>\n",
       "      <td>[147.64, 160.92, 163.81, 165.18, 167.8, 158.33...</td>\n",
       "      <td>[-0.0062041, -0.0133677, 0.0124484, 0.0412336,...</td>\n",
       "      <td>[0.0074377, 0.0899485, 0.0179592, 0.0083633, 0...</td>\n",
       "    </tr>\n",
       "    <tr>\n",
       "      <th>241294</th>\n",
       "      <td>ZTS</td>\n",
       "      <td>Zoetis</td>\n",
       "      <td>2023-01-06</td>\n",
       "      <td>0.857143</td>\n",
       "      <td>0.892857</td>\n",
       "      <td>0.8</td>\n",
       "      <td>0.714286</td>\n",
       "      <td>0.647059</td>\n",
       "      <td>0.666667</td>\n",
       "      <td>0.909091</td>\n",
       "      <td>...</td>\n",
       "      <td>0.527507</td>\n",
       "      <td>0.552984</td>\n",
       "      <td>6958752.0</td>\n",
       "      <td>0.119935</td>\n",
       "      <td>3895.08</td>\n",
       "      <td>0.024755</td>\n",
       "      <td>[145.4, 147.21, 153.28, 133.67, 148.55, 145.64...</td>\n",
       "      <td>[160.92, 163.81, 165.18, 167.8, 158.33, 172.03...</td>\n",
       "      <td>[-0.0133677, 0.0124484, 0.0412336, -0.1279358,...</td>\n",
       "      <td>[0.0899485, 0.0179592, 0.0083633, 0.0158615, -...</td>\n",
       "    </tr>\n",
       "    <tr>\n",
       "      <th>241295</th>\n",
       "      <td>ZTS</td>\n",
       "      <td>Zoetis</td>\n",
       "      <td>2023-01-13</td>\n",
       "      <td>0.857143</td>\n",
       "      <td>0.892857</td>\n",
       "      <td>0.8</td>\n",
       "      <td>0.714286</td>\n",
       "      <td>0.647059</td>\n",
       "      <td>0.666667</td>\n",
       "      <td>0.909091</td>\n",
       "      <td>...</td>\n",
       "      <td>0.553002</td>\n",
       "      <td>0.614571</td>\n",
       "      <td>12618342.0</td>\n",
       "      <td>0.130215</td>\n",
       "      <td>3999.09</td>\n",
       "      <td>0.026992</td>\n",
       "      <td>[147.21, 153.28, 133.67, 148.55, 145.64, 150.1...</td>\n",
       "      <td>[163.81, 165.18, 167.8, 158.33, 172.03, 166.33...</td>\n",
       "      <td>[0.0124484, 0.0412336, -0.1279358, 0.1113189, ...</td>\n",
       "      <td>[0.0179592, 0.0083633, 0.0158615, -0.0564362, ...</td>\n",
       "    </tr>\n",
       "    <tr>\n",
       "      <th>241296</th>\n",
       "      <td>ZTS</td>\n",
       "      <td>Zoetis</td>\n",
       "      <td>2023-01-20</td>\n",
       "      <td>0.857143</td>\n",
       "      <td>0.892857</td>\n",
       "      <td>0.8</td>\n",
       "      <td>0.714286</td>\n",
       "      <td>0.647059</td>\n",
       "      <td>0.666667</td>\n",
       "      <td>0.909091</td>\n",
       "      <td>...</td>\n",
       "      <td>0.607481</td>\n",
       "      <td>0.627974</td>\n",
       "      <td>13851912.0</td>\n",
       "      <td>0.121246</td>\n",
       "      <td>3972.61</td>\n",
       "      <td>0.027479</td>\n",
       "      <td>[153.28, 133.67, 148.55, 145.64, 150.1, 157.42...</td>\n",
       "      <td>[165.18, 167.8, 158.33, 172.03, 166.33, 170.56...</td>\n",
       "      <td>[0.0412336, -0.1279358, 0.1113189, -0.0195894,...</td>\n",
       "      <td>[0.0083633, 0.0158615, -0.0564362, 0.0865281, ...</td>\n",
       "    </tr>\n",
       "    <tr>\n",
       "      <th>241297</th>\n",
       "      <td>ZTS</td>\n",
       "      <td>Zoetis</td>\n",
       "      <td>2023-01-27</td>\n",
       "      <td>0.857143</td>\n",
       "      <td>0.892857</td>\n",
       "      <td>0.8</td>\n",
       "      <td>0.714286</td>\n",
       "      <td>0.647059</td>\n",
       "      <td>0.666667</td>\n",
       "      <td>0.909091</td>\n",
       "      <td>...</td>\n",
       "      <td>0.619810</td>\n",
       "      <td>0.634327</td>\n",
       "      <td>10253534.0</td>\n",
       "      <td>0.120051</td>\n",
       "      <td>4070.56</td>\n",
       "      <td>0.027710</td>\n",
       "      <td>[133.67, 148.55, 145.64, 150.1, 157.42, 153.39...</td>\n",
       "      <td>[167.8, 158.33, 172.03, 166.33, 170.56, 161.53...</td>\n",
       "      <td>[-0.1279358, 0.1113189, -0.0195894, 0.0306235,...</td>\n",
       "      <td>[0.0158615, -0.0564362, 0.0865281, -0.0331338,...</td>\n",
       "    </tr>\n",
       "  </tbody>\n",
       "</table>\n",
       "<p>227014 rows × 25 columns</p>\n",
       "</div>\n",
       "      <button class=\"colab-df-convert\" onclick=\"convertToInteractive('df-18c49936-a674-45fc-8a26-7bf23e3eb507')\"\n",
       "              title=\"Convert this dataframe to an interactive table.\"\n",
       "              style=\"display:none;\">\n",
       "        \n",
       "  <svg xmlns=\"http://www.w3.org/2000/svg\" height=\"24px\"viewBox=\"0 0 24 24\"\n",
       "       width=\"24px\">\n",
       "    <path d=\"M0 0h24v24H0V0z\" fill=\"none\"/>\n",
       "    <path d=\"M18.56 5.44l.94 2.06.94-2.06 2.06-.94-2.06-.94-.94-2.06-.94 2.06-2.06.94zm-11 1L8.5 8.5l.94-2.06 2.06-.94-2.06-.94L8.5 2.5l-.94 2.06-2.06.94zm10 10l.94 2.06.94-2.06 2.06-.94-2.06-.94-.94-2.06-.94 2.06-2.06.94z\"/><path d=\"M17.41 7.96l-1.37-1.37c-.4-.4-.92-.59-1.43-.59-.52 0-1.04.2-1.43.59L10.3 9.45l-7.72 7.72c-.78.78-.78 2.05 0 2.83L4 21.41c.39.39.9.59 1.41.59.51 0 1.02-.2 1.41-.59l7.78-7.78 2.81-2.81c.8-.78.8-2.07 0-2.86zM5.41 20L4 18.59l7.72-7.72 1.47 1.35L5.41 20z\"/>\n",
       "  </svg>\n",
       "      </button>\n",
       "      \n",
       "  <style>\n",
       "    .colab-df-container {\n",
       "      display:flex;\n",
       "      flex-wrap:wrap;\n",
       "      gap: 12px;\n",
       "    }\n",
       "\n",
       "    .colab-df-convert {\n",
       "      background-color: #E8F0FE;\n",
       "      border: none;\n",
       "      border-radius: 50%;\n",
       "      cursor: pointer;\n",
       "      display: none;\n",
       "      fill: #1967D2;\n",
       "      height: 32px;\n",
       "      padding: 0 0 0 0;\n",
       "      width: 32px;\n",
       "    }\n",
       "\n",
       "    .colab-df-convert:hover {\n",
       "      background-color: #E2EBFA;\n",
       "      box-shadow: 0px 1px 2px rgba(60, 64, 67, 0.3), 0px 1px 3px 1px rgba(60, 64, 67, 0.15);\n",
       "      fill: #174EA6;\n",
       "    }\n",
       "\n",
       "    [theme=dark] .colab-df-convert {\n",
       "      background-color: #3B4455;\n",
       "      fill: #D2E3FC;\n",
       "    }\n",
       "\n",
       "    [theme=dark] .colab-df-convert:hover {\n",
       "      background-color: #434B5C;\n",
       "      box-shadow: 0px 1px 3px 1px rgba(0, 0, 0, 0.15);\n",
       "      filter: drop-shadow(0px 1px 2px rgba(0, 0, 0, 0.3));\n",
       "      fill: #FFFFFF;\n",
       "    }\n",
       "  </style>\n",
       "\n",
       "      <script>\n",
       "        const buttonEl =\n",
       "          document.querySelector('#df-18c49936-a674-45fc-8a26-7bf23e3eb507 button.colab-df-convert');\n",
       "        buttonEl.style.display =\n",
       "          google.colab.kernel.accessAllowed ? 'block' : 'none';\n",
       "\n",
       "        async function convertToInteractive(key) {\n",
       "          const element = document.querySelector('#df-18c49936-a674-45fc-8a26-7bf23e3eb507');\n",
       "          const dataTable =\n",
       "            await google.colab.kernel.invokeFunction('convertToInteractive',\n",
       "                                                     [key], {});\n",
       "          if (!dataTable) return;\n",
       "\n",
       "          const docLinkHtml = 'Like what you see? Visit the ' +\n",
       "            '<a target=\"_blank\" href=https://colab.research.google.com/notebooks/data_table.ipynb>data table notebook</a>'\n",
       "            + ' to learn more about interactive tables.';\n",
       "          element.innerHTML = '';\n",
       "          dataTable['output_type'] = 'display_data';\n",
       "          await google.colab.output.renderOutput(dataTable, element);\n",
       "          const docLink = document.createElement('div');\n",
       "          docLink.innerHTML = docLinkHtml;\n",
       "          element.appendChild(docLink);\n",
       "        }\n",
       "      </script>\n",
       "    </div>\n",
       "  </div>\n",
       "  "
      ],
      "text/plain": [
       "       ticker company   timestamp  financial stability and liquidity  \\\n",
       "0         MMM      3M  2013-05-03                           0.714286   \n",
       "1         MMM      3M  2013-05-10                           0.714286   \n",
       "2         MMM      3M  2013-05-17                           0.714286   \n",
       "3         MMM      3M  2013-05-24                           0.714286   \n",
       "4         MMM      3M  2013-05-31                           0.714286   \n",
       "...       ...     ...         ...                                ...   \n",
       "241293    ZTS  Zoetis  2022-12-30                           0.857143   \n",
       "241294    ZTS  Zoetis  2023-01-06                           0.857143   \n",
       "241295    ZTS  Zoetis  2023-01-13                           0.857143   \n",
       "241296    ZTS  Zoetis  2023-01-20                           0.857143   \n",
       "241297    ZTS  Zoetis  2023-01-27                           0.857143   \n",
       "\n",
       "        strong management team  competitive advantage  market potential  \\\n",
       "0                     0.714286                    0.7          0.571429   \n",
       "1                     0.714286                    0.7          0.571429   \n",
       "2                     0.714286                    0.7          0.571429   \n",
       "3                     0.714286                    0.7          0.571429   \n",
       "4                     0.714286                    0.7          0.571429   \n",
       "...                        ...                    ...               ...   \n",
       "241293                0.892857                    0.8          0.714286   \n",
       "241294                0.892857                    0.8          0.714286   \n",
       "241295                0.892857                    0.8          0.714286   \n",
       "241296                0.892857                    0.8          0.714286   \n",
       "241297                0.892857                    0.8          0.714286   \n",
       "\n",
       "        growth prospects  diversification within the company  \\\n",
       "0               0.411765                            0.916667   \n",
       "1               0.411765                            0.916667   \n",
       "2               0.411765                            0.916667   \n",
       "3               0.411765                            0.916667   \n",
       "4               0.411765                            0.916667   \n",
       "...                  ...                                 ...   \n",
       "241293          0.647059                            0.666667   \n",
       "241294          0.647059                            0.666667   \n",
       "241295          0.647059                            0.666667   \n",
       "241296          0.647059                            0.666667   \n",
       "241297          0.647059                            0.666667   \n",
       "\n",
       "        sustainable business model  ...       low     close      volume  \\\n",
       "0                         0.818182  ...  0.000000  0.002051  16064000.0   \n",
       "1                         0.818182  ...  0.032070  0.019588  14544300.0   \n",
       "2                         0.818182  ...  0.047964  0.025610  14184300.0   \n",
       "3                         0.818182  ...  0.046417  0.018199  13560600.0   \n",
       "4                         0.818182  ...  0.051902  0.018199  10642500.0   \n",
       "...                            ...  ...       ...       ...         ...   \n",
       "241293                    0.909091  ...  0.537044  0.547929   4950165.0   \n",
       "241294                    0.909091  ...  0.527507  0.552984   6958752.0   \n",
       "241295                    0.909091  ...  0.553002  0.614571  12618342.0   \n",
       "241296                    0.909091  ...  0.607481  0.627974  13851912.0   \n",
       "241297                    0.909091  ...  0.619810  0.634327  10253534.0   \n",
       "\n",
       "          return      SPX  calculated_price  \\\n",
       "0       0.123858  1614.42          0.018047   \n",
       "1       0.122070  1633.70          0.018494   \n",
       "2       0.120035  1667.47          0.018647   \n",
       "3       0.117756  1649.60          0.018458   \n",
       "4       0.119009  1630.74          0.018458   \n",
       "...          ...      ...               ...   \n",
       "241293  0.119684  3839.50          0.024571   \n",
       "241294  0.119935  3895.08          0.024755   \n",
       "241295  0.130215  3999.09          0.026992   \n",
       "241296  0.121246  3972.61          0.027479   \n",
       "241297  0.120051  4070.56          0.027710   \n",
       "\n",
       "                                                        P  \\\n",
       "0       [102.66, 103.23, 103.54, 103.77, 105.71, 106.4...   \n",
       "1       [103.23, 103.54, 103.77, 105.71, 106.4, 106.42...   \n",
       "2       [103.54, 103.77, 105.71, 106.4, 106.42, 106.31...   \n",
       "3       [103.77, 105.71, 106.4, 106.42, 106.31, 105.78...   \n",
       "4       [105.71, 106.4, 106.42, 106.31, 105.78, 107.68...   \n",
       "...                                                   ...   \n",
       "241293  [147.37, 145.4, 147.21, 153.28, 133.67, 148.55...   \n",
       "241294  [145.4, 147.21, 153.28, 133.67, 148.55, 145.64...   \n",
       "241295  [147.21, 153.28, 133.67, 148.55, 145.64, 150.1...   \n",
       "241296  [153.28, 133.67, 148.55, 145.64, 150.1, 157.42...   \n",
       "241297  [133.67, 148.55, 145.64, 150.1, 157.42, 153.39...   \n",
       "\n",
       "                                                 P_future  \\\n",
       "0       [110.48, 111.39, 110.27, 110.27, 111.11, 111.0...   \n",
       "1       [111.39, 110.27, 110.27, 111.11, 111.03, 109.5...   \n",
       "2       [110.27, 110.27, 111.11, 111.03, 109.59, 109.3...   \n",
       "3       [110.27, 111.11, 111.03, 109.59, 109.35, 111.5...   \n",
       "4       [111.11, 111.03, 109.59, 109.35, 111.54, 115.1...   \n",
       "...                                                   ...   \n",
       "241293  [147.64, 160.92, 163.81, 165.18, 167.8, 158.33...   \n",
       "241294  [160.92, 163.81, 165.18, 167.8, 158.33, 172.03...   \n",
       "241295  [163.81, 165.18, 167.8, 158.33, 172.03, 166.33...   \n",
       "241296  [165.18, 167.8, 158.33, 172.03, 166.33, 170.56...   \n",
       "241297  [167.8, 158.33, 172.03, 166.33, 170.56, 161.53...   \n",
       "\n",
       "                                                        R  \\\n",
       "0       [0.010831, 0.0055523, 0.003003, 0.0022214, 0.0...   \n",
       "1       [0.0055523, 0.003003, 0.0022214, 0.0186952, 0....   \n",
       "2       [0.003003, 0.0022214, 0.0186952, 0.0065273, 0....   \n",
       "3       [0.0022214, 0.0186952, 0.0065273, 0.000188, -0...   \n",
       "4       [0.0186952, 0.0065273, 0.000188, -0.0010336, -...   \n",
       "...                                                   ...   \n",
       "241293  [-0.0062041, -0.0133677, 0.0124484, 0.0412336,...   \n",
       "241294  [-0.0133677, 0.0124484, 0.0412336, -0.1279358,...   \n",
       "241295  [0.0124484, 0.0412336, -0.1279358, 0.1113189, ...   \n",
       "241296  [0.0412336, -0.1279358, 0.1113189, -0.0195894,...   \n",
       "241297  [-0.1279358, 0.1113189, -0.0195894, 0.0306235,...   \n",
       "\n",
       "                                                 R_future  \n",
       "0       [0.0245757, 0.0082368, -0.0100548, 0.0, 0.0076...  \n",
       "1       [0.0082368, -0.0100548, 0.0, 0.0076177, -0.000...  \n",
       "2       [-0.0100548, 0.0, 0.0076177, -0.00072, -0.0129...  \n",
       "3       [0.0, 0.0076177, -0.00072, -0.0129695, -0.0021...  \n",
       "4       [0.0076177, -0.00072, -0.0129695, -0.00219, 0....  \n",
       "...                                                   ...  \n",
       "241293  [0.0074377, 0.0899485, 0.0179592, 0.0083633, 0...  \n",
       "241294  [0.0899485, 0.0179592, 0.0083633, 0.0158615, -...  \n",
       "241295  [0.0179592, 0.0083633, 0.0158615, -0.0564362, ...  \n",
       "241296  [0.0083633, 0.0158615, -0.0564362, 0.0865281, ...  \n",
       "241297  [0.0158615, -0.0564362, 0.0865281, -0.0331338,...  \n",
       "\n",
       "[227014 rows x 25 columns]"
      ]
     },
     "execution_count": 8,
     "metadata": {},
     "output_type": "execute_result"
    }
   ],
   "source": [
    "# 정규화 \n",
    "## GPT점수는 100점만점 척도이므로 기업별로 다르지 않음 따라서 통합 정규화\n",
    "## open, high, low, close은 주가관련인데, 이는 기업별로 다르므로 기업별로 정규화 필요\n",
    "## SPX은 기업별로 다르지 않음 따라서 통합 정규화\n",
    "## volume은 기업별로 다르지만 통합 정규화가 올바름\n",
    "## return은 따로 정규화할 필요는 없을거 같음\n",
    "## 정규화는 편의를 위해 MinMaxScaler만 사용\n",
    "from sklearn.preprocessing import MinMaxScaler\n",
    "import numpy as np\n",
    "\n",
    "scaler = MinMaxScaler()\n",
    "unique_tickers = df['ticker'].unique()\n",
    "\n",
    "columns_lists = df.columns.to_list()\n",
    "columns_list = []\n",
    "for c in columns_lists:\n",
    "    if c not in ['company', 'P', 'P_future', 'R', 'R_future']:\n",
    "        columns_list.append(c)\n",
    "print(columns_list)\n",
    "total_list = columns_list[2:12] + [columns_list[-1]] + [columns_list[-3]]\n",
    "print(total_list)\n",
    "seperate_list = columns_list[12:16]\n",
    "print(seperate_list)\n",
    "\n",
    "# 통합 정규화 : spx, gpt, volume\n",
    "for i in total_list:\n",
    "    df[i] = scaler.fit_transform(df[i].values.reshape(-1, 1))\n",
    "\n",
    "# 개별기업별 정규화 : open, high, low, close\t\n",
    "for i in unique_tickers:\n",
    "    for j in seperate_list:\n",
    "        mask = (df['ticker'] == i)\n",
    "        df.loc[mask, j] = scaler.fit_transform(df.loc[mask, j].values.reshape(-1, 1))\n",
    "\n",
    "df"
   ]
  },
  {
   "cell_type": "markdown",
   "metadata": {
    "id": "wYSIavNyLwNy"
   },
   "source": [
    "## sequential 정보 처리"
   ]
  },
  {
   "cell_type": "markdown",
   "metadata": {
    "id": "LeV_Z6P3LwNy"
   },
   "source": [
    "### 'timestamp' => 'year', 'month', 'day'"
   ]
  },
  {
   "cell_type": "code",
   "execution_count": 9,
   "metadata": {
    "colab": {
     "base_uri": "https://localhost:8080/"
    },
    "id": "fMxtVtedHog_",
    "outputId": "ce0f385d-cbec-417e-8790-f926993b4a3e"
   },
   "outputs": [
    {
     "data": {
      "text/plain": [
       "Index(['ticker', 'company', 'timestamp', 'financial stability and liquidity',\n",
       "       'strong management team', 'competitive advantage', 'market potential',\n",
       "       'growth prospects', 'diversification within the company',\n",
       "       'sustainable business model', 'innovation and R&D',\n",
       "       'corporate governance', 'strong brand recognition', 'open', 'high',\n",
       "       'low', 'close', 'volume', 'return', 'SPX', 'calculated_price', 'P',\n",
       "       'P_future', 'R', 'R_future', 'year', 'month', 'day'],\n",
       "      dtype='object')"
      ]
     },
     "execution_count": 9,
     "metadata": {},
     "output_type": "execute_result"
    }
   ],
   "source": [
    "# 'date' 열을 datetime 타입으로 변환\n",
    "df['timestamp'] = pd.to_datetime(df['timestamp'])\n",
    "\n",
    "# 'year', 'month', 'day' 열 추출\n",
    "df['year'] = df['timestamp'].dt.year\n",
    "df['month'] = df['timestamp'].dt.month\n",
    "df['day'] = df['timestamp'].dt.day\n",
    "\n",
    "df.columns"
   ]
  },
  {
   "cell_type": "markdown",
   "metadata": {
    "id": "Zm_AW0kBLwNy"
   },
   "source": [
    "### P, R to each columns"
   ]
  },
  {
   "cell_type": "code",
   "execution_count": 10,
   "metadata": {
    "id": "feOk7RM3GqaB"
   },
   "outputs": [],
   "source": [
    "# P, P_future, R, R_future는 string을 value로 가지므로, 우리의 원 목적에 맞게 list로 형변환 진행\n",
    "\n",
    "import ast\n",
    "\n",
    "df['P'] = df['P'].apply(ast.literal_eval)\n",
    "df['P_future'] = df['P_future'].apply(ast.literal_eval)\n",
    "df['R'] = df['R'].apply(ast.literal_eval)\n",
    "df['R_future'] = df['R_future'].apply(ast.literal_eval)"
   ]
  },
  {
   "cell_type": "code",
   "execution_count": 11,
   "metadata": {
    "colab": {
     "base_uri": "https://localhost:8080/"
    },
    "id": "s7causHN5pP1",
    "outputId": "3b184578-1c2e-4acf-a66e-a9e4a4df73af"
   },
   "outputs": [
    {
     "name": "stdout",
     "output_type": "stream",
     "text": [
      "['logP_t-12', 'logP_t-11', 'logP_t-10', 'logP_t-9', 'logP_t-8', 'logP_t-7', 'logP_t-6', 'logP_t-5', 'logP_t-4', 'logP_t-3', 'logP_t-2', 'logP_t-1', 'logP_t', 'logP_t+1', 'logP_t+2', 'logP_t+3', 'logP_t+4', 'logP_t+5', 'logP_t+6', 'logP_t+7', 'logP_t+8', 'logP_t+9', 'logP_t+10', 'logP_t+11', 'logP_t+12', 'logP_t+13']\n",
      "['R_t-12', 'R_t-11', 'R_t-10', 'R_t-9', 'R_t-8', 'R_t-7', 'R_t-6', 'R_t-5', 'R_t-4', 'R_t-3', 'R_t-2', 'R_t-1', 'R_t', 'R_t+1', 'R_t+2', 'R_t+3', 'R_t+4', 'R_t+5', 'R_t+6', 'R_t+7', 'R_t+8', 'R_t+9', 'R_t+10', 'R_t+11', 'R_t+12', 'R_t+13']\n"
     ]
    }
   ],
   "source": [
    "# sliding window의 효과를 위해 column명 작업 (새롭게 추가하고 싶은 column명을 리스트로 만들기)\n",
    "# log('P') 준비도 한 번에\n",
    "l = 13\n",
    "\n",
    "lst = [i for i in range(-l+1, l+1)]\n",
    "Pcol = []\n",
    "Rcol= []\n",
    "\n",
    "for j in ['logP', 'R']:\n",
    "  for i in range(2*l):\n",
    "    if lst[i] < 0:\n",
    "      col_name = j + \"_t\" + str(lst[i])\n",
    "      if j == 'logP': Pcol.append(col_name)\n",
    "      else: Rcol.append(col_name)\n",
    "    elif lst[i] == 0:\n",
    "      col_name = j + \"_t\"\n",
    "      if j == 'logP': Pcol.append(col_name)\n",
    "      else: Rcol.append(col_name)\n",
    "    else:\n",
    "      col_name = j + \"_t+\" + str(lst[i])\n",
    "      if j == 'logP': Pcol.append(col_name)\n",
    "      else: Rcol.append(col_name)\n",
    "\n",
    "print(Pcol)\n",
    "print(Rcol)"
   ]
  },
  {
   "cell_type": "code",
   "execution_count": 12,
   "metadata": {
    "colab": {
     "base_uri": "https://localhost:8080/"
    },
    "id": "L0wMBmMtDeCi",
    "outputId": "bbb4adc6-1688-4412-c1b0-fe7d92131c51"
   },
   "outputs": [
    {
     "data": {
      "text/plain": [
       "Index(['ticker', 'company', 'timestamp', 'financial stability and liquidity',\n",
       "       'strong management team', 'competitive advantage', 'market potential',\n",
       "       'growth prospects', 'diversification within the company',\n",
       "       'sustainable business model', 'innovation and R&D',\n",
       "       'corporate governance', 'strong brand recognition', 'open', 'high',\n",
       "       'low', 'close', 'volume', 'return', 'SPX', 'calculated_price', 'year',\n",
       "       'month', 'day', 'logP_t-12', 'logP_t-11', 'logP_t-10', 'logP_t-9',\n",
       "       'logP_t-8', 'logP_t-7', 'logP_t-6', 'logP_t-5', 'logP_t-4', 'logP_t-3',\n",
       "       'logP_t-2', 'logP_t-1', 'logP_t', 'logP_t+1', 'logP_t+2', 'logP_t+3',\n",
       "       'logP_t+4', 'logP_t+5', 'logP_t+6', 'logP_t+7', 'logP_t+8', 'logP_t+9',\n",
       "       'logP_t+10', 'logP_t+11', 'logP_t+12', 'R_t-12', 'R_t-11', 'R_t-10',\n",
       "       'R_t-9', 'R_t-8', 'R_t-7', 'R_t-6', 'R_t-5', 'R_t-4', 'R_t-3', 'R_t-2',\n",
       "       'R_t-1', 'R_t', 'R_t+1', 'R_t+2', 'R_t+3', 'R_t+4', 'R_t+5', 'R_t+6',\n",
       "       'R_t+7', 'R_t+8', 'R_t+9', 'R_t+10', 'R_t+11', 'R_t+12'],\n",
       "      dtype='object')"
      ]
     },
     "execution_count": 12,
     "metadata": {},
     "output_type": "execute_result"
    }
   ],
   "source": [
    "# P, P_future, R, R_future 리스트에 있던 값을 각각 분리해서 기존 데이터 프레임에 추가\n",
    "df[Pcol[:l]] = pd.DataFrame(df['P'].tolist(), index=df.index)\n",
    "df[Pcol[l:]] = pd.DataFrame(df['P_future'].tolist(), index=df.index)\n",
    "df[Rcol[:l]] = pd.DataFrame(df['R'].tolist(), index=df.index)\n",
    "df[Rcol[l:]] = pd.DataFrame(df['R_future'].tolist(), index=df.index)\n",
    "\n",
    "# 기존 데이터와 t+13 columns drop\n",
    "df = df.drop(labels=\"logP_t+\"+str(l), axis=1)\n",
    "df = df.drop(labels=\"R_t+\"+str(l), axis=1)\n",
    "df = df.drop(labels=['P', 'P_future', 'R', 'R_future'], axis=1)\n",
    "\n",
    "df.columns"
   ]
  },
  {
   "cell_type": "markdown",
   "metadata": {
    "id": "Fdlm5zcQLwNz"
   },
   "source": [
    "## log"
   ]
  },
  {
   "cell_type": "code",
   "execution_count": null,
   "metadata": {
    "colab": {
     "base_uri": "https://localhost:8080/"
    },
    "id": "P9DuODQc6G9Q",
    "outputId": "631e05a0-c117-4c25-8d74-72954ac157ef"
   },
   "outputs": [],
   "source": [
    "import math\n",
    "\n",
    "# P값들에 대해 log 취하기\n",
    "for c in [s for s in df.columns if s.find('log')==0]:\n",
    "  df[c] = df[c].apply(lambda x: math.log(x))\n",
    "\n",
    "# volume에 대해 log 취하기\n",
    "df['volume'] = df['volume'].apply(lambda x: math.log(x))\n",
    "\n",
    "df['volume']"
   ]
  },
  {
   "cell_type": "markdown",
   "metadata": {
    "id": "tb41kVNxLwNz"
   },
   "source": [
    "## categorical 변수 처리"
   ]
  },
  {
   "cell_type": "code",
   "execution_count": 14,
   "metadata": {
    "id": "e2tv41fdMdRP"
   },
   "outputs": [],
   "source": [
    "# categorical 변수를 int형으로 변경하는 class define\n",
    "\n",
    "from collections import defaultdict\n",
    "from sklearn.preprocessing import LabelEncoder\n",
    "\n",
    "class MultiColLabelEncoder:\n",
    "    def __init__(self):\n",
    "        self.encoder_dict = defaultdict(LabelEncoder)\n",
    "\n",
    "    def fit_transform(self, X: pd.DataFrame, columns: list):\n",
    "        if not isinstance(columns, list):\n",
    "            columns = [columns]\n",
    "\n",
    "        output = X.copy()\n",
    "        output[columns] = X[columns].apply(lambda x: self.encoder_dict[x.name].fit_transform(x))\n",
    "\n",
    "        return output\n",
    "\n",
    "    def inverse_transform(self, X: pd.DataFrame, columns: list):\n",
    "        if not isinstance(columns, list):\n",
    "            columns = [columns]\n",
    "\n",
    "        if not all(key in self.encoder_dict for key in columns):\n",
    "            raise KeyError(f\"at least one of {columns} is not encoded before\")\n",
    "        output = X.copy()\n",
    "        try:\n",
    "            output[columns] = X[columns].apply(lambda x: self.encoder_dict[x.name].inverse_transform(x))\n",
    "        except ValueError:\n",
    "            print(f\"Need assignment for 'fit_transform' function\")\n",
    "            raise\n",
    "\n",
    "        return output"
   ]
  },
  {
   "cell_type": "code",
   "execution_count": 15,
   "metadata": {
    "colab": {
     "base_uri": "https://localhost:8080/"
    },
    "id": "XdRo1qMOMlh6",
    "outputId": "114e5693-387b-4f29-f3ae-f6d4f4fe0199"
   },
   "outputs": [
    {
     "data": {
      "text/plain": [
       "['ticker', 'company']"
      ]
     },
     "execution_count": 15,
     "metadata": {},
     "output_type": "execute_result"
    }
   ],
   "source": [
    "# categorical 변수에는 무엇이 있는지 확인\n",
    "features = df.columns\n",
    "cat_cols = list(df.select_dtypes(include=['category', 'object']).columns)\n",
    "cat_cols"
   ]
  },
  {
   "cell_type": "code",
   "execution_count": null,
   "metadata": {
    "colab": {
     "base_uri": "https://localhost:8080/"
    },
    "id": "hs67fuAwMopj",
    "outputId": "ec721cdd-c953-4bef-fbaa-15b0f3119012"
   },
   "outputs": [],
   "source": [
    "# 위에서 만든 MultiColLabelEncoder를 이용해 LabelEncoding 후 확인\n",
    "mcle = MultiColLabelEncoder()\n",
    "df_mcle = mcle.fit_transform(df, cat_cols)\n",
    "\n",
    "# ticker와 company는 같은 내용을 전달하므로 company는 drop한다. \n",
    "df_mcle = df_mcle.drop(labels='company', axis=1)\n",
    "\n",
    "df_mcle['ticker'].unique()"
   ]
  },
  {
   "cell_type": "markdown",
   "metadata": {
    "id": "tlBKmtzPLwNz"
   },
   "source": [
    "## Train-Validation-Test set split"
   ]
  },
  {
   "cell_type": "markdown",
   "metadata": {
    "id": "LBzicFcJAsvB",
    "outputId": "c9472636-f078-4626-cdec-bb6a94088296"
   },
   "source": [
    "# timestamp로 sort\n",
    "df_mcle = df_mcle.sort_values(by=['timestamp', 'ticker'], ascending=True)\n",
    "df_mcle"
   ]
  },
  {
   "cell_type": "code",
   "execution_count": 17,
   "metadata": {
    "id": "61fzjI7mQ9Tx"
   },
   "outputs": [],
   "source": [
    "# 'timestamp'를 기준으로 2020-09-01, 2021-09-01\n",
    "train_set = df_mcle[df_mcle['timestamp'] < '2020-09-01']\n",
    "val_set = df_mcle.loc[(df_mcle['timestamp'] > '2020-09-01') & (df_mcle['timestamp'] < '2021-09-01')]\n",
    "test_set = df_mcle[df_mcle['timestamp'] > '2021-09-01']"
   ]
  },
  {
   "cell_type": "code",
   "execution_count": 18,
   "metadata": {
    "colab": {
     "base_uri": "https://localhost:8080/"
    },
    "id": "HgsFg0iiuhUL",
    "outputId": "2aae52c9-59ac-452b-e817-371cc23c4a20"
   },
   "outputs": [
    {
     "name": "stdout",
     "output_type": "stream",
     "text": [
      "170818\n",
      "33004\n",
      "23192\n"
     ]
    }
   ],
   "source": [
    "print(len(train_set))\n",
    "print(len(test_set))\n",
    "print(len(val_set))"
   ]
  },
  {
   "cell_type": "code",
   "execution_count": 19,
   "metadata": {
    "id": "Z7bOY9h4LwN0"
   },
   "outputs": [],
   "source": [
    "# t+1 ~ t+12 시점이 다음 단계로 넘어가는 문제를 커버하기 위해 data set에 제한을 둠\n",
    "train_set = train_set.iloc[:-12, :]\n",
    "val_set = val_set.iloc[:-12, :]\n",
    "test_set = test_set.iloc[:-12, :]"
   ]
  },
  {
   "cell_type": "code",
   "execution_count": 20,
   "metadata": {
    "colab": {
     "base_uri": "https://localhost:8080/",
     "height": 424
    },
    "id": "lazTWeV9ILCA",
    "outputId": "0f8a587b-2112-4e1c-db7d-5ba7ff8c89b9"
   },
   "outputs": [
    {
     "data": {
      "text/html": [
       "\n",
       "  <div id=\"df-0ea0e8b7-e3cc-42b1-a4c4-dc3d04f6c872\">\n",
       "    <div class=\"colab-df-container\">\n",
       "      <div>\n",
       "<style scoped>\n",
       "    .dataframe tbody tr th:only-of-type {\n",
       "        vertical-align: middle;\n",
       "    }\n",
       "\n",
       "    .dataframe tbody tr th {\n",
       "        vertical-align: top;\n",
       "    }\n",
       "\n",
       "    .dataframe thead th {\n",
       "        text-align: right;\n",
       "    }\n",
       "</style>\n",
       "<table border=\"1\" class=\"dataframe\">\n",
       "  <thead>\n",
       "    <tr style=\"text-align: right;\">\n",
       "      <th></th>\n",
       "      <th>timestamp</th>\n",
       "      <th>count</th>\n",
       "      <th>cumsum</th>\n",
       "      <th>percent</th>\n",
       "    </tr>\n",
       "  </thead>\n",
       "  <tbody>\n",
       "    <tr>\n",
       "      <th>0</th>\n",
       "      <td>2013-05-03</td>\n",
       "      <td>446</td>\n",
       "      <td>446</td>\n",
       "      <td>0.001965</td>\n",
       "    </tr>\n",
       "    <tr>\n",
       "      <th>1</th>\n",
       "      <td>2013-05-10</td>\n",
       "      <td>446</td>\n",
       "      <td>892</td>\n",
       "      <td>0.003929</td>\n",
       "    </tr>\n",
       "    <tr>\n",
       "      <th>2</th>\n",
       "      <td>2013-05-17</td>\n",
       "      <td>446</td>\n",
       "      <td>1338</td>\n",
       "      <td>0.005894</td>\n",
       "    </tr>\n",
       "    <tr>\n",
       "      <th>3</th>\n",
       "      <td>2013-05-24</td>\n",
       "      <td>446</td>\n",
       "      <td>1784</td>\n",
       "      <td>0.007859</td>\n",
       "    </tr>\n",
       "    <tr>\n",
       "      <th>4</th>\n",
       "      <td>2013-05-31</td>\n",
       "      <td>446</td>\n",
       "      <td>2230</td>\n",
       "      <td>0.009823</td>\n",
       "    </tr>\n",
       "    <tr>\n",
       "      <th>...</th>\n",
       "      <td>...</td>\n",
       "      <td>...</td>\n",
       "      <td>...</td>\n",
       "      <td>...</td>\n",
       "    </tr>\n",
       "    <tr>\n",
       "      <th>504</th>\n",
       "      <td>2022-12-30</td>\n",
       "      <td>446</td>\n",
       "      <td>225230</td>\n",
       "      <td>0.992141</td>\n",
       "    </tr>\n",
       "    <tr>\n",
       "      <th>505</th>\n",
       "      <td>2023-01-06</td>\n",
       "      <td>446</td>\n",
       "      <td>225676</td>\n",
       "      <td>0.994106</td>\n",
       "    </tr>\n",
       "    <tr>\n",
       "      <th>506</th>\n",
       "      <td>2023-01-13</td>\n",
       "      <td>446</td>\n",
       "      <td>226122</td>\n",
       "      <td>0.996071</td>\n",
       "    </tr>\n",
       "    <tr>\n",
       "      <th>507</th>\n",
       "      <td>2023-01-20</td>\n",
       "      <td>446</td>\n",
       "      <td>226568</td>\n",
       "      <td>0.998035</td>\n",
       "    </tr>\n",
       "    <tr>\n",
       "      <th>508</th>\n",
       "      <td>2023-01-27</td>\n",
       "      <td>446</td>\n",
       "      <td>227014</td>\n",
       "      <td>1.000000</td>\n",
       "    </tr>\n",
       "  </tbody>\n",
       "</table>\n",
       "<p>509 rows × 4 columns</p>\n",
       "</div>\n",
       "      <button class=\"colab-df-convert\" onclick=\"convertToInteractive('df-0ea0e8b7-e3cc-42b1-a4c4-dc3d04f6c872')\"\n",
       "              title=\"Convert this dataframe to an interactive table.\"\n",
       "              style=\"display:none;\">\n",
       "        \n",
       "  <svg xmlns=\"http://www.w3.org/2000/svg\" height=\"24px\"viewBox=\"0 0 24 24\"\n",
       "       width=\"24px\">\n",
       "    <path d=\"M0 0h24v24H0V0z\" fill=\"none\"/>\n",
       "    <path d=\"M18.56 5.44l.94 2.06.94-2.06 2.06-.94-2.06-.94-.94-2.06-.94 2.06-2.06.94zm-11 1L8.5 8.5l.94-2.06 2.06-.94-2.06-.94L8.5 2.5l-.94 2.06-2.06.94zm10 10l.94 2.06.94-2.06 2.06-.94-2.06-.94-.94-2.06-.94 2.06-2.06.94z\"/><path d=\"M17.41 7.96l-1.37-1.37c-.4-.4-.92-.59-1.43-.59-.52 0-1.04.2-1.43.59L10.3 9.45l-7.72 7.72c-.78.78-.78 2.05 0 2.83L4 21.41c.39.39.9.59 1.41.59.51 0 1.02-.2 1.41-.59l7.78-7.78 2.81-2.81c.8-.78.8-2.07 0-2.86zM5.41 20L4 18.59l7.72-7.72 1.47 1.35L5.41 20z\"/>\n",
       "  </svg>\n",
       "      </button>\n",
       "      \n",
       "  <style>\n",
       "    .colab-df-container {\n",
       "      display:flex;\n",
       "      flex-wrap:wrap;\n",
       "      gap: 12px;\n",
       "    }\n",
       "\n",
       "    .colab-df-convert {\n",
       "      background-color: #E8F0FE;\n",
       "      border: none;\n",
       "      border-radius: 50%;\n",
       "      cursor: pointer;\n",
       "      display: none;\n",
       "      fill: #1967D2;\n",
       "      height: 32px;\n",
       "      padding: 0 0 0 0;\n",
       "      width: 32px;\n",
       "    }\n",
       "\n",
       "    .colab-df-convert:hover {\n",
       "      background-color: #E2EBFA;\n",
       "      box-shadow: 0px 1px 2px rgba(60, 64, 67, 0.3), 0px 1px 3px 1px rgba(60, 64, 67, 0.15);\n",
       "      fill: #174EA6;\n",
       "    }\n",
       "\n",
       "    [theme=dark] .colab-df-convert {\n",
       "      background-color: #3B4455;\n",
       "      fill: #D2E3FC;\n",
       "    }\n",
       "\n",
       "    [theme=dark] .colab-df-convert:hover {\n",
       "      background-color: #434B5C;\n",
       "      box-shadow: 0px 1px 3px 1px rgba(0, 0, 0, 0.15);\n",
       "      filter: drop-shadow(0px 1px 2px rgba(0, 0, 0, 0.3));\n",
       "      fill: #FFFFFF;\n",
       "    }\n",
       "  </style>\n",
       "\n",
       "      <script>\n",
       "        const buttonEl =\n",
       "          document.querySelector('#df-0ea0e8b7-e3cc-42b1-a4c4-dc3d04f6c872 button.colab-df-convert');\n",
       "        buttonEl.style.display =\n",
       "          google.colab.kernel.accessAllowed ? 'block' : 'none';\n",
       "\n",
       "        async function convertToInteractive(key) {\n",
       "          const element = document.querySelector('#df-0ea0e8b7-e3cc-42b1-a4c4-dc3d04f6c872');\n",
       "          const dataTable =\n",
       "            await google.colab.kernel.invokeFunction('convertToInteractive',\n",
       "                                                     [key], {});\n",
       "          if (!dataTable) return;\n",
       "\n",
       "          const docLinkHtml = 'Like what you see? Visit the ' +\n",
       "            '<a target=\"_blank\" href=https://colab.research.google.com/notebooks/data_table.ipynb>data table notebook</a>'\n",
       "            + ' to learn more about interactive tables.';\n",
       "          element.innerHTML = '';\n",
       "          dataTable['output_type'] = 'display_data';\n",
       "          await google.colab.output.renderOutput(dataTable, element);\n",
       "          const docLink = document.createElement('div');\n",
       "          docLink.innerHTML = docLinkHtml;\n",
       "          element.appendChild(docLink);\n",
       "        }\n",
       "      </script>\n",
       "    </div>\n",
       "  </div>\n",
       "  "
      ],
      "text/plain": [
       "     timestamp  count  cumsum   percent\n",
       "0   2013-05-03    446     446  0.001965\n",
       "1   2013-05-10    446     892  0.003929\n",
       "2   2013-05-17    446    1338  0.005894\n",
       "3   2013-05-24    446    1784  0.007859\n",
       "4   2013-05-31    446    2230  0.009823\n",
       "..         ...    ...     ...       ...\n",
       "504 2022-12-30    446  225230  0.992141\n",
       "505 2023-01-06    446  225676  0.994106\n",
       "506 2023-01-13    446  226122  0.996071\n",
       "507 2023-01-20    446  226568  0.998035\n",
       "508 2023-01-27    446  227014  1.000000\n",
       "\n",
       "[509 rows x 4 columns]"
      ]
     },
     "execution_count": 20,
     "metadata": {},
     "output_type": "execute_result"
    }
   ],
   "source": [
    "# train - validation - test set의 분할 비율을 알아보고 그래프 그리기 위해 count 생성\n",
    "\n",
    "# 날짜 별 count 계산\n",
    "count = df_mcle.groupby('timestamp').size().reset_index(name='count')\n",
    "\n",
    "# 누적 합 계산\n",
    "count['cumsum'] = count['count'].cumsum()\n",
    "\n",
    "# 누적 비율 계산\n",
    "count['percent'] = count['cumsum'].apply(lambda x: x/len(df_mcle))\n",
    "count"
   ]
  },
  {
   "cell_type": "code",
   "execution_count": null,
   "metadata": {
    "colab": {
     "base_uri": "https://localhost:8080/",
     "height": 542
    },
    "id": "OFuq6nZ0UW8a",
    "outputId": "ab4d0d87-bf50-491a-8a5b-96d601fe49a5"
   },
   "outputs": [],
   "source": [
    "\n",
    "# train - validation - test set의 분할 비율을 알아보고 그래프\n",
    "import plotly.graph_objs as go\n",
    "from plotly.subplots import make_subplots\n",
    "\n",
    "fig = make_subplots(specs=[[{\"secondary_y\": True}]])\n",
    "\n",
    "# Add traces\n",
    "fig.add_trace(\n",
    "    go.Scatter(x=count.loc[count['timestamp']<'2020-09-01']['timestamp'], y=count.loc[count['timestamp']<'2020-09-01']['percent'], mode = 'lines', name = 'Train Set'),\n",
    "    secondary_y=False,\n",
    ")\n",
    "fig.add_trace(\n",
    "    go.Scatter(x=count.loc[(count['timestamp']>'2020-09-01') & (count['timestamp']<'2021-09-01')]['timestamp'], y=count.loc[(count['timestamp']>'2020-09-01') & (count['timestamp']<'2021-09-01')]['percent'], mode = 'lines', name = 'Validation Set'),\n",
    "    secondary_y=False,\n",
    ")\n",
    "fig.add_trace(\n",
    "    go.Scatter(x=count.loc[count['timestamp']>'2021-09-01']['timestamp'], y=count.loc[count['timestamp']>'2021-09-01']['percent'], mode = 'lines', name = 'Train Set'),\n",
    "    secondary_y=False,\n",
    ")\n",
    "\n",
    "# train: ~ 2020-08-28\n",
    "# valid: 2020-09-04 ~ 2021-08-27\n",
    "# test: 2021-09-03 ~\n",
    "\n",
    "# split의 기준이 되는 점 표시\n",
    "fig.add_trace(go.Scatter(x=['2020-09-01'], y=[0.75], marker_size = 16, name = 'Train-Validation Split Point'))\n",
    "fig.add_trace(go.Scatter(x=['2021-08-30'], y=[0.85], marker_size = 16, name = 'Validation-Test Split Point'))\n",
    "\n",
    "# annotation 추가\n",
    "fig.add_annotation(x='2017-01-01', y=0.43,\n",
    "            text=\"Train Set (75%)\",\n",
    "            showarrow=False,\n",
    "            font_size=13,\n",
    "            textangle=-14.5\n",
    "            )\n",
    "fig.add_annotation(x='2021-03-01', y=0.88,\n",
    "            text=\"Validation Set (10%)\",\n",
    "            showarrow=False,\n",
    "            font_size=13,\n",
    "            textangle=-14.5\n",
    "            )\n",
    "fig.add_annotation(x='2022-06-01', y=0.89,\n",
    "            text=\"Test Set (15%)\",\n",
    "            showarrow=False,\n",
    "            font_size=13,\n",
    "            textangle=-14.5\n",
    "            )\n",
    "fig.show()"
   ]
  },
  {
   "cell_type": "code",
   "execution_count": 22,
   "metadata": {
    "id": "u1kN1FfmLwN0"
   },
   "outputs": [],
   "source": [
    "# 'timestamp'는 tabnet이 사용하지 못하므로 drop\n",
    "train_set = train_set.drop(labels='timestamp', axis=1)\n",
    "val_set = val_set.drop(labels='timestamp', axis=1)\n",
    "test_set = test_set.drop(labels='timestamp', axis=1)"
   ]
  },
  {
   "cell_type": "code",
   "execution_count": 23,
   "metadata": {
    "colab": {
     "base_uri": "https://localhost:8080/"
    },
    "id": "rl8hVIU3gMI4",
    "outputId": "ce89ab4b-9795-404e-a8a8-fdbfc1906d85"
   },
   "outputs": [
    {
     "data": {
      "text/plain": [
       "Index(['ticker', 'financial stability and liquidity', 'strong management team',\n",
       "       'competitive advantage', 'market potential', 'growth prospects',\n",
       "       'diversification within the company', 'sustainable business model',\n",
       "       'innovation and R&D', 'corporate governance',\n",
       "       'strong brand recognition', 'open', 'high', 'low', 'close', 'volume',\n",
       "       'return', 'SPX', 'calculated_price', 'year', 'month', 'day',\n",
       "       'logP_t-12', 'logP_t-11', 'logP_t-10', 'logP_t-9', 'logP_t-8',\n",
       "       'logP_t-7', 'logP_t-6', 'logP_t-5', 'logP_t-4', 'logP_t-3', 'logP_t-2',\n",
       "       'logP_t-1', 'logP_t', 'logP_t+1', 'logP_t+2', 'logP_t+3', 'logP_t+4',\n",
       "       'logP_t+5', 'logP_t+6', 'logP_t+7', 'logP_t+8', 'logP_t+9', 'logP_t+10',\n",
       "       'logP_t+11', 'logP_t+12', 'R_t-12', 'R_t-11', 'R_t-10', 'R_t-9',\n",
       "       'R_t-8', 'R_t-7', 'R_t-6', 'R_t-5', 'R_t-4', 'R_t-3', 'R_t-2', 'R_t-1',\n",
       "       'R_t', 'R_t+1', 'R_t+2', 'R_t+3', 'R_t+4', 'R_t+5', 'R_t+6', 'R_t+7',\n",
       "       'R_t+8', 'R_t+9', 'R_t+10', 'R_t+11', 'R_t+12'],\n",
       "      dtype='object')"
      ]
     },
     "execution_count": 23,
     "metadata": {},
     "output_type": "execute_result"
    }
   ],
   "source": [
    "train_set.columns"
   ]
  },
  {
   "cell_type": "markdown",
   "metadata": {
    "id": "M9V3YgnsLwN0"
   },
   "source": [
    "## X, y split"
   ]
  },
  {
   "cell_type": "code",
   "execution_count": 24,
   "metadata": {
    "colab": {
     "base_uri": "https://localhost:8080/"
    },
    "id": "MVO2IV3pM6ZQ",
    "outputId": "b73c2835-a796-4e7d-8b02-b81565599b1f"
   },
   "outputs": [
    {
     "data": {
      "text/plain": [
       "Index(['R_t', 'R_t+1', 'R_t+2', 'R_t+3', 'R_t+4', 'R_t+5', 'R_t+6', 'R_t+7',\n",
       "       'R_t+8', 'R_t+9', 'R_t+10', 'R_t+11', 'R_t+12'],\n",
       "      dtype='object')"
      ]
     },
     "execution_count": 24,
     "metadata": {},
     "output_type": "execute_result"
    }
   ],
   "source": [
    "# 사용할 column만 뽑아서 X, y로 나눔\n",
    "# ticker~GPTscore: 0~10\n",
    "# SPX~date: 11~21\n",
    "# P_t-12 ~ P_t: 22~34\n",
    "# P_t ~ P_t+12: 34~46\n",
    "# R_t-12 ~ R_t: 47~59\n",
    "# R_t ~ R_t+12: 59~71\n",
    "\n",
    "# pX_train = train_set.iloc[:, list(range(36))]\n",
    "# py_train = train_set.iloc[:, list(range(35, 48))]\n",
    "# pX_test = test_set.iloc[:, list(range(36))]\n",
    "# py_test = test_set.iloc[:, list(range(35, 48))]\n",
    "\n",
    "rX_train = train_set.iloc[:, list(range(22)) + list(range(47, 60))]\n",
    "ry_train = train_set.iloc[:, list(range(59, 72))]\n",
    "rX_val = val_set.iloc[:, list(range(22)) + list(range(47, 60))]\n",
    "ry_val = val_set.iloc[:, list(range(59, 72))]\n",
    "rX_test = test_set.iloc[:, list(range(22)) + list(range(47, 60))]\n",
    "ry_test = test_set.iloc[:, list(range(59, 72))]\n",
    "\n",
    "ry_test.columns"
   ]
  },
  {
   "cell_type": "code",
   "execution_count": 25,
   "metadata": {
    "id": "naZWb2XTX1NB"
   },
   "outputs": [],
   "source": [
    "# 파라미터 다 정하고 돌릴거\n",
    "final_train = df_mcle[df_mcle['timestamp'] < '2021-09-01']\n",
    "final_test = df_mcle[df_mcle['timestamp'] > '2021-09-01']\n",
    "\n",
    "final_train = final_train.iloc[:-12, :]\n",
    "final_test = final_test.iloc[:-12, :]\n",
    "\n",
    "final_train = final_train.drop(labels='timestamp', axis=1)\n",
    "final_test = final_test.drop(labels='timestamp', axis=1)\n",
    "\n",
    "final_train_X = final_train.iloc[:, list(range(22)) + list(range(47, 60))]\n",
    "final_train_y = final_train.iloc[:, list(range(59, 72))]\n",
    "final_test_X = final_test.iloc[:, list(range(22)) + list(range(47, 60))]\n",
    "final_test_y = final_test.iloc[:, list(range(59, 72))]"
   ]
  },
  {
   "cell_type": "code",
   "execution_count": 26,
   "metadata": {
    "colab": {
     "base_uri": "https://localhost:8080/"
    },
    "id": "OS8tNrY6o_NK",
    "outputId": "1d0e106f-c45a-4d79-e7c6-119c5c74f0db"
   },
   "outputs": [
    {
     "data": {
      "text/plain": [
       "32992"
      ]
     },
     "execution_count": 26,
     "metadata": {},
     "output_type": "execute_result"
    }
   ],
   "source": [
    "len(rX_test)"
   ]
  },
  {
   "cell_type": "markdown",
   "metadata": {
    "id": "L_I95oepSzez"
   },
   "source": [
    "# Model Running"
   ]
  },
  {
   "cell_type": "markdown",
   "metadata": {
    "id": "F1NzOQgvS0fN"
   },
   "source": [
    "## Import, Install"
   ]
  },
  {
   "cell_type": "code",
   "execution_count": 27,
   "metadata": {
    "id": "j4YWlGytS-pv"
   },
   "outputs": [],
   "source": [
    "import torch\n",
    "\n",
    "# from pytorch_tabnet.tab_model import TabNetRegressor\n",
    "# from sklearn.model_selection import KFold\n",
    "\n",
    "# import optuna\n",
    "# from optuna.samplers import TPESampler"
   ]
  },
  {
   "cell_type": "markdown",
   "metadata": {
    "id": "uJKlxkBwTDtP"
   },
   "source": [
    "MAX_EPOCH=300\n",
    "tabnet_params = dict(n_d=24, n_a=24, gamma=1.3,\n",
    "                     lambda_sparse=0, optimizer_fn=torch.optim.Adam,\n",
    "                     optimizer_params=dict(lr=2e-2, weight_decay=1e-5),\n",
    "                     mask_type='entmax',\n",
    "                     scheduler_params=dict(mode=\"min\",\n",
    "                                           patience=5,\n",
    "                                           min_lr=1e-5,\n",
    "                                           factor=0.9,),\n",
    "                     scheduler_fn=torch.optim.lr_scheduler.ReduceLROnPlateau,\n",
    "                     )"
   ]
  },
  {
   "cell_type": "code",
   "execution_count": null,
   "metadata": {
    "colab": {
     "base_uri": "https://localhost:8080/"
    },
    "id": "1lz3cze_TGnd",
    "outputId": "b3cdaf0a-89eb-4f85-f75b-dae7ca89256d"
   },
   "outputs": [],
   "source": [
    "!pip install pytorch-tabnet"
   ]
  },
  {
   "cell_type": "code",
   "execution_count": null,
   "metadata": {
    "colab": {
     "base_uri": "https://localhost:8080/"
    },
    "id": "Bc8D8ZsGTJO_",
    "outputId": "251896f4-805e-415d-e22b-970a2f3a1dd2"
   },
   "outputs": [],
   "source": [
    "!pip install torch --upgrade"
   ]
  },
  {
   "cell_type": "markdown",
   "metadata": {
    "id": "Up_XStp8LwN1"
   },
   "source": [
    "## Run Model"
   ]
  },
  {
   "cell_type": "code",
   "execution_count": 30,
   "metadata": {
    "id": "jCCmoZDngoFr"
   },
   "outputs": [],
   "source": [
    "MAX_EPOCH=300\n",
    "tabnet_params = dict(n_d=32, n_a=32, n_steps = 3, gamma=1,\n",
    "                     lambda_sparse=0, optimizer_fn=torch.optim.Adam,\n",
    "                     optimizer_params=dict(lr=2e-2, weight_decay=1e-5),\n",
    "                     mask_type='entmax',\n",
    "                     scheduler_params=dict(mode=\"min\",\n",
    "                                           patience=5,\n",
    "                                           min_lr=1e-5,\n",
    "                                           factor=0.9,),\n",
    "                     scheduler_fn=torch.optim.lr_scheduler.ReduceLROnPlateau,\n",
    "                     )"
   ]
  },
  {
   "cell_type": "code",
   "execution_count": null,
   "metadata": {
    "colab": {
     "base_uri": "https://localhost:8080/"
    },
    "id": "74HpOm5GLwN1",
    "outputId": "69b584ac-ebef-40d2-e91e-2e101f9e87b9"
   },
   "outputs": [],
   "source": [
    "# R, R_future에 대해 model 실행\n",
    "import numpy as np\n",
    "from pytorch_tabnet.tab_model import TabNetRegressor\n",
    "\n",
    "# TabNetRegressor 모델 생성\n",
    "model = TabNetRegressor(**tabnet_params)\n",
    "\n",
    "# 모델 훈련\n",
    "model.fit(\n",
    "    X_train=final_train_X.values,\n",
    "    y_train=final_train_y.values,\n",
    "    eval_set=[(final_test_X.values, final_test_y.values)],\n",
    "    eval_name=['val'],\n",
    "    eval_metric=['rmse'],\n",
    "    max_epochs=MAX_EPOCH,\n",
    "    # patience=10,\n",
    "    # batch_size=256,\n",
    "    # virtual_batch_size=32,\n",
    "    # num_workers=0,\n",
    "    # drop_last=False,\n",
    "    # from_unsupervised=None,\n",
    "    # scheduler_params=None,\n",
    "    # scheduler_fn=None,\n",
    "    # mask_type='entmax',\n",
    "    # mask_kwargs=None,\n",
    ")\n",
    "\n",
    "# 모델 성능 평가\n",
    "y_pred = model.predict(final_test_X.values)\n",
    "rmse = np.sqrt(np.mean(np.square(y_pred - final_test_y.values)))\n",
    "print(f'RMSE: {rmse}')"
   ]
  },
  {
   "cell_type": "code",
   "execution_count": 32,
   "metadata": {
    "id": "9UjPlVRBsOa3"
   },
   "outputs": [],
   "source": [
    "import pickle\n",
    "\n",
    "# 모델 저장\n",
    "with open('model.pkl', 'wb') as f:\n",
    "    pickle.dump(model, f)\n",
    "\n",
    "# 모델 로드\n",
    "with open('model.pkl', 'rb') as f:\n",
    "    model = pickle.load(f)"
   ]
  },
  {
   "cell_type": "markdown",
   "metadata": {
    "id": "IcDoS3RwrdOj"
   },
   "source": [
    "# Graph"
   ]
  },
  {
   "cell_type": "markdown",
   "metadata": {
    "id": "wOGWXzoFrqPu"
   },
   "source": [
    "## 회사 상관 없이 범위를 입력하면 각 observation을 하나씩 따로 뽑기"
   ]
  },
  {
   "cell_type": "code",
   "execution_count": 33,
   "metadata": {
    "id": "fAfYawJfLwN1"
   },
   "outputs": [],
   "source": [
    "import plotly.graph_objs as go"
   ]
  },
  {
   "cell_type": "code",
   "execution_count": 60,
   "metadata": {
    "id": "ETsScDTJLwN1"
   },
   "outputs": [],
   "source": [
    "### 함수 완성 1번\n",
    "def RfromDF(df:pd.DataFrame) -> pd.DataFrame:\n",
    "    \"\"\"\n",
    "    정규화 전 R을 나랑 같은 형태로 불러오기 위해서\n",
    "    \"\"\"\n",
    "    import ast\n",
    "    R = df.copy()\n",
    "    R = R[['R', 'R_future']]\n",
    "    R['R'] = R['R'].apply(ast.literal_eval)\n",
    "    R['R_future'] = R['R_future'].apply(ast.literal_eval)\n",
    "\n",
    "    l = 13\n",
    "\n",
    "    lst = [i for i in range(-l+1, l+1)]\n",
    "    Rcol= []\n",
    "\n",
    "    for i in range(2*l):\n",
    "      if lst[i] < 0:\n",
    "        col_name = \"R_t\" + str(lst[i])\n",
    "        Rcol.append(col_name)\n",
    "      elif lst[i] == 0:\n",
    "        col_name = \"R_t\"\n",
    "        Rcol.append(col_name)\n",
    "      else:\n",
    "        col_name = \"R_t+\" + str(lst[i])\n",
    "        Rcol.append(col_name)\n",
    "    R[Rcol[:l]] = pd.DataFrame(R['R'].tolist(), index=df.index)\n",
    "    R[Rcol[l:]] = pd.DataFrame(R['R_future'].tolist(), index=df.index)\n",
    "    R = R.drop(labels = ['R', 'R_future', 'R_t+13'], axis=1)\n",
    "\n",
    "    return R"
   ]
  },
  {
   "cell_type": "code",
   "execution_count": 101,
   "metadata": {
    "id": "wqx1aYEaLwN1"
   },
   "outputs": [],
   "source": [
    "### 두번째함수 완성\n",
    "def RtoP(X_test:pd.DataFrame, y_test_df:pd.DataFrame, y_pred_df:pd.DataFrame, df:pd.DataFrame):\n",
    "    \"\"\"\n",
    "    맨 처음 파일 불러온 직후 dataframe을 df에 넣어주세요! 정규화 전 close, R을 불러오기 위함입니다!\n",
    "    \n",
    "    결과:\n",
    "    dataframe P가 return 되어, 각 observation에 대해 P_t-12, P_t-11, ~ , P_t+12까지의 column에 각각의 P값이 들어 있다. \n",
    "    단, index는 초기화된다. \n",
    "    \"\"\"\n",
    "    # X_test, y_test_df, y_pred_df와 같은 범위의 data를 뽑는다. \n",
    "    data = df.copy()\n",
    "    data = data[data['timestamp'] > '2021-09-01'] ############################## test set 바꾸면 여기도 수정!\n",
    "\n",
    "    # 계산의 편의성을 위해 'R'에서 R값들을 dataframe 형태로 가져온다. \n",
    "    R = RfromDF(data)\n",
    "    Rpred = y_pred_df.copy()\n",
    "    # P_t인 close값을 가져온다. \n",
    "    P_t = data['close'].values.tolist()\n",
    "\n",
    "    # 데이터 차원 확인\n",
    "    # print(\"X_test\", len(X_test))\n",
    "    # print(\"y_test\", len(y_test_df))\n",
    "    # print(\"Rpred\", len(Rpred))\n",
    "    # print(\"P_t\", len(P_t))\n",
    "\n",
    "    # P columns 만들기\n",
    "    l = 13\n",
    "    lst = [i for i in range(-l+1, l)]\n",
    "    Pcol= []\n",
    "    for i in range(2*l-1):\n",
    "      if lst[i] < 0:\n",
    "        col_name = \"P_t\" + str(lst[i])\n",
    "        Pcol.append(col_name)\n",
    "      elif lst[i] == 0:\n",
    "        col_name = \"P_t\"\n",
    "        Pcol.append(col_name)\n",
    "      else:\n",
    "        col_name = \"P_t+\" + str(lst[i])\n",
    "        Pcol.append(col_name)\n",
    "    # dataframe P를 만들기 위해 P_bucket, P_temp를 이용\n",
    "    P_bucket = []\n",
    "    P_temp = []\n",
    "\n",
    "    pred_bucket = []\n",
    "    pred_temp = []\n",
    "\n",
    "    for i in range(len(X_test)):\n",
    "      P_temp.append(P_t[i])\n",
    "      pred_temp.append(P_t[i])\n",
    "      for j in range(1, l):\n",
    "        P_temp.append((R.iloc[i][f'R_t+{j}'] + 1) * P_temp[-1])\n",
    "        pred_temp.append((Rpred.iloc[i][j] + 1) * pred_temp[-1])\n",
    "      for j in range(1, l):\n",
    "        if j == 1: \n",
    "          P_temp.insert(-1, P_temp[0] / (R.iloc[i]['R_t'] + 1))      \n",
    "        else: \n",
    "          P_temp.insert(-1, P_temp[0] / (R.iloc[i][f'R_t-{j}'] + 1))      \n",
    "      P_bucket.append(P_temp)\n",
    "      pred_bucket.append(pred_temp)\n",
    "      P_temp = []\n",
    "      pred_temp = []\n",
    "      if i % 10000 == 0:\n",
    "        print(\" real i \", i)\n",
    "\n",
    "\n",
    "    P = pd.DataFrame(P_bucket, columns=Pcol)\n",
    "    P_pred = pd.DataFrame(pred_bucket, columns=Pcol[l-1:])\n",
    "    X_test = pd.concat([X_test.reset_index(drop=True), P.iloc[:, :l]], axis=1)\n",
    "    y_test_df = pd.concat([y_test_df.reset_index(drop=True), P.iloc[:, l:]], axis=1)\n",
    "\n",
    "    y_pred_df = pd.concat([y_pred_df.reset_index(drop=True), P_pred], axis=1)\n",
    "    return X_test, y_test_df, y_pred_df"
   ]
  },
  {
   "cell_type": "code",
   "execution_count": 77,
   "metadata": {
    "colab": {
     "base_uri": "https://localhost:8080/"
    },
    "id": "Db05TffqAZvh",
    "outputId": "cd36e927-c321-4863-9f8e-0f1fe41bf73d"
   },
   "outputs": [
    {
     "name": "stdout",
     "output_type": "stream",
     "text": [
      "Looking in indexes: https://pypi.org/simple, https://us-python.pkg.dev/colab-wheels/public/simple/\n",
      "Requirement already satisfied: kaleido in /usr/local/lib/python3.10/dist-packages (0.2.1)\n"
     ]
    }
   ],
   "source": [
    "!pip install -U kaleido\n",
    "import plotly.io as pio\n",
    "pio.renderers.default = 'colab'"
   ]
  },
  {
   "cell_type": "code",
   "execution_count": 106,
   "metadata": {
    "id": "Ht57rzkppknx"
   },
   "outputs": [],
   "source": [
    "### 세번째함수\n",
    "from plotly.subplots import make_subplots\n",
    "import os\n",
    "\n",
    "def drawGraphCompanyy(X_test:pd.DataFrame, y_test_df:pd.DataFrame, y_pred:np.ndarray, df: pd.DataFrame): \n",
    "  # 데이터 준비\n",
    "  # X_test로부터 ticker, company 정보 꺼내기\n",
    "  mcle_ticker_df = pd.DataFrame(X_test.copy().iloc[:, 0])\n",
    "  mcle_ticker_lst = mcle_ticker_df.values.tolist()\n",
    "  TICKER = mcle.inverse_transform(X_test, 'ticker')\n",
    "  TICKER = TICKER['ticker'].values.tolist()\n",
    "\n",
    "  # X_test로부터 'timestamp' column 다시 만들기\n",
    "  test_timestamp = X_test.loc[:, ['year', 'month', 'day']]\n",
    "  test_timestamp['timestamp'] = test_timestamp['year'].astype(str) + '-' + test_timestamp['month'].astype(str) + '-' + test_timestamp['day'].astype(str)\n",
    "  test_timestamp['timestamp'] = pd.to_datetime(test_timestamp['timestamp'])\n",
    "\n",
    "  # X_test, y_test, y_pred를 그래프 뽑기 편하게 만들어주기 (timestamp 붙이기, ticker decode)\n",
    "  X_test_graph = X_test.copy()\n",
    "  X_columns = list(X_test_graph.columns)\n",
    "  X_test_graph = pd.concat([X_test_graph, test_timestamp['timestamp']], ignore_index=True, axis=1)\n",
    "  X_test_graph.columns = X_columns + ['timestamp']\n",
    "\n",
    "  y_test_graph = y_test_df.copy()\n",
    "  y_columns = list(y_test_graph.columns)\n",
    "  y_test_graph = pd.concat([y_test_graph, test_timestamp['timestamp']], ignore_index = True, axis=1)\n",
    "  y_test_graph = pd.concat([y_test_graph, X_test_graph['ticker']], ignore_index = True, axis=1)\n",
    "  y_test_graph.columns = y_columns+ ['timestamp', 'ticker']\n",
    "\n",
    "  y_pred_graph = pd.DataFrame(y_pred)\n",
    "  y_pred_graph = pd.concat([y_pred_graph, test_timestamp['timestamp'].reset_index(drop=True)], ignore_index = True, axis = 1)\n",
    "  y_pred_graph = pd.concat([y_pred_graph, X_test_graph['ticker'].reset_index(drop=True)], ignore_index=True, axis=1)\n",
    "  y_pred_graph.columns = [f\"P{s}\" for s in range(13)] + ['timestamp', 'ticker']\n",
    "\n",
    "  # # timelist (X of graph)\n",
    "  X_timelist = X_test_graph['timestamp'].unique().tolist()\n",
    "  X_timelist.sort()\n",
    "  y_timelist = y_test_graph['timestamp'].unique().tolist()\n",
    "  y_timelist.sort()\n",
    "\n",
    "  X_test_graph, y_test_graph, y_pred_graph = RtoP(X_test_graph, y_test_graph, y_pred_graph, df)\n",
    "\n",
    "  # 그래프 그리기\n",
    "  unique_TICKER = list(set(TICKER))\n",
    "  for t in unique_TICKER:\n",
    "    coIndex = TICKER.index(t)\n",
    "    co_n = mcle_ticker_lst[coIndex]\n",
    "    \n",
    "    # 특정 ticker 골라내기\n",
    "    X_temp = X_test_graph[X_test_graph['ticker'] == co_n[0]]\n",
    "    y_temp = y_test_graph[y_test_graph['ticker'] == co_n[0]]\n",
    "    pred_temp = y_pred_graph[y_pred_graph['ticker'] == co_n[0]]\n",
    "\n",
    "    # sort\n",
    "    X_temp = X_temp.sort_values(by='timestamp', ascending=True)\n",
    "    y_temp = y_temp.sort_values(by='timestamp', ascending=True)\n",
    "    pred_temp = pred_temp.sort_values(by='timestamp', ascending=True)\n",
    "\n",
    "    # 그래프를 그릴 P만 골라내기\n",
    "    X_graph = X_temp.iloc[:, -l:]\n",
    "    y_graph = y_temp.iloc[:, -l:]\n",
    "    pred_graph = pred_temp.iloc[:, -l:]\n",
    "\n",
    "    # X dataset 마련\n",
    "    Xlist = [0] * len(X_timelist)\n",
    "    for i in range(len(X_graph)-l): \n",
    "      for j in range(l):\n",
    "        Xlist[i+j] += X_graph.iloc[i, j]\n",
    "    Xlist_real = []\n",
    "    for i in range(len(Xlist)):\n",
    "      if i<len(Xlist)/2:\n",
    "        Xlist_real.append(Xlist[i]/i)\n",
    "      else:\n",
    "        Xlist_real.append(Xlist[i]/(len(Xlist)-i))\n",
    "\n",
    "    # y dataset 마련\n",
    "    ylist = [0] * len(y_timelist)\n",
    "    for i in range(len(y_graph)-l): \n",
    "      for j in range(l):\n",
    "        ylist[i+j] += y_graph.iloc[i, j]\n",
    "    ylist_real = []\n",
    "    for i in range(len(ylist)):\n",
    "      if i<len(ylist)/2:\n",
    "        ylist_real.append(ylist[i]/i)\n",
    "      else:\n",
    "        ylist_real.append(ylist[i]/(len(ylist)-i))\n",
    "\n",
    "    # pred dataset 마련\n",
    "    predlist = [0] * len(y_timelist)\n",
    "    for i in range(len(pred_graph)-l): \n",
    "      for j in range(l):\n",
    "        predlist[i+j] += pred_graph.iloc[i, j]\n",
    "    predlist_real = []\n",
    "    for i in range(len(predlist)):\n",
    "      if i<len(predlist)/2:\n",
    "        predlist_real.append(predlist[i]/i)\n",
    "      else:\n",
    "        predlist_real.append(predlist[i]/(len(predlist)-i))\n",
    "\n",
    "    # 그래프 그리기\n",
    "    fig = make_subplots(specs=[[{\"secondary_y\": True}]])\n",
    "    fig.update_layout(title_text=t, title_font_size=20)\n",
    "\n",
    "    Xrange = [i for i in range(len(X_timelist))]\n",
    "    yrange = [i + len(X_timelist) - 2 for i in range(len(y_timelist))]\n",
    "\n",
    "    # Add traces\n",
    "    fig.add_trace(\n",
    "        go.Scatter(x=Xrange, y=Xlist_real, name=\"X_test\"),\n",
    "        secondary_y=False,\n",
    "    )\n",
    "\n",
    "    fig.add_trace(\n",
    "        go.Scatter(x=yrange, y=ylist_real, name=\"y_test\"),\n",
    "        secondary_y=False,\n",
    "        #secondary_y=True,\n",
    "    )\n",
    "\n",
    "    fig.add_trace(\n",
    "        go.Scatter(x=yrange, y=predlist_real, name=\"y_pred\"),\n",
    "        secondary_y=False,\n",
    "        #secondary_y=True,\n",
    "    )\n",
    "    if not os.path.exists('graph'):\n",
    "      os.makedirs('graph')\n",
    "\n",
    "    from io import BytesIO\n",
    "\n",
    "    import matplotlib.pyplot as plt\n",
    "    img_bytes = fig.to_image(format=\"png\", engine=\"kaleido\")\n",
    "    img_arr = plt.imread(BytesIO(img_bytes))\n",
    "    plt.imsave(f'graph/picture{t}.png', img_arr)\n",
    "\n",
    "\n",
    "    # fig.show()\n",
    "    # break;"
   ]
  },
  {
   "cell_type": "code",
   "execution_count": null,
   "metadata": {
    "colab": {
     "base_uri": "https://localhost:8080/",
     "height": 1000
    },
    "id": "I3XSGIFhXB6a",
    "outputId": "ac5e1ee3-e084-400a-f8ae-48fe39f2f025"
   },
   "outputs": [],
   "source": [
    "drawGraphCompanyy(final_test_X, final_test_y, y_pred, df_)"
   ]
  }
 ],
 "metadata": {
  "accelerator": "GPU",
  "colab": {
   "provenance": []
  },
  "gpuClass": "standard",
  "kernelspec": {
   "display_name": "Python 3 (ipykernel)",
   "language": "python",
   "name": "python3"
  },
  "language_info": {
   "codemirror_mode": {
    "name": "ipython",
    "version": 3
   },
   "file_extension": ".py",
   "mimetype": "text/x-python",
   "name": "python",
   "nbconvert_exporter": "python",
   "pygments_lexer": "ipython3",
   "version": "3.10.9"
  }
 },
 "nbformat": 4,
 "nbformat_minor": 1
}
