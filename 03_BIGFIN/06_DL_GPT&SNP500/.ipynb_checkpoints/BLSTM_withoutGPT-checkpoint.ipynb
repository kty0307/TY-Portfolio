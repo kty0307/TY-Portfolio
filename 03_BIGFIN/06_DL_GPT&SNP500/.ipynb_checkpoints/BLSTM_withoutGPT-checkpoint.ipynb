{
 "cells": [
  {
   "cell_type": "code",
   "execution_count": 46,
   "metadata": {},
   "outputs": [],
   "source": [
    "import torch\n",
    "import torch.nn as nn\n",
    "import torch.optim as optim\n",
    "from torch.utils.data import Dataset, DataLoader\n",
    "\n",
    "import numpy as np # linear algebra\n",
    "import pandas as pd # data processing, CSV file I/O (e.g. pd.read_csv)\n",
    "import matplotlib.pyplot as plt\n",
    "import seaborn as sns\n",
    "\n",
    "import warnings\n",
    "warnings.filterwarnings('ignore')\n",
    "\n",
    "from sklearn.preprocessing import LabelEncoder\n",
    "\n",
    "from scipy.stats import norm\n",
    "\n",
    "import math\n",
    "\n",
    "from sklearn.preprocessing import MinMaxScaler\n",
    "\n",
    "import plotly.graph_objects as go"
   ]
  },
  {
   "cell_type": "code",
   "execution_count": 17,
   "metadata": {},
   "outputs": [],
   "source": [
    "# 리스트로 들어간 feature 삭제 및 5개 기업 선택\n",
    "df = pd.read_csv('dataset-evalPRPR-SPX-nonan.csv')"
   ]
  },
  {
   "cell_type": "code",
   "execution_count": 18,
   "metadata": {},
   "outputs": [],
   "source": [
    "drop_features = ['P','P_future','R','R_future','company', 'calculated_price']\n",
    "df_drop = df.drop(columns=drop_features)\n",
    "# df_5 = df_drop[df['ticker'].isin(['MMM', 'VRTX', 'MRK', 'MDT', 'MCK'])] # 5개 기업의 데이터만\n",
    "df_500 = df_drop.copy()"
   ]
  },
  {
   "cell_type": "code",
   "execution_count": 19,
   "metadata": {},
   "outputs": [
    {
     "data": {
      "text/html": [
       "<div>\n",
       "<style scoped>\n",
       "    .dataframe tbody tr th:only-of-type {\n",
       "        vertical-align: middle;\n",
       "    }\n",
       "\n",
       "    .dataframe tbody tr th {\n",
       "        vertical-align: top;\n",
       "    }\n",
       "\n",
       "    .dataframe thead th {\n",
       "        text-align: right;\n",
       "    }\n",
       "</style>\n",
       "<table border=\"1\" class=\"dataframe\">\n",
       "  <thead>\n",
       "    <tr style=\"text-align: right;\">\n",
       "      <th></th>\n",
       "      <th>ticker</th>\n",
       "      <th>timestamp</th>\n",
       "      <th>open</th>\n",
       "      <th>high</th>\n",
       "      <th>low</th>\n",
       "      <th>close</th>\n",
       "      <th>volume</th>\n",
       "      <th>return</th>\n",
       "      <th>SPX</th>\n",
       "    </tr>\n",
       "  </thead>\n",
       "  <tbody>\n",
       "    <tr>\n",
       "      <th>6108</th>\n",
       "      <td>A</td>\n",
       "      <td>2013-05-03</td>\n",
       "      <td>41.64</td>\n",
       "      <td>42.5500</td>\n",
       "      <td>40.950</td>\n",
       "      <td>41.55</td>\n",
       "      <td>16896400.0</td>\n",
       "      <td>0.006053</td>\n",
       "      <td>1614.42</td>\n",
       "    </tr>\n",
       "    <tr>\n",
       "      <th>6109</th>\n",
       "      <td>A</td>\n",
       "      <td>2013-05-10</td>\n",
       "      <td>41.44</td>\n",
       "      <td>43.8500</td>\n",
       "      <td>41.390</td>\n",
       "      <td>43.63</td>\n",
       "      <td>16284100.0</td>\n",
       "      <td>0.050060</td>\n",
       "      <td>1633.70</td>\n",
       "    </tr>\n",
       "    <tr>\n",
       "      <th>6110</th>\n",
       "      <td>A</td>\n",
       "      <td>2013-05-17</td>\n",
       "      <td>43.43</td>\n",
       "      <td>46.4900</td>\n",
       "      <td>42.720</td>\n",
       "      <td>45.56</td>\n",
       "      <td>28768000.0</td>\n",
       "      <td>0.044236</td>\n",
       "      <td>1667.47</td>\n",
       "    </tr>\n",
       "    <tr>\n",
       "      <th>6111</th>\n",
       "      <td>A</td>\n",
       "      <td>2013-05-24</td>\n",
       "      <td>45.48</td>\n",
       "      <td>47.4730</td>\n",
       "      <td>45.195</td>\n",
       "      <td>45.59</td>\n",
       "      <td>21143400.0</td>\n",
       "      <td>0.000659</td>\n",
       "      <td>1649.60</td>\n",
       "    </tr>\n",
       "    <tr>\n",
       "      <th>6112</th>\n",
       "      <td>A</td>\n",
       "      <td>2013-05-31</td>\n",
       "      <td>46.09</td>\n",
       "      <td>47.0500</td>\n",
       "      <td>45.400</td>\n",
       "      <td>45.45</td>\n",
       "      <td>16114400.0</td>\n",
       "      <td>-0.003071</td>\n",
       "      <td>1630.74</td>\n",
       "    </tr>\n",
       "    <tr>\n",
       "      <th>...</th>\n",
       "      <td>...</td>\n",
       "      <td>...</td>\n",
       "      <td>...</td>\n",
       "      <td>...</td>\n",
       "      <td>...</td>\n",
       "      <td>...</td>\n",
       "      <td>...</td>\n",
       "      <td>...</td>\n",
       "      <td>...</td>\n",
       "    </tr>\n",
       "    <tr>\n",
       "      <th>241293</th>\n",
       "      <td>ZTS</td>\n",
       "      <td>2022-12-30</td>\n",
       "      <td>145.91</td>\n",
       "      <td>148.5100</td>\n",
       "      <td>143.570</td>\n",
       "      <td>146.55</td>\n",
       "      <td>4950165.0</td>\n",
       "      <td>0.005420</td>\n",
       "      <td>3839.50</td>\n",
       "    </tr>\n",
       "    <tr>\n",
       "      <th>241294</th>\n",
       "      <td>ZTS</td>\n",
       "      <td>2023-01-06</td>\n",
       "      <td>148.66</td>\n",
       "      <td>150.8144</td>\n",
       "      <td>141.520</td>\n",
       "      <td>147.64</td>\n",
       "      <td>6958752.0</td>\n",
       "      <td>0.007438</td>\n",
       "      <td>3895.08</td>\n",
       "    </tr>\n",
       "    <tr>\n",
       "      <th>241295</th>\n",
       "      <td>ZTS</td>\n",
       "      <td>2023-01-13</td>\n",
       "      <td>149.00</td>\n",
       "      <td>161.4000</td>\n",
       "      <td>147.000</td>\n",
       "      <td>160.92</td>\n",
       "      <td>12618342.0</td>\n",
       "      <td>0.089949</td>\n",
       "      <td>3999.09</td>\n",
       "    </tr>\n",
       "    <tr>\n",
       "      <th>241296</th>\n",
       "      <td>ZTS</td>\n",
       "      <td>2023-01-20</td>\n",
       "      <td>160.69</td>\n",
       "      <td>164.9400</td>\n",
       "      <td>158.710</td>\n",
       "      <td>163.81</td>\n",
       "      <td>13851912.0</td>\n",
       "      <td>0.017959</td>\n",
       "      <td>3972.61</td>\n",
       "    </tr>\n",
       "    <tr>\n",
       "      <th>241297</th>\n",
       "      <td>ZTS</td>\n",
       "      <td>2023-01-27</td>\n",
       "      <td>162.39</td>\n",
       "      <td>169.5700</td>\n",
       "      <td>161.360</td>\n",
       "      <td>165.18</td>\n",
       "      <td>10253534.0</td>\n",
       "      <td>0.008363</td>\n",
       "      <td>4070.56</td>\n",
       "    </tr>\n",
       "  </tbody>\n",
       "</table>\n",
       "<p>227014 rows × 9 columns</p>\n",
       "</div>"
      ],
      "text/plain": [
       "       ticker   timestamp    open      high      low   close      volume   \n",
       "6108        A  2013-05-03   41.64   42.5500   40.950   41.55  16896400.0  \\\n",
       "6109        A  2013-05-10   41.44   43.8500   41.390   43.63  16284100.0   \n",
       "6110        A  2013-05-17   43.43   46.4900   42.720   45.56  28768000.0   \n",
       "6111        A  2013-05-24   45.48   47.4730   45.195   45.59  21143400.0   \n",
       "6112        A  2013-05-31   46.09   47.0500   45.400   45.45  16114400.0   \n",
       "...       ...         ...     ...       ...      ...     ...         ...   \n",
       "241293    ZTS  2022-12-30  145.91  148.5100  143.570  146.55   4950165.0   \n",
       "241294    ZTS  2023-01-06  148.66  150.8144  141.520  147.64   6958752.0   \n",
       "241295    ZTS  2023-01-13  149.00  161.4000  147.000  160.92  12618342.0   \n",
       "241296    ZTS  2023-01-20  160.69  164.9400  158.710  163.81  13851912.0   \n",
       "241297    ZTS  2023-01-27  162.39  169.5700  161.360  165.18  10253534.0   \n",
       "\n",
       "          return      SPX  \n",
       "6108    0.006053  1614.42  \n",
       "6109    0.050060  1633.70  \n",
       "6110    0.044236  1667.47  \n",
       "6111    0.000659  1649.60  \n",
       "6112   -0.003071  1630.74  \n",
       "...          ...      ...  \n",
       "241293  0.005420  3839.50  \n",
       "241294  0.007438  3895.08  \n",
       "241295  0.089949  3999.09  \n",
       "241296  0.017959  3972.61  \n",
       "241297  0.008363  4070.56  \n",
       "\n",
       "[227014 rows x 9 columns]"
      ]
     },
     "execution_count": 19,
     "metadata": {},
     "output_type": "execute_result"
    }
   ],
   "source": [
    "pd.set_option('display.max_rows', 60)\n",
    "df_500['ticker'].value_counts()\n",
    "\n",
    "ticker_counts = df_500['ticker'].value_counts()\n",
    "ticker_list = ticker_counts[ticker_counts == 509].index.tolist()\n",
    "df_500 = df_500[df_500['ticker'].isin(ticker_list)]\n",
    "df_500 = df_500.sort_values(['ticker', 'timestamp'])\n",
    "df_500.drop(df_500.columns[2:12], axis=1, inplace=True)\n",
    "df_500 # 총 주 수가 509개인 446개 기업만 선택"
   ]
  },
  {
   "cell_type": "code",
   "execution_count": 20,
   "metadata": {},
   "outputs": [
    {
     "name": "stdout",
     "output_type": "stream",
     "text": [
      "['ticker', 'timestamp', 'open', 'high', 'low', 'close', 'volume', 'return', 'SPX']\n",
      "['SPX', 'volume']\n",
      "['open', 'high', 'low', 'close']\n"
     ]
    },
    {
     "data": {
      "text/html": [
       "<div>\n",
       "<style scoped>\n",
       "    .dataframe tbody tr th:only-of-type {\n",
       "        vertical-align: middle;\n",
       "    }\n",
       "\n",
       "    .dataframe tbody tr th {\n",
       "        vertical-align: top;\n",
       "    }\n",
       "\n",
       "    .dataframe thead th {\n",
       "        text-align: right;\n",
       "    }\n",
       "</style>\n",
       "<table border=\"1\" class=\"dataframe\">\n",
       "  <thead>\n",
       "    <tr style=\"text-align: right;\">\n",
       "      <th></th>\n",
       "      <th>ticker</th>\n",
       "      <th>timestamp</th>\n",
       "      <th>open</th>\n",
       "      <th>high</th>\n",
       "      <th>low</th>\n",
       "      <th>close</th>\n",
       "      <th>volume</th>\n",
       "      <th>return</th>\n",
       "      <th>SPX</th>\n",
       "    </tr>\n",
       "  </thead>\n",
       "  <tbody>\n",
       "    <tr>\n",
       "      <th>6108</th>\n",
       "      <td>A</td>\n",
       "      <td>2013-05-03</td>\n",
       "      <td>0.053435</td>\n",
       "      <td>0.054317</td>\n",
       "      <td>0.054616</td>\n",
       "      <td>0.049023</td>\n",
       "      <td>0.012817</td>\n",
       "      <td>0.006053</td>\n",
       "      <td>0.006929</td>\n",
       "    </tr>\n",
       "    <tr>\n",
       "      <th>6109</th>\n",
       "      <td>A</td>\n",
       "      <td>2013-05-10</td>\n",
       "      <td>0.052060</td>\n",
       "      <td>0.063289</td>\n",
       "      <td>0.057684</td>\n",
       "      <td>0.063385</td>\n",
       "      <td>0.012352</td>\n",
       "      <td>0.050060</td>\n",
       "      <td>0.013004</td>\n",
       "    </tr>\n",
       "    <tr>\n",
       "      <th>6110</th>\n",
       "      <td>A</td>\n",
       "      <td>2013-05-17</td>\n",
       "      <td>0.065745</td>\n",
       "      <td>0.081510</td>\n",
       "      <td>0.066955</td>\n",
       "      <td>0.076711</td>\n",
       "      <td>0.021839</td>\n",
       "      <td>0.044236</td>\n",
       "      <td>0.023644</td>\n",
       "    </tr>\n",
       "    <tr>\n",
       "      <th>6111</th>\n",
       "      <td>A</td>\n",
       "      <td>2013-05-24</td>\n",
       "      <td>0.079843</td>\n",
       "      <td>0.088295</td>\n",
       "      <td>0.084208</td>\n",
       "      <td>0.076918</td>\n",
       "      <td>0.016045</td>\n",
       "      <td>0.000659</td>\n",
       "      <td>0.018013</td>\n",
       "    </tr>\n",
       "    <tr>\n",
       "      <th>6112</th>\n",
       "      <td>A</td>\n",
       "      <td>2013-05-31</td>\n",
       "      <td>0.084038</td>\n",
       "      <td>0.085375</td>\n",
       "      <td>0.085637</td>\n",
       "      <td>0.075951</td>\n",
       "      <td>0.012223</td>\n",
       "      <td>-0.003071</td>\n",
       "      <td>0.012071</td>\n",
       "    </tr>\n",
       "    <tr>\n",
       "      <th>...</th>\n",
       "      <td>...</td>\n",
       "      <td>...</td>\n",
       "      <td>...</td>\n",
       "      <td>...</td>\n",
       "      <td>...</td>\n",
       "      <td>...</td>\n",
       "      <td>...</td>\n",
       "      <td>...</td>\n",
       "      <td>...</td>\n",
       "    </tr>\n",
       "    <tr>\n",
       "      <th>241293</th>\n",
       "      <td>ZTS</td>\n",
       "      <td>2022-12-30</td>\n",
       "      <td>0.543884</td>\n",
       "      <td>0.543018</td>\n",
       "      <td>0.537044</td>\n",
       "      <td>0.547929</td>\n",
       "      <td>0.003738</td>\n",
       "      <td>0.005420</td>\n",
       "      <td>0.708017</td>\n",
       "    </tr>\n",
       "    <tr>\n",
       "      <th>241294</th>\n",
       "      <td>ZTS</td>\n",
       "      <td>2023-01-06</td>\n",
       "      <td>0.556621</td>\n",
       "      <td>0.553469</td>\n",
       "      <td>0.527507</td>\n",
       "      <td>0.552984</td>\n",
       "      <td>0.005265</td>\n",
       "      <td>0.007438</td>\n",
       "      <td>0.725530</td>\n",
       "    </tr>\n",
       "    <tr>\n",
       "      <th>241295</th>\n",
       "      <td>ZTS</td>\n",
       "      <td>2023-01-13</td>\n",
       "      <td>0.558196</td>\n",
       "      <td>0.601479</td>\n",
       "      <td>0.553002</td>\n",
       "      <td>0.614571</td>\n",
       "      <td>0.009566</td>\n",
       "      <td>0.089949</td>\n",
       "      <td>0.758302</td>\n",
       "    </tr>\n",
       "    <tr>\n",
       "      <th>241296</th>\n",
       "      <td>ZTS</td>\n",
       "      <td>2023-01-20</td>\n",
       "      <td>0.612338</td>\n",
       "      <td>0.617534</td>\n",
       "      <td>0.607481</td>\n",
       "      <td>0.627974</td>\n",
       "      <td>0.010503</td>\n",
       "      <td>0.017959</td>\n",
       "      <td>0.749958</td>\n",
       "    </tr>\n",
       "    <tr>\n",
       "      <th>241297</th>\n",
       "      <td>ZTS</td>\n",
       "      <td>2023-01-27</td>\n",
       "      <td>0.620212</td>\n",
       "      <td>0.638532</td>\n",
       "      <td>0.619810</td>\n",
       "      <td>0.634327</td>\n",
       "      <td>0.007769</td>\n",
       "      <td>0.008363</td>\n",
       "      <td>0.780821</td>\n",
       "    </tr>\n",
       "  </tbody>\n",
       "</table>\n",
       "<p>227014 rows × 9 columns</p>\n",
       "</div>"
      ],
      "text/plain": [
       "       ticker   timestamp      open      high       low     close    volume   \n",
       "6108        A  2013-05-03  0.053435  0.054317  0.054616  0.049023  0.012817  \\\n",
       "6109        A  2013-05-10  0.052060  0.063289  0.057684  0.063385  0.012352   \n",
       "6110        A  2013-05-17  0.065745  0.081510  0.066955  0.076711  0.021839   \n",
       "6111        A  2013-05-24  0.079843  0.088295  0.084208  0.076918  0.016045   \n",
       "6112        A  2013-05-31  0.084038  0.085375  0.085637  0.075951  0.012223   \n",
       "...       ...         ...       ...       ...       ...       ...       ...   \n",
       "241293    ZTS  2022-12-30  0.543884  0.543018  0.537044  0.547929  0.003738   \n",
       "241294    ZTS  2023-01-06  0.556621  0.553469  0.527507  0.552984  0.005265   \n",
       "241295    ZTS  2023-01-13  0.558196  0.601479  0.553002  0.614571  0.009566   \n",
       "241296    ZTS  2023-01-20  0.612338  0.617534  0.607481  0.627974  0.010503   \n",
       "241297    ZTS  2023-01-27  0.620212  0.638532  0.619810  0.634327  0.007769   \n",
       "\n",
       "          return       SPX  \n",
       "6108    0.006053  0.006929  \n",
       "6109    0.050060  0.013004  \n",
       "6110    0.044236  0.023644  \n",
       "6111    0.000659  0.018013  \n",
       "6112   -0.003071  0.012071  \n",
       "...          ...       ...  \n",
       "241293  0.005420  0.708017  \n",
       "241294  0.007438  0.725530  \n",
       "241295  0.089949  0.758302  \n",
       "241296  0.017959  0.749958  \n",
       "241297  0.008363  0.780821  \n",
       "\n",
       "[227014 rows x 9 columns]"
      ]
     },
     "execution_count": 20,
     "metadata": {},
     "output_type": "execute_result"
    }
   ],
   "source": [
    "# 정규화 \n",
    "## open, high, low, close은 주가관련인데, 이는 기업별로 다르므로 기업별로 정규화 필요\n",
    "## SPX은 기업별로 다르지 않음 따라서 통합 정규화\n",
    "## volume은 기업별로 다르지만 통합 정규화가 올바름\n",
    "## return은 따로 정규화할 필요는 없을거 같음\n",
    "## 정규화는 편의를 위해 MinMaxScaler만 사용\n",
    "\n",
    "scaler = MinMaxScaler()\n",
    "unique_tickers = df_500['ticker'].unique()\n",
    "\n",
    "columns_list = df_500.columns.tolist()\n",
    "print(columns_list)\n",
    "total_list = [columns_list[-1]] + [columns_list[-3]]\n",
    "print(total_list)\n",
    "seperate_list = columns_list[2:6]\n",
    "print(seperate_list)\n",
    "\n",
    "# 통합 정규화 : spx, volume\n",
    "for i in total_list:\n",
    "    df_500[i] = scaler.fit_transform(df_500[i].values.reshape(-1, 1))\n",
    "\n",
    "# 개별기업별 정규화 : open, high, low, close\t\n",
    "for i in unique_tickers:\n",
    "    for j in seperate_list:\n",
    "        mask = (df_500['ticker'] == i)\n",
    "        df_500.loc[mask, j] = scaler.fit_transform(df_500.loc[mask, j].values.reshape(-1, 1))\n",
    "\n",
    "df_500"
   ]
  },
  {
   "cell_type": "code",
   "execution_count": null,
   "metadata": {},
   "outputs": [],
   "source": [
    "# 라벨 인코더 생성\n",
    "label_encoder = LabelEncoder()\n",
    "\n",
    "# 라벨 인코딩 딕셔너리 저장\n",
    "encoded_labels = label_encoder.fit_transform(df_500['ticker'])\n",
    "encoded_dict = dict(zip(df_500['ticker'], encoded_labels))\n",
    "inverse_encoded_dict = {value: key for key, value in encoded_dict.items()}\n",
    "\n",
    "# ticker 열 라벨 인코딩\n",
    "df_500['ticker'] = label_encoder.fit_transform(df_500['ticker'])\n",
    "\n",
    "print(df_500[['ticker']])\n",
    "df_500.info()\n",
    "df_500['ticker'].value_counts()"
   ]
  },
  {
   "cell_type": "code",
   "execution_count": 22,
   "metadata": {},
   "outputs": [
    {
     "name": "stdout",
     "output_type": "stream",
     "text": [
      "        year  month  day\n",
      "6108    2013      5    3\n",
      "6109    2013      5   10\n",
      "6110    2013      5   17\n",
      "6111    2013      5   24\n",
      "6112    2013      5   31\n",
      "...      ...    ...  ...\n",
      "241219  2021      7   30\n",
      "241220  2021      8    6\n",
      "241221  2021      8   13\n",
      "241222  2021      8   20\n",
      "241223  2021      8   27\n",
      "\n",
      "[194010 rows x 3 columns]\n",
      "        year  month  day\n",
      "6543    2021      9    3\n",
      "6544    2021      9   10\n",
      "6545    2021      9   17\n",
      "6546    2021      9   24\n",
      "6547    2021     10    1\n",
      "...      ...    ...  ...\n",
      "241293  2022     12   30\n",
      "241294  2023      1    6\n",
      "241295  2023      1   13\n",
      "241296  2023      1   20\n",
      "241297  2023      1   27\n",
      "\n",
      "[33004 rows x 3 columns]\n"
     ]
    },
    {
     "data": {
      "text/html": [
       "<div>\n",
       "<style scoped>\n",
       "    .dataframe tbody tr th:only-of-type {\n",
       "        vertical-align: middle;\n",
       "    }\n",
       "\n",
       "    .dataframe tbody tr th {\n",
       "        vertical-align: top;\n",
       "    }\n",
       "\n",
       "    .dataframe thead th {\n",
       "        text-align: right;\n",
       "    }\n",
       "</style>\n",
       "<table border=\"1\" class=\"dataframe\">\n",
       "  <thead>\n",
       "    <tr style=\"text-align: right;\">\n",
       "      <th></th>\n",
       "      <th>ticker</th>\n",
       "      <th>open</th>\n",
       "      <th>high</th>\n",
       "      <th>low</th>\n",
       "      <th>close</th>\n",
       "      <th>volume</th>\n",
       "      <th>return</th>\n",
       "      <th>SPX</th>\n",
       "      <th>year</th>\n",
       "      <th>month</th>\n",
       "      <th>day</th>\n",
       "    </tr>\n",
       "  </thead>\n",
       "  <tbody>\n",
       "    <tr>\n",
       "      <th>6108</th>\n",
       "      <td>0</td>\n",
       "      <td>0.053435</td>\n",
       "      <td>0.054317</td>\n",
       "      <td>0.054616</td>\n",
       "      <td>0.049023</td>\n",
       "      <td>0.012817</td>\n",
       "      <td>0.006053</td>\n",
       "      <td>0.006929</td>\n",
       "      <td>2013</td>\n",
       "      <td>5</td>\n",
       "      <td>3</td>\n",
       "    </tr>\n",
       "    <tr>\n",
       "      <th>6109</th>\n",
       "      <td>0</td>\n",
       "      <td>0.052060</td>\n",
       "      <td>0.063289</td>\n",
       "      <td>0.057684</td>\n",
       "      <td>0.063385</td>\n",
       "      <td>0.012352</td>\n",
       "      <td>0.050060</td>\n",
       "      <td>0.013004</td>\n",
       "      <td>2013</td>\n",
       "      <td>5</td>\n",
       "      <td>10</td>\n",
       "    </tr>\n",
       "    <tr>\n",
       "      <th>6110</th>\n",
       "      <td>0</td>\n",
       "      <td>0.065745</td>\n",
       "      <td>0.081510</td>\n",
       "      <td>0.066955</td>\n",
       "      <td>0.076711</td>\n",
       "      <td>0.021839</td>\n",
       "      <td>0.044236</td>\n",
       "      <td>0.023644</td>\n",
       "      <td>2013</td>\n",
       "      <td>5</td>\n",
       "      <td>17</td>\n",
       "    </tr>\n",
       "    <tr>\n",
       "      <th>6111</th>\n",
       "      <td>0</td>\n",
       "      <td>0.079843</td>\n",
       "      <td>0.088295</td>\n",
       "      <td>0.084208</td>\n",
       "      <td>0.076918</td>\n",
       "      <td>0.016045</td>\n",
       "      <td>0.000659</td>\n",
       "      <td>0.018013</td>\n",
       "      <td>2013</td>\n",
       "      <td>5</td>\n",
       "      <td>24</td>\n",
       "    </tr>\n",
       "    <tr>\n",
       "      <th>6112</th>\n",
       "      <td>0</td>\n",
       "      <td>0.084038</td>\n",
       "      <td>0.085375</td>\n",
       "      <td>0.085637</td>\n",
       "      <td>0.075951</td>\n",
       "      <td>0.012223</td>\n",
       "      <td>-0.003071</td>\n",
       "      <td>0.012071</td>\n",
       "      <td>2013</td>\n",
       "      <td>5</td>\n",
       "      <td>31</td>\n",
       "    </tr>\n",
       "    <tr>\n",
       "      <th>...</th>\n",
       "      <td>...</td>\n",
       "      <td>...</td>\n",
       "      <td>...</td>\n",
       "      <td>...</td>\n",
       "      <td>...</td>\n",
       "      <td>...</td>\n",
       "      <td>...</td>\n",
       "      <td>...</td>\n",
       "      <td>...</td>\n",
       "      <td>...</td>\n",
       "      <td>...</td>\n",
       "    </tr>\n",
       "    <tr>\n",
       "      <th>241219</th>\n",
       "      <td>445</td>\n",
       "      <td>0.806493</td>\n",
       "      <td>0.802259</td>\n",
       "      <td>0.800368</td>\n",
       "      <td>0.808329</td>\n",
       "      <td>0.005785</td>\n",
       "      <td>-0.004372</td>\n",
       "      <td>0.883129</td>\n",
       "      <td>2021</td>\n",
       "      <td>7</td>\n",
       "      <td>30</td>\n",
       "    </tr>\n",
       "    <tr>\n",
       "      <th>241220</th>\n",
       "      <td>445</td>\n",
       "      <td>0.810523</td>\n",
       "      <td>0.808291</td>\n",
       "      <td>0.779153</td>\n",
       "      <td>0.804526</td>\n",
       "      <td>0.007388</td>\n",
       "      <td>-0.004045</td>\n",
       "      <td>0.896129</td>\n",
       "      <td>2021</td>\n",
       "      <td>8</td>\n",
       "      <td>6</td>\n",
       "    </tr>\n",
       "    <tr>\n",
       "      <th>241221</th>\n",
       "      <td>445</td>\n",
       "      <td>0.805382</td>\n",
       "      <td>0.789968</td>\n",
       "      <td>0.785433</td>\n",
       "      <td>0.802671</td>\n",
       "      <td>0.004203</td>\n",
       "      <td>-0.001981</td>\n",
       "      <td>0.906048</td>\n",
       "      <td>2021</td>\n",
       "      <td>8</td>\n",
       "      <td>13</td>\n",
       "    </tr>\n",
       "    <tr>\n",
       "      <th>241222</th>\n",
       "      <td>445</td>\n",
       "      <td>0.801862</td>\n",
       "      <td>0.814005</td>\n",
       "      <td>0.804369</td>\n",
       "      <td>0.828503</td>\n",
       "      <td>0.004179</td>\n",
       "      <td>0.027645</td>\n",
       "      <td>0.897752</td>\n",
       "      <td>2021</td>\n",
       "      <td>8</td>\n",
       "      <td>20</td>\n",
       "    </tr>\n",
       "    <tr>\n",
       "      <th>241223</th>\n",
       "      <td>445</td>\n",
       "      <td>0.830114</td>\n",
       "      <td>0.815366</td>\n",
       "      <td>0.813441</td>\n",
       "      <td>0.813523</td>\n",
       "      <td>0.003513</td>\n",
       "      <td>-0.015600</td>\n",
       "      <td>0.919083</td>\n",
       "      <td>2021</td>\n",
       "      <td>8</td>\n",
       "      <td>27</td>\n",
       "    </tr>\n",
       "  </tbody>\n",
       "</table>\n",
       "<p>194010 rows × 11 columns</p>\n",
       "</div>"
      ],
      "text/plain": [
       "        ticker      open      high       low     close    volume    return   \n",
       "6108         0  0.053435  0.054317  0.054616  0.049023  0.012817  0.006053  \\\n",
       "6109         0  0.052060  0.063289  0.057684  0.063385  0.012352  0.050060   \n",
       "6110         0  0.065745  0.081510  0.066955  0.076711  0.021839  0.044236   \n",
       "6111         0  0.079843  0.088295  0.084208  0.076918  0.016045  0.000659   \n",
       "6112         0  0.084038  0.085375  0.085637  0.075951  0.012223 -0.003071   \n",
       "...        ...       ...       ...       ...       ...       ...       ...   \n",
       "241219     445  0.806493  0.802259  0.800368  0.808329  0.005785 -0.004372   \n",
       "241220     445  0.810523  0.808291  0.779153  0.804526  0.007388 -0.004045   \n",
       "241221     445  0.805382  0.789968  0.785433  0.802671  0.004203 -0.001981   \n",
       "241222     445  0.801862  0.814005  0.804369  0.828503  0.004179  0.027645   \n",
       "241223     445  0.830114  0.815366  0.813441  0.813523  0.003513 -0.015600   \n",
       "\n",
       "             SPX  year  month  day  \n",
       "6108    0.006929  2013      5    3  \n",
       "6109    0.013004  2013      5   10  \n",
       "6110    0.023644  2013      5   17  \n",
       "6111    0.018013  2013      5   24  \n",
       "6112    0.012071  2013      5   31  \n",
       "...          ...   ...    ...  ...  \n",
       "241219  0.883129  2021      7   30  \n",
       "241220  0.896129  2021      8    6  \n",
       "241221  0.906048  2021      8   13  \n",
       "241222  0.897752  2021      8   20  \n",
       "241223  0.919083  2021      8   27  \n",
       "\n",
       "[194010 rows x 11 columns]"
      ]
     },
     "execution_count": 22,
     "metadata": {},
     "output_type": "execute_result"
    }
   ],
   "source": [
    "# 전체 기업 데이터를 이용할 것이기 때문에 날짜 자체가 입력데이터로 들어가야 구분됨\n",
    "# 'date' 열을 datetime 타입으로 변환\n",
    "# train / test 시계열 분리\n",
    "\n",
    "df_500['timestamp'] = pd.to_datetime(df_500['timestamp'])\n",
    "\n",
    "# 'year', 'month', 'day' 열 추출\n",
    "df_500['year'] = df_500['timestamp'].dt.year\n",
    "df_500['month'] = df_500['timestamp'].dt.month\n",
    "df_500['day'] = df_500['timestamp'].dt.day\n",
    "\n",
    "df_500_train = df_500.loc[df_500['timestamp'] < '2021-09-01']\n",
    "# df_500_val = df_500.loc[(df_500['timestamp'] > '2020-09-01') & (df_500['timestamp'] < '2021-09-01')]\n",
    "df_500_test = df_500.loc[df_500['timestamp'] > '2021-09-01']\n",
    "\n",
    "print(df_500_train[['year','month','day']])\n",
    "# print(df_500_val[['year','month','day']])\n",
    "print(df_500_test[['year','month','day']])\n",
    "\n",
    "df_500_train.drop(columns='timestamp', inplace=True)\n",
    "# df_500_val.drop(columns='timestamp', inplace=True)\n",
    "df_500_test.drop(columns='timestamp', inplace=True)\n",
    "\n",
    "df_500_train"
   ]
  },
  {
   "cell_type": "code",
   "execution_count": 23,
   "metadata": {},
   "outputs": [],
   "source": [
    "def inputfor3D(df, train=True, test=False):\n",
    "    df_out = df.copy()  # 입력된 df를 복사해서 사용\n",
    "    \n",
    "    if train: # input train은 output train의 누락에 맞춰 기업 당 마지막 12주 삭제\n",
    "        dfs=[]\n",
    "        for i in range(df_out['ticker'].nunique()):\n",
    "            locals()[f'df_{i}'] = df_out[df_out['ticker'] == i]\n",
    "            locals()[f'df_{i}'].drop(locals()[f'df_{i}'].tail(12).index, inplace=True)\n",
    "            dfs.append(locals()[f'df_{i}'])\n",
    "\n",
    "        # 각 기업의 feature 값을 가지고 있는 2차원 행렬을 만듦\n",
    "        data = []\n",
    "        for df_i in dfs:\n",
    "            data.append(df_i.values) # 일단 티커도 입력데이터에 포함함\n",
    "\n",
    "        # 시계열 축을 기준으로 3차원으로 구성된 입력 데이터 생성\n",
    "        # shape: (num_samples-기업수, seq_len-시계열수(총 주 수), num_features-피처수)\n",
    "        X_df_train = np.stack(data, axis=0)\n",
    "        return X_df_train\n",
    "\n",
    "    elif test: # input test는 output test의 누락에 맞춰 \n",
    "        dfs=[]\n",
    "        for i in range(df_out['ticker'].nunique()):\n",
    "            locals()[f'df_{i}'] = df_out[df_out['ticker'] == i]\n",
    "            locals()[f'df_{i}'].drop(locals()[f'df_{i}'].tail(12).index, inplace=True)\n",
    "            dfs.append(locals()[f'df_{i}'])\n",
    "\n",
    "        # 각 기업의 feature 값을 가지고 있는 2차원 행렬을 만듦\n",
    "        data = []\n",
    "        for df_i in dfs:\n",
    "            data.append(df_i.values) # 일단 티커도 입력데이터에 포함함\n",
    "\n",
    "        # 시계열 축을 기준으로 3차원으로 구성된 입력 데이터 생성\n",
    "        # shape: (num_samples-기업수, seq_len-시계열수(총 주 수), num_features-피처수)\n",
    "        X_df_test = np.stack(data, axis=0)\n",
    "        return X_df_test\n",
    "\n",
    "\n",
    "def outputfor3D(df, train=True, test=False):\n",
    "    df_out = df.copy()  # 입력된 df를 복사해서 사용\n",
    "    \n",
    "    if train:\n",
    "        dfs=[]\n",
    "        for i in range(df_out['ticker'].nunique()):\n",
    "            locals()[f'df_{i}'] = df_out[df_out['ticker'] == i]\n",
    "            for j in range(0, 13):\n",
    "                locals()[f'df_{i}'][f'future_{j}'] = locals()[f'df_{i}']['return'].shift(-j)\n",
    "            locals()[f'df_{i}'].drop(locals()[f'df_{i}'].tail(12).index, inplace=True)\n",
    "            locals()[f'df_{i}'] = locals()[f'df_{i}'][[f'future_{k}' for k in range(0, 13)]]\n",
    "            dfs.append(locals()[f'df_{i}'])\n",
    "\n",
    "        # 각 기업의 feature 값을 가지고 있는 2차원 행렬을 만듦\n",
    "        data = []\n",
    "        for df_i in dfs:\n",
    "            data.append(df_i.values) # 일단 티커도 입력데이터에 포함함\n",
    "\n",
    "        # 시계열 축을 기준으로 3차원으로 구성된 입력 데이터 생성\n",
    "        # shape: (num_samples, seq_len, num_features)\n",
    "        y_df_train = np.stack(data, axis=0)\n",
    "        return y_df_train\n",
    "\n",
    "    elif test:\n",
    "        dfs=[]\n",
    "        for i in range(df_out['ticker'].nunique()):\n",
    "            locals()[f'df_{i}'] = df_out[df_out['ticker'] == i]\n",
    "            for j in range(0, 13):\n",
    "                locals()[f'df_{i}'][f'future_{j}'] = locals()[f'df_{i}']['return'].shift(-j)\n",
    "            locals()[f'df_{i}'].drop(locals()[f'df_{i}'].tail(12).index, inplace=True)\n",
    "            locals()[f'df_{i}'] = locals()[f'df_{i}'][[f'future_{k}' for k in range(0, 13)]]\n",
    "            dfs.append(locals()[f'df_{i}'])\n",
    "\n",
    "        # 각 기업의 feature 값을 가지고 있는 2차원 행렬을 만듦\n",
    "        data = []\n",
    "        for df_i in dfs:\n",
    "            data.append(df_i.values) # 일단 티커도 입력데이터에 포함함\n",
    "\n",
    "        # 시계열 축을 기준으로 3차원으로 구성된 입력 데이터 생성\n",
    "        # shape: (num_samples, seq_len, num_features)\n",
    "        y_df_test = np.stack(data, axis=0)\n",
    "        return y_df_test"
   ]
  },
  {
   "cell_type": "code",
   "execution_count": 24,
   "metadata": {},
   "outputs": [
    {
     "name": "stdout",
     "output_type": "stream",
     "text": [
      "(446, 423, 11)\n",
      "(446, 62, 11)\n"
     ]
    }
   ],
   "source": [
    "# 2분 걸림\n",
    "\n",
    "set_train_X = inputfor3D(df_500_train, train=True, test=False)\n",
    "print(set_train_X.shape)\n",
    "\n",
    "# set_val_X = inputfor3D(df_500_val, train=False, test=True)\n",
    "# print(set_val_X.shape)\n",
    "\n",
    "set_test_X = inputfor3D(df_500_test, train=False, test=True)\n",
    "print(set_test_X.shape)"
   ]
  },
  {
   "cell_type": "code",
   "execution_count": 25,
   "metadata": {},
   "outputs": [
    {
     "name": "stdout",
     "output_type": "stream",
     "text": [
      "(446, 423, 13)\n",
      "(446, 62, 13)\n"
     ]
    }
   ],
   "source": [
    "# 12분 걸림\n",
    "\n",
    "set_train_y = outputfor3D(df_500_train, train=True, test=False)\n",
    "print(set_train_y.shape)\n",
    "\n",
    "# set_val_y = outputfor3D(df_500_val, train=False, test=True) \n",
    "# print(set_val_y.shape)\n",
    "\n",
    "set_test_y = outputfor3D(df_500_test, train=False, test=True)\n",
    "print(set_test_y.shape)"
   ]
  },
  {
   "cell_type": "code",
   "execution_count": 26,
   "metadata": {},
   "outputs": [
    {
     "name": "stdout",
     "output_type": "stream",
     "text": [
      "torch.Size([446, 423, 11])\n",
      "torch.Size([446, 423, 13])\n"
     ]
    }
   ],
   "source": [
    "# torch에 train 데이터 올리기\n",
    "\n",
    "# train X\n",
    "train_X_t = torch.tensor(set_train_X, dtype=torch.float32)\n",
    "print(train_X_t.size())\n",
    "\n",
    "# train y\n",
    "train_y_t = torch.tensor(set_train_y, dtype=torch.float32)\n",
    "print(train_y_t.size())\n"
   ]
  },
  {
   "cell_type": "code",
   "execution_count": 27,
   "metadata": {},
   "outputs": [],
   "source": [
    "# torch에 val 데이터 올리기\n",
    "\n",
    "# # train X\n",
    "# val_X_t = torch.tensor(set_val_X, dtype=torch.float32)\n",
    "# print(val_X_t.size())\n",
    "\n",
    "# # train y\n",
    "# val_y_t = torch.tensor(set_val_y, dtype=torch.float32)\n",
    "# print(val_y_t.size())"
   ]
  },
  {
   "cell_type": "code",
   "execution_count": 28,
   "metadata": {},
   "outputs": [
    {
     "name": "stdout",
     "output_type": "stream",
     "text": [
      "torch.Size([446, 62, 11])\n",
      "torch.Size([446, 62, 13])\n"
     ]
    }
   ],
   "source": [
    "# torch에 test 데이터 올리기\n",
    "\n",
    "# train X\n",
    "test_X_t = torch.tensor(set_test_X, dtype=torch.float32)\n",
    "print(test_X_t.size())\n",
    "\n",
    "# train y\n",
    "test_y_t = torch.tensor(set_test_y, dtype=torch.float32)\n",
    "print(test_y_t.size())"
   ]
  },
  {
   "cell_type": "code",
   "execution_count": 29,
   "metadata": {
    "colab": {
     "base_uri": "https://localhost:8080/"
    },
    "executionInfo": {
     "elapsed": 6,
     "status": "ok",
     "timestamp": 1683100438360,
     "user": {
      "displayName": "Chae Hwan Ryu",
      "userId": "08733564591952707727"
     },
     "user_tz": -540
    },
    "id": "flz06EjJbqxT",
    "outputId": "f412785c-bf33-413a-b671-9b8ffa5b6c47"
   },
   "outputs": [
    {
     "name": "stdout",
     "output_type": "stream",
     "text": [
      "BiLSTM(\n",
      "  (bilstm): LSTM(11, 32, num_layers=2, batch_first=True, bidirectional=True)\n",
      "  (dropout): Dropout(p=0.5, inplace=False)\n",
      "  (fc): Linear(in_features=64, out_features=13, bias=True)\n",
      ")\n",
      "18\n",
      "torch.Size([128, 11])\n",
      "torch.Size([128, 32])\n",
      "torch.Size([128])\n",
      "torch.Size([128])\n",
      "torch.Size([128, 11])\n",
      "torch.Size([128, 32])\n",
      "torch.Size([128])\n",
      "torch.Size([128])\n",
      "torch.Size([128, 64])\n",
      "torch.Size([128, 32])\n",
      "torch.Size([128])\n",
      "torch.Size([128])\n",
      "torch.Size([128, 64])\n",
      "torch.Size([128, 32])\n",
      "torch.Size([128])\n",
      "torch.Size([128])\n",
      "torch.Size([13, 64])\n",
      "torch.Size([13])\n"
     ]
    }
   ],
   "source": [
    "# Build model\n",
    "#####################\n",
    "input_dim = 11\n",
    "hidden_dim = 32\n",
    "num_layers = 2\n",
    "output_dim = 13\n",
    "\n",
    "\n",
    "class BiLSTM(nn.Module):\n",
    "    def __init__(self, input_dim, hidden_dim, output_dim, num_layers):\n",
    "        super(BiLSTM, self).__init__()\n",
    "\n",
    "        self.hidden_dim = hidden_dim\n",
    "        self.num_layers = num_layers\n",
    "\n",
    "        self.bilstm = nn.LSTM(input_dim, hidden_dim, num_layers=num_layers, batch_first=True, bidirectional=True)\n",
    "        self.dropout = nn.Dropout(p=0.5)\n",
    "        self.fc = nn.Linear(hidden_dim*2, output_dim)\n",
    "\n",
    "    def forward(self, x):\n",
    "        h0 = torch.zeros(self.num_layers*2, x.size(0), self.hidden_dim)\n",
    "        c0 = torch.zeros(self.num_layers*2, x.size(0), self.hidden_dim)\n",
    "\n",
    "        out, _ = self.bilstm(x, (h0, c0))\n",
    "        out = self.dropout(out)\n",
    "        out = self.fc(out)\n",
    "\n",
    "        return out\n",
    "\n",
    "    \n",
    "model = BiLSTM(input_dim=input_dim, hidden_dim=hidden_dim, output_dim=output_dim, num_layers=num_layers)\n",
    "\n",
    "loss_fn = torch.nn.MSELoss()\n",
    "\n",
    "optimiser = torch.optim.Adam(model.parameters(), lr=0.01)\n",
    "print(model)\n",
    "print(len(list(model.parameters())))\n",
    "for i in range(len(list(model.parameters()))):\n",
    "    print(list(model.parameters())[i].size())\n"
   ]
  },
  {
   "cell_type": "code",
   "execution_count": 30,
   "metadata": {
    "colab": {
     "base_uri": "https://localhost:8080/",
     "height": 1000
    },
    "executionInfo": {
     "elapsed": 9,
     "status": "error",
     "timestamp": 1683100450535,
     "user": {
      "displayName": "Chae Hwan Ryu",
      "userId": "08733564591952707727"
     },
     "user_tz": -540
    },
    "id": "MOii5ZI9eFCX",
    "outputId": "405813e6-7084-4503-b6e0-123514211843"
   },
   "outputs": [
    {
     "name": "stdout",
     "output_type": "stream",
     "text": [
      "Epoch 0, Train Loss: 0.0311\n",
      "Epoch  10 MSE:  0.0029053781181573868\n",
      "Epoch 10, Train Loss: 0.0029\n",
      "Epoch  20 MSE:  0.002409914508461952\n",
      "Epoch 20, Train Loss: 0.0024\n",
      "Epoch  30 MSE:  0.002209883648902178\n",
      "Epoch 30, Train Loss: 0.0022\n",
      "Epoch  40 MSE:  0.002123946323990822\n",
      "Epoch 40, Train Loss: 0.0021\n",
      "Epoch  50 MSE:  0.0020974422805011272\n",
      "Epoch 50, Train Loss: 0.0021\n",
      "Epoch  60 MSE:  0.0020819383207708597\n",
      "Epoch 60, Train Loss: 0.0021\n",
      "Epoch  70 MSE:  0.0020730781834572554\n",
      "Epoch 70, Train Loss: 0.0021\n"
     ]
    }
   ],
   "source": [
    "#train model\n",
    "num_epochs = 80\n",
    "hist = np.zeros(num_epochs)\n",
    "\n",
    "# Number of steps to unroll\n",
    "look_back = 13\n",
    "seq_dim =look_back-1  \n",
    "\n",
    "n_features = train_X_t.shape[-1]\n",
    "\n",
    "# # Reshape the data into appropriate shape for BLSTM\n",
    "# X_train = train_X_t.reshape(len(train_X_t), look_back-1, n_features)\n",
    "# y_train = train_y_t.reshape(-1, 1, train_y_t.shape[-1])\n",
    "# X_test = test_X_t.reshape(-1, look_back-1, n_features)\n",
    "# y_test = test_y_t.reshape(-1, 1, test_y_t.shape[-1])\n",
    "\n",
    "for t in range(num_epochs):\n",
    "    # Forward pass\n",
    "    y_train_pred = model(train_X_t)\n",
    "\n",
    "    loss = loss_fn(y_train_pred, train_y_t)\n",
    "    if t % 10 == 0 and t !=0:\n",
    "        print(\"Epoch \", t, \"MSE: \", loss.item())\n",
    "    hist[t] = loss.item()\n",
    "\n",
    "    # Zero out gradient, else they will accumulate between epochs\n",
    "    optimiser.zero_grad()\n",
    "\n",
    "    # Backward pass\n",
    "    loss.backward()\n",
    "\n",
    "    # Update parameters\n",
    "    optimiser.step()\n",
    "    \n",
    "    # Print the loss\n",
    "    if t % 10 == 0:\n",
    "        print(f\"Epoch {t}, Train Loss: {loss.item():.4f}\")"
   ]
  },
  {
   "cell_type": "code",
   "execution_count": 31,
   "metadata": {},
   "outputs": [
    {
     "data": {
      "text/plain": [
       "<All keys matched successfully>"
      ]
     },
     "execution_count": 31,
     "metadata": {},
     "output_type": "execute_result"
    }
   ],
   "source": [
    "# Save model\n",
    "torch.save(model.state_dict(), './trainedmodel/model_biLSTM_withoutGPT.pt')\n",
    "\n",
    "# Load model\n",
    "model_biLSTM = BiLSTM(input_dim=input_dim, hidden_dim=hidden_dim, output_dim=output_dim, num_layers=num_layers)\n",
    "model_biLSTM.load_state_dict(torch.load('./trainedmodel/model_biLSTM_withoutGPT.pt'))"
   ]
  },
  {
   "cell_type": "code",
   "execution_count": 32,
   "metadata": {},
   "outputs": [],
   "source": [
    "def calculate_rmse(actual_values, predicted_values):\n",
    "    mse = torch.mean((actual_values - predicted_values) ** 2)\n",
    "    rmse = torch.sqrt(mse)\n",
    "    return rmse"
   ]
  },
  {
   "cell_type": "code",
   "execution_count": 33,
   "metadata": {},
   "outputs": [
    {
     "name": "stdout",
     "output_type": "stream",
     "text": [
      "Test RMSE: 0.0516\n"
     ]
    }
   ],
   "source": [
    "# Evaluate loaded model\n",
    "with torch.no_grad():\n",
    "    prediction = model_biLSTM(test_X_t)\n",
    "    test_rmse = calculate_rmse(test_y_t, prediction)\n",
    "    print(f\"Test RMSE: {test_rmse.item():.4f}\")"
   ]
  },
  {
   "cell_type": "code",
   "execution_count": 34,
   "metadata": {
    "id": "Xg_bXIjLZqQ2"
   },
   "outputs": [],
   "source": [
    "def torch2df(input_torch):\n",
    "    df_all = pd.DataFrame(columns=[\"ticker\"] + [f\"future_{i}\" for i in range(13)])\n",
    "\n",
    "    for company_idx in range(input_torch.shape[0]):\n",
    "        company_data = input_torch[company_idx]\n",
    "        company_df = pd.DataFrame(company_data.numpy(), columns=[f\"future_{i}\" for i in range(13)])\n",
    "        company_df.insert(0, 'ticker', inverse_encoded_dict[company_idx])\n",
    "        # company_df['ticker'] = label_encoder.inverse_transform(df_500['ticker'])\n",
    "        df_all = pd.concat([df_all, company_df], axis=0, ignore_index=False)\n",
    "\n",
    "    return df_all"
   ]
  },
  {
   "cell_type": "code",
   "execution_count": 35,
   "metadata": {
    "id": "t85teUMwZqQ2",
    "outputId": "f6d195e1-d8d9-4d7d-aab5-cd22b390ead1"
   },
   "outputs": [],
   "source": [
    "BiLSTM_withoutGPT_result_notime = torch2df(prediction)"
   ]
  },
  {
   "cell_type": "code",
   "execution_count": null,
   "metadata": {},
   "outputs": [],
   "source": [
    "# timestamp 파일 불러오기\n",
    "timestamp_train = pd.read_csv('./result/timestamp_train.csv')\n",
    "timestamp_test = pd.read_csv('./result/timestamp_test.csv')\n",
    "\n",
    "# 열 삽입할 위치 지정\n",
    "insert_index = 1\n",
    "\n",
    "# 삽입할 열 선택\n",
    "column_to_insert = timestamp_test['timestamp']\n",
    "\n",
    "# 열 삽입\n",
    "BiLSTM_withoutGPT_result = BiLSTM_withoutGPT_result_notime.copy()\n",
    "BiLSTM_withoutGPT_result.insert(insert_index, 'timestamp', column_to_insert)\n",
    "\n",
    "# 결과 출력\n",
    "print(BiLSTM_withoutGPT_result)"
   ]
  },
  {
   "cell_type": "code",
   "execution_count": 41,
   "metadata": {},
   "outputs": [],
   "source": [
    "BiLSTM_withoutGPT_result.to_csv('./result/BiLSTM_withoutGPT.csv', index=False)"
   ]
  },
  {
   "cell_type": "code",
   "execution_count": 42,
   "metadata": {},
   "outputs": [],
   "source": [
    "# graph\n",
    "BiLSTM_withoutGPT = pd.read_csv('./result/BiLSTM_withoutGPT.csv')\n",
    "Test_y = pd.read_csv('./result/Test_y.csv')"
   ]
  },
  {
   "cell_type": "code",
   "execution_count": 43,
   "metadata": {},
   "outputs": [],
   "source": [
    "def plot_rpast_rfuture(predict, test, ticker, timestamp): # timestamp의 경우 형식은 YYYY.MM.DD, ticker, timestamp는 스트링\n",
    "    # \n",
    "    predict_row = predict.loc[(predict['ticker'] == ticker) & (predict['timestamp'] == timestamp)]\n",
    "    predict_values = predict_row[['future_0', 'future_1', 'future_2', 'future_3', 'future_4', 'future_5', 'future_6', 'future_7', 'future_8', 'future_9', 'future_10', 'future_11', 'future_12']].values[0]\n",
    "\n",
    "    test_future_row = test.loc[(test['ticker'] == ticker) & (test['timestamp'] == timestamp)]\n",
    "    test_future_values = test_future_row[['future_0', 'future_1', 'future_2', 'future_3', 'future_4', 'future_5', 'future_6', 'future_7', 'future_8', 'future_9', 'future_10', 'future_11', 'future_12']].values[0]\n",
    "    \n",
    "    # row 인덱스\n",
    "    index = test.loc[(test['ticker'] == ticker) & (test['timestamp'] == timestamp)].index[0]\n",
    "    # make sure we don't go below 0\n",
    "    if index >= 12:\n",
    "        test_past_rows = test.iloc[index - 12]\n",
    "    else:\n",
    "        print(\"Not enough previous data.\")\n",
    "    test_past_values = test_past_rows[['future_0', 'future_1', 'future_2', 'future_3', 'future_4', 'future_5', 'future_6', 'future_7', 'future_8', 'future_9', 'future_10', 'future_11', 'future_12']].values # 수정된 부분\n",
    "\n",
    "    # 리스트로 만들기\n",
    "    predict_values_list = predict_values.tolist()\n",
    "    test_future_values_list = test_future_values.tolist()\n",
    "    test_past_values_list = test_past_values.tolist()\n",
    "    \n",
    "    # 객체 생성\n",
    "    fig = go.Figure()\n",
    "\n",
    "    # 트레이스 생성\n",
    "    trace_past = go.Scatter(\n",
    "        x = list(range(-12, 1)),\n",
    "        y = test_past_values_list[-13:],  # 수정된 부분\n",
    "        mode = 'lines',\n",
    "        name = 'Past'\n",
    "    )\n",
    "\n",
    "    trace_predict = go.Scatter(\n",
    "        x = list(range(0, 13)),\n",
    "        y = predict_values_list,\n",
    "        mode = 'lines',\n",
    "        name = 'Predict'\n",
    "    )\n",
    "\n",
    "    trace_future = go.Scatter(\n",
    "        x = list(range(0, 13)),\n",
    "        y = test_future_values_list,\n",
    "        mode = 'lines',\n",
    "        name = 'Actual Future'\n",
    "    )\n",
    "\n",
    "    # 객체에 트레이스 삽입\n",
    "    fig.add_trace(trace_past)\n",
    "    fig.add_trace(trace_predict)\n",
    "    fig.add_trace(trace_future)\n",
    "\n",
    "\n",
    "    # 레이아웃\n",
    "    fig.update_layout(\n",
    "        title = \"Past, Predicted, and Actual Future Return\",\n",
    "        xaxis_title = \"Time\",\n",
    "        yaxis_title = \"Return\",\n",
    "        legend_title = \"Legend\",\n",
    "        font = dict(\n",
    "            family = \"Courier New, monospace\",\n",
    "            size = 18,\n",
    "            color = \"RebeccaPurple\"\n",
    "        )\n",
    "    )\n",
    "\n",
    "    # 그리기\n",
    "    fig.show()"
   ]
  },
  {
   "cell_type": "code",
   "execution_count": 54,
   "metadata": {},
   "outputs": [
    {
     "data": {
      "application/vnd.plotly.v1+json": {
       "config": {
        "plotlyServerURL": "https://plot.ly"
       },
       "data": [
        {
         "mode": "lines",
         "name": "Past",
         "type": "scatter",
         "x": [
          -12,
          -11,
          -10,
          -9,
          -8,
          -7,
          -6,
          -5,
          -4,
          -3,
          -2,
          -1,
          0
         ],
         "y": [
          0.038358,
          -0.0345431,
          -0.0195341,
          0.005888,
          -0.0290634,
          0.0017525,
          0.0135759,
          0.0265811,
          0.0074652,
          0.0098798,
          -0.0085272,
          0.0704047,
          -0.0232949
         ]
        },
        {
         "mode": "lines",
         "name": "Predict",
         "type": "scatter",
         "x": [
          0,
          1,
          2,
          3,
          4,
          5,
          6,
          7,
          8,
          9,
          10,
          11,
          12
         ],
         "y": [
          0.004089308,
          0.0004733163,
          0.0062404964,
          0.0034035929,
          0.00070141815,
          0.000649184,
          0.003638178,
          0.0056229364,
          0.0078095957,
          -0.0062955525,
          0.0014147237,
          -0.00457157,
          0.0023667077
         ]
        },
        {
         "mode": "lines",
         "name": "Actual Future",
         "type": "scatter",
         "x": [
          0,
          1,
          2,
          3,
          4,
          5,
          6,
          7,
          8,
          9,
          10,
          11,
          12
         ],
         "y": [
          -0.0232949,
          0.032077,
          0.1088112,
          -0.0463082,
          0.0300339,
          0.0073179,
          -0.0304105,
          0.0052274,
          -0.0615936,
          0.0487655,
          0.0120942,
          -0.021753,
          -0.0079459
         ]
        }
       ],
       "layout": {
        "font": {
         "color": "RebeccaPurple",
         "family": "Courier New, monospace",
         "size": 18
        },
        "legend": {
         "title": {
          "text": "Legend"
         }
        },
        "template": {
         "data": {
          "bar": [
           {
            "error_x": {
             "color": "#2a3f5f"
            },
            "error_y": {
             "color": "#2a3f5f"
            },
            "marker": {
             "line": {
              "color": "#E5ECF6",
              "width": 0.5
             },
             "pattern": {
              "fillmode": "overlay",
              "size": 10,
              "solidity": 0.2
             }
            },
            "type": "bar"
           }
          ],
          "barpolar": [
           {
            "marker": {
             "line": {
              "color": "#E5ECF6",
              "width": 0.5
             },
             "pattern": {
              "fillmode": "overlay",
              "size": 10,
              "solidity": 0.2
             }
            },
            "type": "barpolar"
           }
          ],
          "carpet": [
           {
            "aaxis": {
             "endlinecolor": "#2a3f5f",
             "gridcolor": "white",
             "linecolor": "white",
             "minorgridcolor": "white",
             "startlinecolor": "#2a3f5f"
            },
            "baxis": {
             "endlinecolor": "#2a3f5f",
             "gridcolor": "white",
             "linecolor": "white",
             "minorgridcolor": "white",
             "startlinecolor": "#2a3f5f"
            },
            "type": "carpet"
           }
          ],
          "choropleth": [
           {
            "colorbar": {
             "outlinewidth": 0,
             "ticks": ""
            },
            "type": "choropleth"
           }
          ],
          "contour": [
           {
            "colorbar": {
             "outlinewidth": 0,
             "ticks": ""
            },
            "colorscale": [
             [
              0,
              "#0d0887"
             ],
             [
              0.1111111111111111,
              "#46039f"
             ],
             [
              0.2222222222222222,
              "#7201a8"
             ],
             [
              0.3333333333333333,
              "#9c179e"
             ],
             [
              0.4444444444444444,
              "#bd3786"
             ],
             [
              0.5555555555555556,
              "#d8576b"
             ],
             [
              0.6666666666666666,
              "#ed7953"
             ],
             [
              0.7777777777777778,
              "#fb9f3a"
             ],
             [
              0.8888888888888888,
              "#fdca26"
             ],
             [
              1,
              "#f0f921"
             ]
            ],
            "type": "contour"
           }
          ],
          "contourcarpet": [
           {
            "colorbar": {
             "outlinewidth": 0,
             "ticks": ""
            },
            "type": "contourcarpet"
           }
          ],
          "heatmap": [
           {
            "colorbar": {
             "outlinewidth": 0,
             "ticks": ""
            },
            "colorscale": [
             [
              0,
              "#0d0887"
             ],
             [
              0.1111111111111111,
              "#46039f"
             ],
             [
              0.2222222222222222,
              "#7201a8"
             ],
             [
              0.3333333333333333,
              "#9c179e"
             ],
             [
              0.4444444444444444,
              "#bd3786"
             ],
             [
              0.5555555555555556,
              "#d8576b"
             ],
             [
              0.6666666666666666,
              "#ed7953"
             ],
             [
              0.7777777777777778,
              "#fb9f3a"
             ],
             [
              0.8888888888888888,
              "#fdca26"
             ],
             [
              1,
              "#f0f921"
             ]
            ],
            "type": "heatmap"
           }
          ],
          "heatmapgl": [
           {
            "colorbar": {
             "outlinewidth": 0,
             "ticks": ""
            },
            "colorscale": [
             [
              0,
              "#0d0887"
             ],
             [
              0.1111111111111111,
              "#46039f"
             ],
             [
              0.2222222222222222,
              "#7201a8"
             ],
             [
              0.3333333333333333,
              "#9c179e"
             ],
             [
              0.4444444444444444,
              "#bd3786"
             ],
             [
              0.5555555555555556,
              "#d8576b"
             ],
             [
              0.6666666666666666,
              "#ed7953"
             ],
             [
              0.7777777777777778,
              "#fb9f3a"
             ],
             [
              0.8888888888888888,
              "#fdca26"
             ],
             [
              1,
              "#f0f921"
             ]
            ],
            "type": "heatmapgl"
           }
          ],
          "histogram": [
           {
            "marker": {
             "pattern": {
              "fillmode": "overlay",
              "size": 10,
              "solidity": 0.2
             }
            },
            "type": "histogram"
           }
          ],
          "histogram2d": [
           {
            "colorbar": {
             "outlinewidth": 0,
             "ticks": ""
            },
            "colorscale": [
             [
              0,
              "#0d0887"
             ],
             [
              0.1111111111111111,
              "#46039f"
             ],
             [
              0.2222222222222222,
              "#7201a8"
             ],
             [
              0.3333333333333333,
              "#9c179e"
             ],
             [
              0.4444444444444444,
              "#bd3786"
             ],
             [
              0.5555555555555556,
              "#d8576b"
             ],
             [
              0.6666666666666666,
              "#ed7953"
             ],
             [
              0.7777777777777778,
              "#fb9f3a"
             ],
             [
              0.8888888888888888,
              "#fdca26"
             ],
             [
              1,
              "#f0f921"
             ]
            ],
            "type": "histogram2d"
           }
          ],
          "histogram2dcontour": [
           {
            "colorbar": {
             "outlinewidth": 0,
             "ticks": ""
            },
            "colorscale": [
             [
              0,
              "#0d0887"
             ],
             [
              0.1111111111111111,
              "#46039f"
             ],
             [
              0.2222222222222222,
              "#7201a8"
             ],
             [
              0.3333333333333333,
              "#9c179e"
             ],
             [
              0.4444444444444444,
              "#bd3786"
             ],
             [
              0.5555555555555556,
              "#d8576b"
             ],
             [
              0.6666666666666666,
              "#ed7953"
             ],
             [
              0.7777777777777778,
              "#fb9f3a"
             ],
             [
              0.8888888888888888,
              "#fdca26"
             ],
             [
              1,
              "#f0f921"
             ]
            ],
            "type": "histogram2dcontour"
           }
          ],
          "mesh3d": [
           {
            "colorbar": {
             "outlinewidth": 0,
             "ticks": ""
            },
            "type": "mesh3d"
           }
          ],
          "parcoords": [
           {
            "line": {
             "colorbar": {
              "outlinewidth": 0,
              "ticks": ""
             }
            },
            "type": "parcoords"
           }
          ],
          "pie": [
           {
            "automargin": true,
            "type": "pie"
           }
          ],
          "scatter": [
           {
            "fillpattern": {
             "fillmode": "overlay",
             "size": 10,
             "solidity": 0.2
            },
            "type": "scatter"
           }
          ],
          "scatter3d": [
           {
            "line": {
             "colorbar": {
              "outlinewidth": 0,
              "ticks": ""
             }
            },
            "marker": {
             "colorbar": {
              "outlinewidth": 0,
              "ticks": ""
             }
            },
            "type": "scatter3d"
           }
          ],
          "scattercarpet": [
           {
            "marker": {
             "colorbar": {
              "outlinewidth": 0,
              "ticks": ""
             }
            },
            "type": "scattercarpet"
           }
          ],
          "scattergeo": [
           {
            "marker": {
             "colorbar": {
              "outlinewidth": 0,
              "ticks": ""
             }
            },
            "type": "scattergeo"
           }
          ],
          "scattergl": [
           {
            "marker": {
             "colorbar": {
              "outlinewidth": 0,
              "ticks": ""
             }
            },
            "type": "scattergl"
           }
          ],
          "scattermapbox": [
           {
            "marker": {
             "colorbar": {
              "outlinewidth": 0,
              "ticks": ""
             }
            },
            "type": "scattermapbox"
           }
          ],
          "scatterpolar": [
           {
            "marker": {
             "colorbar": {
              "outlinewidth": 0,
              "ticks": ""
             }
            },
            "type": "scatterpolar"
           }
          ],
          "scatterpolargl": [
           {
            "marker": {
             "colorbar": {
              "outlinewidth": 0,
              "ticks": ""
             }
            },
            "type": "scatterpolargl"
           }
          ],
          "scatterternary": [
           {
            "marker": {
             "colorbar": {
              "outlinewidth": 0,
              "ticks": ""
             }
            },
            "type": "scatterternary"
           }
          ],
          "surface": [
           {
            "colorbar": {
             "outlinewidth": 0,
             "ticks": ""
            },
            "colorscale": [
             [
              0,
              "#0d0887"
             ],
             [
              0.1111111111111111,
              "#46039f"
             ],
             [
              0.2222222222222222,
              "#7201a8"
             ],
             [
              0.3333333333333333,
              "#9c179e"
             ],
             [
              0.4444444444444444,
              "#bd3786"
             ],
             [
              0.5555555555555556,
              "#d8576b"
             ],
             [
              0.6666666666666666,
              "#ed7953"
             ],
             [
              0.7777777777777778,
              "#fb9f3a"
             ],
             [
              0.8888888888888888,
              "#fdca26"
             ],
             [
              1,
              "#f0f921"
             ]
            ],
            "type": "surface"
           }
          ],
          "table": [
           {
            "cells": {
             "fill": {
              "color": "#EBF0F8"
             },
             "line": {
              "color": "white"
             }
            },
            "header": {
             "fill": {
              "color": "#C8D4E3"
             },
             "line": {
              "color": "white"
             }
            },
            "type": "table"
           }
          ]
         },
         "layout": {
          "annotationdefaults": {
           "arrowcolor": "#2a3f5f",
           "arrowhead": 0,
           "arrowwidth": 1
          },
          "autotypenumbers": "strict",
          "coloraxis": {
           "colorbar": {
            "outlinewidth": 0,
            "ticks": ""
           }
          },
          "colorscale": {
           "diverging": [
            [
             0,
             "#8e0152"
            ],
            [
             0.1,
             "#c51b7d"
            ],
            [
             0.2,
             "#de77ae"
            ],
            [
             0.3,
             "#f1b6da"
            ],
            [
             0.4,
             "#fde0ef"
            ],
            [
             0.5,
             "#f7f7f7"
            ],
            [
             0.6,
             "#e6f5d0"
            ],
            [
             0.7,
             "#b8e186"
            ],
            [
             0.8,
             "#7fbc41"
            ],
            [
             0.9,
             "#4d9221"
            ],
            [
             1,
             "#276419"
            ]
           ],
           "sequential": [
            [
             0,
             "#0d0887"
            ],
            [
             0.1111111111111111,
             "#46039f"
            ],
            [
             0.2222222222222222,
             "#7201a8"
            ],
            [
             0.3333333333333333,
             "#9c179e"
            ],
            [
             0.4444444444444444,
             "#bd3786"
            ],
            [
             0.5555555555555556,
             "#d8576b"
            ],
            [
             0.6666666666666666,
             "#ed7953"
            ],
            [
             0.7777777777777778,
             "#fb9f3a"
            ],
            [
             0.8888888888888888,
             "#fdca26"
            ],
            [
             1,
             "#f0f921"
            ]
           ],
           "sequentialminus": [
            [
             0,
             "#0d0887"
            ],
            [
             0.1111111111111111,
             "#46039f"
            ],
            [
             0.2222222222222222,
             "#7201a8"
            ],
            [
             0.3333333333333333,
             "#9c179e"
            ],
            [
             0.4444444444444444,
             "#bd3786"
            ],
            [
             0.5555555555555556,
             "#d8576b"
            ],
            [
             0.6666666666666666,
             "#ed7953"
            ],
            [
             0.7777777777777778,
             "#fb9f3a"
            ],
            [
             0.8888888888888888,
             "#fdca26"
            ],
            [
             1,
             "#f0f921"
            ]
           ]
          },
          "colorway": [
           "#636efa",
           "#EF553B",
           "#00cc96",
           "#ab63fa",
           "#FFA15A",
           "#19d3f3",
           "#FF6692",
           "#B6E880",
           "#FF97FF",
           "#FECB52"
          ],
          "font": {
           "color": "#2a3f5f"
          },
          "geo": {
           "bgcolor": "white",
           "lakecolor": "white",
           "landcolor": "#E5ECF6",
           "showlakes": true,
           "showland": true,
           "subunitcolor": "white"
          },
          "hoverlabel": {
           "align": "left"
          },
          "hovermode": "closest",
          "mapbox": {
           "style": "light"
          },
          "paper_bgcolor": "white",
          "plot_bgcolor": "#E5ECF6",
          "polar": {
           "angularaxis": {
            "gridcolor": "white",
            "linecolor": "white",
            "ticks": ""
           },
           "bgcolor": "#E5ECF6",
           "radialaxis": {
            "gridcolor": "white",
            "linecolor": "white",
            "ticks": ""
           }
          },
          "scene": {
           "xaxis": {
            "backgroundcolor": "#E5ECF6",
            "gridcolor": "white",
            "gridwidth": 2,
            "linecolor": "white",
            "showbackground": true,
            "ticks": "",
            "zerolinecolor": "white"
           },
           "yaxis": {
            "backgroundcolor": "#E5ECF6",
            "gridcolor": "white",
            "gridwidth": 2,
            "linecolor": "white",
            "showbackground": true,
            "ticks": "",
            "zerolinecolor": "white"
           },
           "zaxis": {
            "backgroundcolor": "#E5ECF6",
            "gridcolor": "white",
            "gridwidth": 2,
            "linecolor": "white",
            "showbackground": true,
            "ticks": "",
            "zerolinecolor": "white"
           }
          },
          "shapedefaults": {
           "line": {
            "color": "#2a3f5f"
           }
          },
          "ternary": {
           "aaxis": {
            "gridcolor": "white",
            "linecolor": "white",
            "ticks": ""
           },
           "baxis": {
            "gridcolor": "white",
            "linecolor": "white",
            "ticks": ""
           },
           "bgcolor": "#E5ECF6",
           "caxis": {
            "gridcolor": "white",
            "linecolor": "white",
            "ticks": ""
           }
          },
          "title": {
           "x": 0.05
          },
          "xaxis": {
           "automargin": true,
           "gridcolor": "white",
           "linecolor": "white",
           "ticks": "",
           "title": {
            "standoff": 15
           },
           "zerolinecolor": "white",
           "zerolinewidth": 2
          },
          "yaxis": {
           "automargin": true,
           "gridcolor": "white",
           "linecolor": "white",
           "ticks": "",
           "title": {
            "standoff": 15
           },
           "zerolinecolor": "white",
           "zerolinewidth": 2
          }
         }
        },
        "title": {
         "text": "Past, Predicted, and Actual Future Return"
        },
        "xaxis": {
         "title": {
          "text": "Time"
         }
        },
        "yaxis": {
         "title": {
          "text": "Return"
         }
        }
       }
      }
     },
     "metadata": {},
     "output_type": "display_data"
    }
   ],
   "source": [
    "plot_rpast_rfuture(BiLSTM_withoutGPT, Test_y, 'AAPL', '2021-11-26')"
   ]
  },
  {
   "cell_type": "code",
   "execution_count": 52,
   "metadata": {},
   "outputs": [
    {
     "data": {
      "application/vnd.plotly.v1+json": {
       "config": {
        "plotlyServerURL": "https://plot.ly"
       },
       "data": [
        {
         "mode": "lines",
         "name": "Past",
         "type": "scatter",
         "x": [
          -12,
          -11,
          -10,
          -9,
          -8,
          -7,
          -6,
          -5,
          -4,
          -3,
          -2,
          -1,
          0
         ],
         "y": [
          0.0383386,
          -0.0025589,
          -0.0019111,
          -0.0106859,
          -0.0415295,
          0.0016325,
          0.0366111,
          -0.0215516,
          0.0110566,
          0.0434583,
          0.0017505,
          0.0429542,
          -0.0467855
         ]
        },
        {
         "mode": "lines",
         "name": "Predict",
         "type": "scatter",
         "x": [
          0,
          1,
          2,
          3,
          4,
          5,
          6,
          7,
          8,
          9,
          10,
          11,
          12
         ],
         "y": [
          0.0016135117,
          0.0033027069,
          -0.00057247933,
          0.010787515,
          0.0022594426,
          0.0053449743,
          -0.0048593814,
          0.002686489,
          0.002814785,
          0.011707101,
          0.0031917514,
          0.0081683975,
          0.006578378
         ]
        },
        {
         "mode": "lines",
         "name": "Actual Future",
         "type": "scatter",
         "x": [
          0,
          1,
          2,
          3,
          4,
          5,
          6,
          7,
          8,
          9,
          10,
          11,
          12
         ],
         "y": [
          -0.0467855,
          -0.0327488,
          0.0160629,
          -0.012743,
          0.0061817,
          -0.0254372,
          -0.0249705,
          -0.0025591,
          -0.1202371,
          0.009359,
          0.094886,
          -0.0275692,
          -0.0045142
         ]
        }
       ],
       "layout": {
        "font": {
         "color": "RebeccaPurple",
         "family": "Courier New, monospace",
         "size": 18
        },
        "legend": {
         "title": {
          "text": "Legend"
         }
        },
        "template": {
         "data": {
          "bar": [
           {
            "error_x": {
             "color": "#2a3f5f"
            },
            "error_y": {
             "color": "#2a3f5f"
            },
            "marker": {
             "line": {
              "color": "#E5ECF6",
              "width": 0.5
             },
             "pattern": {
              "fillmode": "overlay",
              "size": 10,
              "solidity": 0.2
             }
            },
            "type": "bar"
           }
          ],
          "barpolar": [
           {
            "marker": {
             "line": {
              "color": "#E5ECF6",
              "width": 0.5
             },
             "pattern": {
              "fillmode": "overlay",
              "size": 10,
              "solidity": 0.2
             }
            },
            "type": "barpolar"
           }
          ],
          "carpet": [
           {
            "aaxis": {
             "endlinecolor": "#2a3f5f",
             "gridcolor": "white",
             "linecolor": "white",
             "minorgridcolor": "white",
             "startlinecolor": "#2a3f5f"
            },
            "baxis": {
             "endlinecolor": "#2a3f5f",
             "gridcolor": "white",
             "linecolor": "white",
             "minorgridcolor": "white",
             "startlinecolor": "#2a3f5f"
            },
            "type": "carpet"
           }
          ],
          "choropleth": [
           {
            "colorbar": {
             "outlinewidth": 0,
             "ticks": ""
            },
            "type": "choropleth"
           }
          ],
          "contour": [
           {
            "colorbar": {
             "outlinewidth": 0,
             "ticks": ""
            },
            "colorscale": [
             [
              0,
              "#0d0887"
             ],
             [
              0.1111111111111111,
              "#46039f"
             ],
             [
              0.2222222222222222,
              "#7201a8"
             ],
             [
              0.3333333333333333,
              "#9c179e"
             ],
             [
              0.4444444444444444,
              "#bd3786"
             ],
             [
              0.5555555555555556,
              "#d8576b"
             ],
             [
              0.6666666666666666,
              "#ed7953"
             ],
             [
              0.7777777777777778,
              "#fb9f3a"
             ],
             [
              0.8888888888888888,
              "#fdca26"
             ],
             [
              1,
              "#f0f921"
             ]
            ],
            "type": "contour"
           }
          ],
          "contourcarpet": [
           {
            "colorbar": {
             "outlinewidth": 0,
             "ticks": ""
            },
            "type": "contourcarpet"
           }
          ],
          "heatmap": [
           {
            "colorbar": {
             "outlinewidth": 0,
             "ticks": ""
            },
            "colorscale": [
             [
              0,
              "#0d0887"
             ],
             [
              0.1111111111111111,
              "#46039f"
             ],
             [
              0.2222222222222222,
              "#7201a8"
             ],
             [
              0.3333333333333333,
              "#9c179e"
             ],
             [
              0.4444444444444444,
              "#bd3786"
             ],
             [
              0.5555555555555556,
              "#d8576b"
             ],
             [
              0.6666666666666666,
              "#ed7953"
             ],
             [
              0.7777777777777778,
              "#fb9f3a"
             ],
             [
              0.8888888888888888,
              "#fdca26"
             ],
             [
              1,
              "#f0f921"
             ]
            ],
            "type": "heatmap"
           }
          ],
          "heatmapgl": [
           {
            "colorbar": {
             "outlinewidth": 0,
             "ticks": ""
            },
            "colorscale": [
             [
              0,
              "#0d0887"
             ],
             [
              0.1111111111111111,
              "#46039f"
             ],
             [
              0.2222222222222222,
              "#7201a8"
             ],
             [
              0.3333333333333333,
              "#9c179e"
             ],
             [
              0.4444444444444444,
              "#bd3786"
             ],
             [
              0.5555555555555556,
              "#d8576b"
             ],
             [
              0.6666666666666666,
              "#ed7953"
             ],
             [
              0.7777777777777778,
              "#fb9f3a"
             ],
             [
              0.8888888888888888,
              "#fdca26"
             ],
             [
              1,
              "#f0f921"
             ]
            ],
            "type": "heatmapgl"
           }
          ],
          "histogram": [
           {
            "marker": {
             "pattern": {
              "fillmode": "overlay",
              "size": 10,
              "solidity": 0.2
             }
            },
            "type": "histogram"
           }
          ],
          "histogram2d": [
           {
            "colorbar": {
             "outlinewidth": 0,
             "ticks": ""
            },
            "colorscale": [
             [
              0,
              "#0d0887"
             ],
             [
              0.1111111111111111,
              "#46039f"
             ],
             [
              0.2222222222222222,
              "#7201a8"
             ],
             [
              0.3333333333333333,
              "#9c179e"
             ],
             [
              0.4444444444444444,
              "#bd3786"
             ],
             [
              0.5555555555555556,
              "#d8576b"
             ],
             [
              0.6666666666666666,
              "#ed7953"
             ],
             [
              0.7777777777777778,
              "#fb9f3a"
             ],
             [
              0.8888888888888888,
              "#fdca26"
             ],
             [
              1,
              "#f0f921"
             ]
            ],
            "type": "histogram2d"
           }
          ],
          "histogram2dcontour": [
           {
            "colorbar": {
             "outlinewidth": 0,
             "ticks": ""
            },
            "colorscale": [
             [
              0,
              "#0d0887"
             ],
             [
              0.1111111111111111,
              "#46039f"
             ],
             [
              0.2222222222222222,
              "#7201a8"
             ],
             [
              0.3333333333333333,
              "#9c179e"
             ],
             [
              0.4444444444444444,
              "#bd3786"
             ],
             [
              0.5555555555555556,
              "#d8576b"
             ],
             [
              0.6666666666666666,
              "#ed7953"
             ],
             [
              0.7777777777777778,
              "#fb9f3a"
             ],
             [
              0.8888888888888888,
              "#fdca26"
             ],
             [
              1,
              "#f0f921"
             ]
            ],
            "type": "histogram2dcontour"
           }
          ],
          "mesh3d": [
           {
            "colorbar": {
             "outlinewidth": 0,
             "ticks": ""
            },
            "type": "mesh3d"
           }
          ],
          "parcoords": [
           {
            "line": {
             "colorbar": {
              "outlinewidth": 0,
              "ticks": ""
             }
            },
            "type": "parcoords"
           }
          ],
          "pie": [
           {
            "automargin": true,
            "type": "pie"
           }
          ],
          "scatter": [
           {
            "fillpattern": {
             "fillmode": "overlay",
             "size": 10,
             "solidity": 0.2
            },
            "type": "scatter"
           }
          ],
          "scatter3d": [
           {
            "line": {
             "colorbar": {
              "outlinewidth": 0,
              "ticks": ""
             }
            },
            "marker": {
             "colorbar": {
              "outlinewidth": 0,
              "ticks": ""
             }
            },
            "type": "scatter3d"
           }
          ],
          "scattercarpet": [
           {
            "marker": {
             "colorbar": {
              "outlinewidth": 0,
              "ticks": ""
             }
            },
            "type": "scattercarpet"
           }
          ],
          "scattergeo": [
           {
            "marker": {
             "colorbar": {
              "outlinewidth": 0,
              "ticks": ""
             }
            },
            "type": "scattergeo"
           }
          ],
          "scattergl": [
           {
            "marker": {
             "colorbar": {
              "outlinewidth": 0,
              "ticks": ""
             }
            },
            "type": "scattergl"
           }
          ],
          "scattermapbox": [
           {
            "marker": {
             "colorbar": {
              "outlinewidth": 0,
              "ticks": ""
             }
            },
            "type": "scattermapbox"
           }
          ],
          "scatterpolar": [
           {
            "marker": {
             "colorbar": {
              "outlinewidth": 0,
              "ticks": ""
             }
            },
            "type": "scatterpolar"
           }
          ],
          "scatterpolargl": [
           {
            "marker": {
             "colorbar": {
              "outlinewidth": 0,
              "ticks": ""
             }
            },
            "type": "scatterpolargl"
           }
          ],
          "scatterternary": [
           {
            "marker": {
             "colorbar": {
              "outlinewidth": 0,
              "ticks": ""
             }
            },
            "type": "scatterternary"
           }
          ],
          "surface": [
           {
            "colorbar": {
             "outlinewidth": 0,
             "ticks": ""
            },
            "colorscale": [
             [
              0,
              "#0d0887"
             ],
             [
              0.1111111111111111,
              "#46039f"
             ],
             [
              0.2222222222222222,
              "#7201a8"
             ],
             [
              0.3333333333333333,
              "#9c179e"
             ],
             [
              0.4444444444444444,
              "#bd3786"
             ],
             [
              0.5555555555555556,
              "#d8576b"
             ],
             [
              0.6666666666666666,
              "#ed7953"
             ],
             [
              0.7777777777777778,
              "#fb9f3a"
             ],
             [
              0.8888888888888888,
              "#fdca26"
             ],
             [
              1,
              "#f0f921"
             ]
            ],
            "type": "surface"
           }
          ],
          "table": [
           {
            "cells": {
             "fill": {
              "color": "#EBF0F8"
             },
             "line": {
              "color": "white"
             }
            },
            "header": {
             "fill": {
              "color": "#C8D4E3"
             },
             "line": {
              "color": "white"
             }
            },
            "type": "table"
           }
          ]
         },
         "layout": {
          "annotationdefaults": {
           "arrowcolor": "#2a3f5f",
           "arrowhead": 0,
           "arrowwidth": 1
          },
          "autotypenumbers": "strict",
          "coloraxis": {
           "colorbar": {
            "outlinewidth": 0,
            "ticks": ""
           }
          },
          "colorscale": {
           "diverging": [
            [
             0,
             "#8e0152"
            ],
            [
             0.1,
             "#c51b7d"
            ],
            [
             0.2,
             "#de77ae"
            ],
            [
             0.3,
             "#f1b6da"
            ],
            [
             0.4,
             "#fde0ef"
            ],
            [
             0.5,
             "#f7f7f7"
            ],
            [
             0.6,
             "#e6f5d0"
            ],
            [
             0.7,
             "#b8e186"
            ],
            [
             0.8,
             "#7fbc41"
            ],
            [
             0.9,
             "#4d9221"
            ],
            [
             1,
             "#276419"
            ]
           ],
           "sequential": [
            [
             0,
             "#0d0887"
            ],
            [
             0.1111111111111111,
             "#46039f"
            ],
            [
             0.2222222222222222,
             "#7201a8"
            ],
            [
             0.3333333333333333,
             "#9c179e"
            ],
            [
             0.4444444444444444,
             "#bd3786"
            ],
            [
             0.5555555555555556,
             "#d8576b"
            ],
            [
             0.6666666666666666,
             "#ed7953"
            ],
            [
             0.7777777777777778,
             "#fb9f3a"
            ],
            [
             0.8888888888888888,
             "#fdca26"
            ],
            [
             1,
             "#f0f921"
            ]
           ],
           "sequentialminus": [
            [
             0,
             "#0d0887"
            ],
            [
             0.1111111111111111,
             "#46039f"
            ],
            [
             0.2222222222222222,
             "#7201a8"
            ],
            [
             0.3333333333333333,
             "#9c179e"
            ],
            [
             0.4444444444444444,
             "#bd3786"
            ],
            [
             0.5555555555555556,
             "#d8576b"
            ],
            [
             0.6666666666666666,
             "#ed7953"
            ],
            [
             0.7777777777777778,
             "#fb9f3a"
            ],
            [
             0.8888888888888888,
             "#fdca26"
            ],
            [
             1,
             "#f0f921"
            ]
           ]
          },
          "colorway": [
           "#636efa",
           "#EF553B",
           "#00cc96",
           "#ab63fa",
           "#FFA15A",
           "#19d3f3",
           "#FF6692",
           "#B6E880",
           "#FF97FF",
           "#FECB52"
          ],
          "font": {
           "color": "#2a3f5f"
          },
          "geo": {
           "bgcolor": "white",
           "lakecolor": "white",
           "landcolor": "#E5ECF6",
           "showlakes": true,
           "showland": true,
           "subunitcolor": "white"
          },
          "hoverlabel": {
           "align": "left"
          },
          "hovermode": "closest",
          "mapbox": {
           "style": "light"
          },
          "paper_bgcolor": "white",
          "plot_bgcolor": "#E5ECF6",
          "polar": {
           "angularaxis": {
            "gridcolor": "white",
            "linecolor": "white",
            "ticks": ""
           },
           "bgcolor": "#E5ECF6",
           "radialaxis": {
            "gridcolor": "white",
            "linecolor": "white",
            "ticks": ""
           }
          },
          "scene": {
           "xaxis": {
            "backgroundcolor": "#E5ECF6",
            "gridcolor": "white",
            "gridwidth": 2,
            "linecolor": "white",
            "showbackground": true,
            "ticks": "",
            "zerolinecolor": "white"
           },
           "yaxis": {
            "backgroundcolor": "#E5ECF6",
            "gridcolor": "white",
            "gridwidth": 2,
            "linecolor": "white",
            "showbackground": true,
            "ticks": "",
            "zerolinecolor": "white"
           },
           "zaxis": {
            "backgroundcolor": "#E5ECF6",
            "gridcolor": "white",
            "gridwidth": 2,
            "linecolor": "white",
            "showbackground": true,
            "ticks": "",
            "zerolinecolor": "white"
           }
          },
          "shapedefaults": {
           "line": {
            "color": "#2a3f5f"
           }
          },
          "ternary": {
           "aaxis": {
            "gridcolor": "white",
            "linecolor": "white",
            "ticks": ""
           },
           "baxis": {
            "gridcolor": "white",
            "linecolor": "white",
            "ticks": ""
           },
           "bgcolor": "#E5ECF6",
           "caxis": {
            "gridcolor": "white",
            "linecolor": "white",
            "ticks": ""
           }
          },
          "title": {
           "x": 0.05
          },
          "xaxis": {
           "automargin": true,
           "gridcolor": "white",
           "linecolor": "white",
           "ticks": "",
           "title": {
            "standoff": 15
           },
           "zerolinecolor": "white",
           "zerolinewidth": 2
          },
          "yaxis": {
           "automargin": true,
           "gridcolor": "white",
           "linecolor": "white",
           "ticks": "",
           "title": {
            "standoff": 15
           },
           "zerolinecolor": "white",
           "zerolinewidth": 2
          }
         }
        },
        "title": {
         "text": "Past, Predicted, and Actual Future Return"
        },
        "xaxis": {
         "title": {
          "text": "Time"
         }
        },
        "yaxis": {
         "title": {
          "text": "Return"
         }
        }
       }
      }
     },
     "metadata": {},
     "output_type": "display_data"
    }
   ],
   "source": [
    "plot_rpast_rfuture(BiLSTM_withoutGPT, Test_y, 'AMZN', '2021-11-26')"
   ]
  }
 ],
 "metadata": {
  "accelerator": "GPU",
  "colab": {
   "provenance": []
  },
  "gpuClass": "standard",
  "kernelspec": {
   "display_name": "Python 3 (ipykernel)",
   "language": "python",
   "name": "python3"
  },
  "language_info": {
   "codemirror_mode": {
    "name": "ipython",
    "version": 3
   },
   "file_extension": ".py",
   "mimetype": "text/x-python",
   "name": "python",
   "nbconvert_exporter": "python",
   "pygments_lexer": "ipython3",
   "version": "3.10.9"
  }
 },
 "nbformat": 4,
 "nbformat_minor": 1
}
