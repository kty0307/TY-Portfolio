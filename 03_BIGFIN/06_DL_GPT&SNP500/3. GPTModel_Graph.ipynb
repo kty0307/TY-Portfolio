{
 "cells": [
  {
   "cell_type": "markdown",
   "metadata": {
    "id": "nHHCchgQHHL3"
   },
   "source": [
    "# Preparing Data"
   ]
  },
  {
   "cell_type": "markdown",
   "metadata": {
    "id": "IJSDr1VscIBD"
   },
   "source": [
    "우리가 하려는 건 결국 주식에 대한 정보와, 과거 주가를 넣으면 미래 주가가 나오는 모델을 만드는 것이 목표. <br>\n",
    "그러면 시기가 끊기는 것은 중요하지 않으므로, NaN 값이 없는 데이터셋을 사용"
   ]
  },
  {
   "cell_type": "markdown",
   "metadata": {
    "id": "FPcmsKmhHheF"
   },
   "source": [
    "## Data 불러오기 (colab)"
   ]
  },
  {
   "cell_type": "code",
   "execution_count": null,
   "metadata": {
    "colab": {
     "base_uri": "https://localhost:8080/"
    },
    "id": "pZdTDcprMg0U",
    "outputId": "0945a3c7-7e37-4a4d-d663-bc9709e0b36a"
   },
   "outputs": [
    {
     "name": "stdout",
     "output_type": "stream",
     "text": [
      "Mounted at /content/drive\n"
     ]
    }
   ],
   "source": [
    "from google.colab import drive\n",
    "drive.mount('/content/drive')"
   ]
  },
  {
   "cell_type": "code",
   "execution_count": null,
   "metadata": {
    "id": "-KSk6A39IH0I"
   },
   "outputs": [],
   "source": [
    "import pandas as pd\n",
    "df = pd.read_csv('/content/drive/MyDrive/Colab Notebooks/dataset-evalPRPR-SPX-nonan (2).csv')"
   ]
  },
  {
   "cell_type": "markdown",
   "metadata": {
    "id": "Xe28WkTwLwNw"
   },
   "source": [
    "## Data 불러오기 (vscode)"
   ]
  },
  {
   "cell_type": "markdown",
   "metadata": {
    "id": "TH9G6Yh11k39"
   },
   "source": [
    "# Data Preprocessing"
   ]
  },
  {
   "cell_type": "code",
   "execution_count": null,
   "metadata": {
    "id": "kj1wiT2OQQpR"
   },
   "outputs": [],
   "source": [
    "df_ = df.copy()"
   ]
  },
  {
   "cell_type": "markdown",
   "metadata": {
    "id": "7AKzWZZPLwNx"
   },
   "source": [
    "## 모든 timestamp 정보를 가진 기업만 추리기"
   ]
  },
  {
   "cell_type": "code",
   "execution_count": null,
   "metadata": {
    "colab": {
     "base_uri": "https://localhost:8080/"
    },
    "id": "nEQeLJ0Om0rP",
    "outputId": "b26f569f-eff0-44c0-de8c-236158fca4c3"
   },
   "outputs": [
    {
     "data": {
      "text/plain": [
       "Index(['ticker', 'company', 'timestamp', 'financial stability and liquidity',\n",
       "       'strong management team', 'competitive advantage', 'market potential',\n",
       "       'growth prospects', 'diversification within the company',\n",
       "       'sustainable business model', 'innovation and R&D',\n",
       "       'corporate governance', 'strong brand recognition', 'open', 'high',\n",
       "       'low', 'close', 'volume', 'return', 'SPX', 'calculated_price', 'P',\n",
       "       'P_future', 'R', 'R_future'],\n",
       "      dtype='object')"
      ]
     },
     "execution_count": 4,
     "metadata": {},
     "output_type": "execute_result"
    }
   ],
   "source": [
    "# 우리가 가지고 있는 모든 timestamp(509개)의 정보를 가진 기업만 다룰 예정\n",
    "# 지워야 하는 기업의 리스트\n",
    "delete_ticker_list = []\n",
    "\n",
    "# for문으로 509개의 정보를 가지지 않은 기업 delete_ticker_list에 저장\n",
    "for t in df['ticker'].unique():\n",
    "  if not len(df.loc[df['ticker'] == t, 'timestamp'].values) == 509:\n",
    "      delete_ticker_list.append(t)\n",
    "\n",
    "# delete_ticker_list에 들어있지 않은 기업들만 데려감\n",
    "for ticker in delete_ticker_list:\n",
    "    df = df[df['ticker'] != ticker]\n",
    "\n",
    "df.columns"
   ]
  },
  {
   "cell_type": "markdown",
   "metadata": {
    "id": "YBKKHVLJLwNx"
   },
   "source": [
    "## 정규화"
   ]
  },
  {
   "cell_type": "code",
   "execution_count": null,
   "metadata": {
    "colab": {
     "base_uri": "https://localhost:8080/"
    },
    "id": "JA0aWn_pLwNx",
    "outputId": "534d887b-f747-48df-f5aa-b72236bca57c"
   },
   "outputs": [
    {
     "name": "stdout",
     "output_type": "stream",
     "text": [
      "['ticker', 'timestamp', 'financial stability and liquidity', 'strong management team', 'competitive advantage', 'market potential', 'growth prospects', 'diversification within the company', 'sustainable business model', 'innovation and R&D', 'corporate governance', 'strong brand recognition', 'open', 'high', 'low', 'close', 'volume', 'return', 'SPX', 'calculated_price']\n",
      "['financial stability and liquidity', 'strong management team', 'competitive advantage', 'market potential', 'growth prospects', 'diversification within the company', 'sustainable business model', 'innovation and R&D', 'corporate governance', 'strong brand recognition', 'calculated_price', 'return']\n",
      "['open', 'high', 'low', 'close']\n"
     ]
    }
   ],
   "source": [
    "# 정규화 \n",
    "## GPT점수는 100점만점 척도이므로 기업별로 다르지 않음 따라서 통합 정규화\n",
    "## open, high, low, close은 주가관련인데, 이는 기업별로 다르므로 기업별로 정규화 필요\n",
    "## SPX은 기업별로 다르지 않음 따라서 통합 정규화\n",
    "## volume은 기업별로 다르지만 통합 정규화가 올바름\n",
    "## return은 따로 정규화할 필요는 없을거 같음\n",
    "## 정규화는 편의를 위해 MinMaxScaler만 사용\n",
    "from sklearn.preprocessing import MinMaxScaler\n",
    "import numpy as np\n",
    "\n",
    "scaler = MinMaxScaler()\n",
    "unique_tickers = df['ticker'].unique()\n",
    "\n",
    "columns_lists = df.columns.to_list()\n",
    "columns_list = []\n",
    "for c in columns_lists:\n",
    "    if c not in ['company', 'P', 'P_future', 'R', 'R_future']:\n",
    "        columns_list.append(c)\n",
    "print(columns_list)\n",
    "total_list = columns_list[2:12] + [columns_list[-1]] + [columns_list[-3]]\n",
    "print(total_list)\n",
    "seperate_list = columns_list[12:16]\n",
    "print(seperate_list)\n",
    "\n",
    "# 통합 정규화 : spx, gpt, volume\n",
    "for i in total_list:\n",
    "    df[i] = scaler.fit_transform(df[i].values.reshape(-1, 1))\n",
    "\n",
    "# 개별기업별 정규화 : open, high, low, close\t\n",
    "for i in unique_tickers:\n",
    "    for j in seperate_list:\n",
    "        mask = (df['ticker'] == i)\n",
    "        df.loc[mask, j] = scaler.fit_transform(df.loc[mask, j].values.reshape(-1, 1))"
   ]
  },
  {
   "cell_type": "markdown",
   "metadata": {
    "id": "wYSIavNyLwNy"
   },
   "source": [
    "## sequential 정보 처리"
   ]
  },
  {
   "cell_type": "markdown",
   "metadata": {
    "id": "LeV_Z6P3LwNy"
   },
   "source": [
    "### 'timestamp' => 'year', 'month', 'day'"
   ]
  },
  {
   "cell_type": "code",
   "execution_count": null,
   "metadata": {
    "colab": {
     "base_uri": "https://localhost:8080/"
    },
    "id": "fMxtVtedHog_",
    "outputId": "897cdcf5-fef6-4f3f-9dcd-21c9a69f2095"
   },
   "outputs": [
    {
     "data": {
      "text/plain": [
       "Index(['ticker', 'company', 'timestamp', 'financial stability and liquidity',\n",
       "       'strong management team', 'competitive advantage', 'market potential',\n",
       "       'growth prospects', 'diversification within the company',\n",
       "       'sustainable business model', 'innovation and R&D',\n",
       "       'corporate governance', 'strong brand recognition', 'open', 'high',\n",
       "       'low', 'close', 'volume', 'return', 'SPX', 'calculated_price', 'P',\n",
       "       'P_future', 'R', 'R_future', 'year', 'month', 'day'],\n",
       "      dtype='object')"
      ]
     },
     "execution_count": 6,
     "metadata": {},
     "output_type": "execute_result"
    }
   ],
   "source": [
    "# 'date' 열을 datetime 타입으로 변환\n",
    "df['timestamp'] = pd.to_datetime(df['timestamp'])\n",
    "\n",
    "# 'year', 'month', 'day' 열 추출\n",
    "df['year'] = df['timestamp'].dt.year\n",
    "df['month'] = df['timestamp'].dt.month\n",
    "df['day'] = df['timestamp'].dt.day\n",
    "\n",
    "df.columns"
   ]
  },
  {
   "cell_type": "markdown",
   "metadata": {
    "id": "Zm_AW0kBLwNy"
   },
   "source": [
    "### P, R to each columns"
   ]
  },
  {
   "cell_type": "code",
   "execution_count": null,
   "metadata": {
    "id": "feOk7RM3GqaB"
   },
   "outputs": [],
   "source": [
    "# P, P_future, R, R_future는 string을 value로 가지므로, 우리의 원 목적에 맞게 list로 형변환 진행\n",
    "\n",
    "import ast\n",
    "\n",
    "df['P'] = df['P'].apply(ast.literal_eval)\n",
    "df['P_future'] = df['P_future'].apply(ast.literal_eval)\n",
    "df['R'] = df['R'].apply(ast.literal_eval)\n",
    "df['R_future'] = df['R_future'].apply(ast.literal_eval)"
   ]
  },
  {
   "cell_type": "code",
   "execution_count": null,
   "metadata": {
    "colab": {
     "base_uri": "https://localhost:8080/"
    },
    "id": "s7causHN5pP1",
    "outputId": "75c1b966-163a-445a-cd20-5d23744e101d"
   },
   "outputs": [
    {
     "name": "stdout",
     "output_type": "stream",
     "text": [
      "['logP_t-12', 'logP_t-11', 'logP_t-10', 'logP_t-9', 'logP_t-8', 'logP_t-7', 'logP_t-6', 'logP_t-5', 'logP_t-4', 'logP_t-3', 'logP_t-2', 'logP_t-1', 'logP_t', 'logP_t+1', 'logP_t+2', 'logP_t+3', 'logP_t+4', 'logP_t+5', 'logP_t+6', 'logP_t+7', 'logP_t+8', 'logP_t+9', 'logP_t+10', 'logP_t+11', 'logP_t+12', 'logP_t+13']\n",
      "['R_t-12', 'R_t-11', 'R_t-10', 'R_t-9', 'R_t-8', 'R_t-7', 'R_t-6', 'R_t-5', 'R_t-4', 'R_t-3', 'R_t-2', 'R_t-1', 'R_t', 'R_t+1', 'R_t+2', 'R_t+3', 'R_t+4', 'R_t+5', 'R_t+6', 'R_t+7', 'R_t+8', 'R_t+9', 'R_t+10', 'R_t+11', 'R_t+12', 'R_t+13']\n"
     ]
    }
   ],
   "source": [
    "# sliding window의 효과를 위해 column명 작업 (새롭게 추가하고 싶은 column명을 리스트로 만들기)\n",
    "# log('P') 준비도 한 번에\n",
    "l = 13\n",
    "\n",
    "lst = [i for i in range(-l+1, l+1)]\n",
    "Pcol = []\n",
    "Rcol= []\n",
    "\n",
    "for j in ['logP', 'R']:\n",
    "  for i in range(2*l):\n",
    "    if lst[i] < 0:\n",
    "      col_name = j + \"_t\" + str(lst[i])\n",
    "      if j == 'logP': Pcol.append(col_name)\n",
    "      else: Rcol.append(col_name)\n",
    "    elif lst[i] == 0:\n",
    "      col_name = j + \"_t\"\n",
    "      if j == 'logP': Pcol.append(col_name)\n",
    "      else: Rcol.append(col_name)\n",
    "    else:\n",
    "      col_name = j + \"_t+\" + str(lst[i])\n",
    "      if j == 'logP': Pcol.append(col_name)\n",
    "      else: Rcol.append(col_name)\n",
    "\n",
    "print(Pcol)\n",
    "print(Rcol)"
   ]
  },
  {
   "cell_type": "code",
   "execution_count": null,
   "metadata": {
    "colab": {
     "base_uri": "https://localhost:8080/"
    },
    "id": "L0wMBmMtDeCi",
    "outputId": "e5847a7d-2784-4a49-fb61-b75df20a045f"
   },
   "outputs": [
    {
     "data": {
      "text/plain": [
       "Index(['ticker', 'company', 'timestamp', 'financial stability and liquidity',\n",
       "       'strong management team', 'competitive advantage', 'market potential',\n",
       "       'growth prospects', 'diversification within the company',\n",
       "       'sustainable business model', 'innovation and R&D',\n",
       "       'corporate governance', 'strong brand recognition', 'open', 'high',\n",
       "       'low', 'close', 'volume', 'return', 'SPX', 'calculated_price', 'year',\n",
       "       'month', 'day', 'logP_t-12', 'logP_t-11', 'logP_t-10', 'logP_t-9',\n",
       "       'logP_t-8', 'logP_t-7', 'logP_t-6', 'logP_t-5', 'logP_t-4', 'logP_t-3',\n",
       "       'logP_t-2', 'logP_t-1', 'logP_t', 'logP_t+1', 'logP_t+2', 'logP_t+3',\n",
       "       'logP_t+4', 'logP_t+5', 'logP_t+6', 'logP_t+7', 'logP_t+8', 'logP_t+9',\n",
       "       'logP_t+10', 'logP_t+11', 'logP_t+12', 'R_t-12', 'R_t-11', 'R_t-10',\n",
       "       'R_t-9', 'R_t-8', 'R_t-7', 'R_t-6', 'R_t-5', 'R_t-4', 'R_t-3', 'R_t-2',\n",
       "       'R_t-1', 'R_t', 'R_t+1', 'R_t+2', 'R_t+3', 'R_t+4', 'R_t+5', 'R_t+6',\n",
       "       'R_t+7', 'R_t+8', 'R_t+9', 'R_t+10', 'R_t+11', 'R_t+12'],\n",
       "      dtype='object')"
      ]
     },
     "execution_count": 9,
     "metadata": {},
     "output_type": "execute_result"
    }
   ],
   "source": [
    "# P, P_future, R, R_future 리스트에 있던 값을 각각 분리해서 기존 데이터 프레임에 추가\n",
    "df[Pcol[:l]] = pd.DataFrame(df['P'].tolist(), index=df.index)\n",
    "df[Pcol[l:]] = pd.DataFrame(df['P_future'].tolist(), index=df.index)\n",
    "df[Rcol[:l]] = pd.DataFrame(df['R'].tolist(), index=df.index)\n",
    "df[Rcol[l:]] = pd.DataFrame(df['R_future'].tolist(), index=df.index)\n",
    "\n",
    "# 기존 데이터와 t+13 columns drop\n",
    "df = df.drop(labels=\"logP_t+\"+str(l), axis=1)\n",
    "df = df.drop(labels=\"R_t+\"+str(l), axis=1)\n",
    "df = df.drop(labels=['P', 'P_future', 'R', 'R_future'], axis=1)\n",
    "\n",
    "df.columns"
   ]
  },
  {
   "cell_type": "markdown",
   "metadata": {
    "id": "Fdlm5zcQLwNz"
   },
   "source": [
    "## log"
   ]
  },
  {
   "cell_type": "code",
   "execution_count": null,
   "metadata": {
    "colab": {
     "base_uri": "https://localhost:8080/"
    },
    "id": "P9DuODQc6G9Q",
    "outputId": "c74ef041-2abe-4a9d-e736-8fa572da3b92"
   },
   "outputs": [
    {
     "data": {
      "text/plain": [
       "0         16.592091\n",
       "1         16.492710\n",
       "2         16.467646\n",
       "3         16.422679\n",
       "4         16.180366\n",
       "            ...    \n",
       "241293    15.414931\n",
       "241294    15.755511\n",
       "241295    16.350662\n",
       "241296    16.443934\n",
       "241297    16.143133\n",
       "Name: volume, Length: 227014, dtype: float64"
      ]
     },
     "execution_count": 10,
     "metadata": {},
     "output_type": "execute_result"
    }
   ],
   "source": [
    "import math\n",
    "\n",
    "# P값들에 대해 log 취하기\n",
    "for c in [s for s in df.columns if s.find('log')==0]:\n",
    "  df[c] = df[c].apply(lambda x: math.log(x))\n",
    "\n",
    "# volume에 대해 log 취하기\n",
    "df['volume'] = df['volume'].apply(lambda x: math.log(x))\n",
    "\n",
    "df['volume']"
   ]
  },
  {
   "cell_type": "markdown",
   "metadata": {
    "id": "tb41kVNxLwNz"
   },
   "source": [
    "## categorical 변수 처리"
   ]
  },
  {
   "cell_type": "code",
   "execution_count": null,
   "metadata": {
    "id": "e2tv41fdMdRP"
   },
   "outputs": [],
   "source": [
    "# categorical 변수를 int형으로 변경하는 class define\n",
    "\n",
    "from collections import defaultdict\n",
    "from sklearn.preprocessing import LabelEncoder\n",
    "\n",
    "class MultiColLabelEncoder:\n",
    "    def __init__(self):\n",
    "        self.encoder_dict = defaultdict(LabelEncoder)\n",
    "\n",
    "    def fit_transform(self, X: pd.DataFrame, columns: list):\n",
    "        if not isinstance(columns, list):\n",
    "            columns = [columns]\n",
    "\n",
    "        output = X.copy()\n",
    "        output[columns] = X[columns].apply(lambda x: self.encoder_dict[x.name].fit_transform(x))\n",
    "\n",
    "        return output\n",
    "\n",
    "    def inverse_transform(self, X: pd.DataFrame, columns: list):\n",
    "        if not isinstance(columns, list):\n",
    "            columns = [columns]\n",
    "\n",
    "        if not all(key in self.encoder_dict for key in columns):\n",
    "            raise KeyError(f\"at least one of {columns} is not encoded before\")\n",
    "        output = X.copy()\n",
    "        try:\n",
    "            output[columns] = X[columns].apply(lambda x: self.encoder_dict[x.name].inverse_transform(x))\n",
    "        except ValueError:\n",
    "            print(f\"Need assignment for 'fit_transform' function\")\n",
    "            raise\n",
    "\n",
    "        return output"
   ]
  },
  {
   "cell_type": "code",
   "execution_count": null,
   "metadata": {
    "colab": {
     "base_uri": "https://localhost:8080/"
    },
    "id": "XdRo1qMOMlh6",
    "outputId": "a1914ef7-bc3e-470e-fc6c-e7551c01abc8"
   },
   "outputs": [
    {
     "data": {
      "text/plain": [
       "['ticker', 'company']"
      ]
     },
     "execution_count": 12,
     "metadata": {},
     "output_type": "execute_result"
    }
   ],
   "source": [
    "# categorical 변수에는 무엇이 있는지 확인\n",
    "features = df.columns\n",
    "cat_cols = list(df.select_dtypes(include=['category', 'object']).columns)\n",
    "cat_cols"
   ]
  },
  {
   "cell_type": "code",
   "execution_count": null,
   "metadata": {
    "colab": {
     "base_uri": "https://localhost:8080/"
    },
    "id": "hs67fuAwMopj",
    "outputId": "bc3e5020-f05f-4719-95e9-4f3b0b736825"
   },
   "outputs": [],
   "source": [
    "# 위에서 만든 MultiColLabelEncoder를 이용해 LabelEncoding 후 확인\n",
    "mcle = MultiColLabelEncoder()\n",
    "df_mcle = mcle.fit_transform(df, cat_cols)\n",
    "\n",
    "# ticker와 company는 같은 내용을 전달하므로 company는 drop한다. \n",
    "df_mcle = df_mcle.drop(labels='company', axis=1)\n",
    "\n",
    "df_mcle['ticker'].unique()"
   ]
  },
  {
   "cell_type": "markdown",
   "metadata": {
    "id": "tlBKmtzPLwNz"
   },
   "source": [
    "## Train-Validation-Test set split"
   ]
  },
  {
   "cell_type": "markdown",
   "metadata": {
    "id": "LBzicFcJAsvB",
    "outputId": "c9472636-f078-4626-cdec-bb6a94088296"
   },
   "source": [
    "# timestamp로 sort\n",
    "df_mcle = df_mcle.sort_values(by=['timestamp', 'ticker'], ascending=True)\n",
    "df_mcle"
   ]
  },
  {
   "cell_type": "code",
   "execution_count": null,
   "metadata": {
    "id": "61fzjI7mQ9Tx"
   },
   "outputs": [],
   "source": [
    "# 'timestamp'를 기준으로 2020-09-01, 2021-09-01\n",
    "train_set = df_mcle[df_mcle['timestamp'] < '2020-09-01']\n",
    "val_set = df_mcle.loc[(df_mcle['timestamp'] > '2020-09-01') & (df_mcle['timestamp'] < '2021-09-01')]\n",
    "test_set = df_mcle[df_mcle['timestamp'] > '2021-09-01']"
   ]
  },
  {
   "cell_type": "code",
   "execution_count": null,
   "metadata": {
    "colab": {
     "base_uri": "https://localhost:8080/"
    },
    "id": "HgsFg0iiuhUL",
    "outputId": "c48163fd-8d05-47a3-a305-425c02751d82"
   },
   "outputs": [
    {
     "name": "stdout",
     "output_type": "stream",
     "text": [
      "170818\n",
      "33004\n",
      "23192\n"
     ]
    }
   ],
   "source": [
    "print(len(train_set))\n",
    "print(len(test_set))\n",
    "print(len(val_set))"
   ]
  },
  {
   "cell_type": "code",
   "execution_count": null,
   "metadata": {
    "id": "Z7bOY9h4LwN0"
   },
   "outputs": [],
   "source": [
    "# t+1 ~ t+12 시점이 다음 단계로 넘어가는 문제를 커버하기 위해 data set에 제한을 둠\n",
    "train_set = train_set.iloc[:-12, :]\n",
    "val_set = val_set.iloc[:-12, :]\n",
    "test_set = test_set.iloc[:-12, :]"
   ]
  },
  {
   "cell_type": "code",
   "execution_count": null,
   "metadata": {
    "id": "u1kN1FfmLwN0"
   },
   "outputs": [],
   "source": [
    "# 'timestamp'는 tabnet이 사용하지 못하므로 drop\n",
    "train_set = train_set.drop(labels='timestamp', axis=1)\n",
    "val_set = val_set.drop(labels='timestamp', axis=1)\n",
    "test_set = test_set.drop(labels='timestamp', axis=1)"
   ]
  },
  {
   "cell_type": "markdown",
   "metadata": {
    "id": "M9V3YgnsLwN0"
   },
   "source": [
    "## X, y split"
   ]
  },
  {
   "cell_type": "code",
   "execution_count": null,
   "metadata": {
    "colab": {
     "base_uri": "https://localhost:8080/"
    },
    "id": "MVO2IV3pM6ZQ",
    "outputId": "95a957e3-8f80-4486-c8f4-f3ffd21a7e5e"
   },
   "outputs": [
    {
     "data": {
      "text/plain": [
       "Index(['R_t', 'R_t+1', 'R_t+2', 'R_t+3', 'R_t+4', 'R_t+5', 'R_t+6', 'R_t+7',\n",
       "       'R_t+8', 'R_t+9', 'R_t+10', 'R_t+11', 'R_t+12'],\n",
       "      dtype='object')"
      ]
     },
     "execution_count": 18,
     "metadata": {},
     "output_type": "execute_result"
    }
   ],
   "source": [
    "# 사용할 column만 뽑아서 X, y로 나눔\n",
    "# ticker~GPTscore: 0~10\n",
    "# SPX~date: 11~21\n",
    "# P_t-12 ~ P_t: 22~34\n",
    "# P_t ~ P_t+12: 34~46\n",
    "# R_t-12 ~ R_t: 47~59\n",
    "# R_t ~ R_t+12: 59~71\n",
    "\n",
    "# pX_train = train_set.iloc[:, list(range(36))]\n",
    "# py_train = train_set.iloc[:, list(range(35, 48))]\n",
    "# pX_test = test_set.iloc[:, list(range(36))]\n",
    "# py_test = test_set.iloc[:, list(range(35, 48))]\n",
    "\n",
    "rX_train = train_set.iloc[:, list(range(22)) + list(range(47, 60))]\n",
    "ry_train = train_set.iloc[:, list(range(59, 72))]\n",
    "rX_val = val_set.iloc[:, list(range(22)) + list(range(47, 60))]\n",
    "ry_val = val_set.iloc[:, list(range(59, 72))]\n",
    "rX_test = test_set.iloc[:, list(range(22)) + list(range(47, 60))]\n",
    "ry_test = test_set.iloc[:, list(range(59, 72))]\n",
    "\n",
    "ry_test.columns"
   ]
  },
  {
   "cell_type": "code",
   "execution_count": null,
   "metadata": {
    "colab": {
     "base_uri": "https://localhost:8080/"
    },
    "id": "IFVZcHroX-p9",
    "outputId": "627a51e4-6790-4753-9b4b-8efc3ba533a5"
   },
   "outputs": [
    {
     "data": {
      "text/plain": [
       "Index(['R_t', 'R_t+1', 'R_t+2', 'R_t+3', 'R_t+4', 'R_t+5', 'R_t+6', 'R_t+7',\n",
       "       'R_t+8', 'R_t+9', 'R_t+10', 'R_t+11'],\n",
       "      dtype='object')"
      ]
     },
     "execution_count": 19,
     "metadata": {},
     "output_type": "execute_result"
    }
   ],
   "source": [
    "ry = ry_test.iloc[:, -13:-1]\n",
    "ry.columns"
   ]
  },
  {
   "cell_type": "code",
   "execution_count": null,
   "metadata": {
    "id": "naZWb2XTX1NB"
   },
   "outputs": [],
   "source": [
    "# 파라미터 다 정하고 돌릴거\n",
    "final_train = df_mcle[df_mcle['timestamp'] < '2021-09-01']\n",
    "final_test = df_mcle[df_mcle['timestamp'] > '2021-09-01']\n",
    "\n",
    "final_train = final_train.iloc[:-12, :]\n",
    "final_test = final_test.iloc[:-12, :]\n",
    "\n",
    "final_train = final_train.drop(labels='timestamp', axis=1)\n",
    "final_test = final_test.drop(labels='timestamp', axis=1)\n",
    "\n",
    "final_train_X = final_train.iloc[:, list(range(22)) + list(range(47, 60))]\n",
    "final_train_y = final_train.iloc[:, list(range(59, 72))]\n",
    "final_test_X = final_test.iloc[:, list(range(22)) + list(range(47, 60))]\n",
    "final_test_y = final_test.iloc[:, list(range(59, 72))]"
   ]
  },
  {
   "cell_type": "code",
   "execution_count": null,
   "metadata": {
    "colab": {
     "base_uri": "https://localhost:8080/",
     "height": 488
    },
    "id": "i-lL-zzTXPCT",
    "outputId": "985b9ba5-af70-4f9a-eaa2-6692f0a92733"
   },
   "outputs": [
    {
     "data": {
      "text/html": [
       "\n",
       "  <div id=\"df-4e9200b8-bc98-4fcb-b44c-85538eee28a9\">\n",
       "    <div class=\"colab-df-container\">\n",
       "      <div>\n",
       "<style scoped>\n",
       "    .dataframe tbody tr th:only-of-type {\n",
       "        vertical-align: middle;\n",
       "    }\n",
       "\n",
       "    .dataframe tbody tr th {\n",
       "        vertical-align: top;\n",
       "    }\n",
       "\n",
       "    .dataframe thead th {\n",
       "        text-align: right;\n",
       "    }\n",
       "</style>\n",
       "<table border=\"1\" class=\"dataframe\">\n",
       "  <thead>\n",
       "    <tr style=\"text-align: right;\">\n",
       "      <th></th>\n",
       "      <th>R_t-12</th>\n",
       "      <th>R_t-11</th>\n",
       "      <th>R_t-10</th>\n",
       "      <th>R_t-9</th>\n",
       "      <th>R_t-8</th>\n",
       "      <th>R_t-7</th>\n",
       "      <th>R_t-6</th>\n",
       "      <th>R_t-5</th>\n",
       "      <th>R_t-4</th>\n",
       "      <th>R_t-3</th>\n",
       "      <th>R_t-2</th>\n",
       "      <th>R_t-1</th>\n",
       "      <th>R_t</th>\n",
       "    </tr>\n",
       "  </thead>\n",
       "  <tbody>\n",
       "    <tr>\n",
       "      <th>435</th>\n",
       "      <td>-0.015724</td>\n",
       "      <td>-0.055273</td>\n",
       "      <td>0.016441</td>\n",
       "      <td>0.026393</td>\n",
       "      <td>0.005553</td>\n",
       "      <td>-0.008110</td>\n",
       "      <td>0.005618</td>\n",
       "      <td>-0.012719</td>\n",
       "      <td>0.000960</td>\n",
       "      <td>0.012366</td>\n",
       "      <td>-0.032007</td>\n",
       "      <td>0.004584</td>\n",
       "      <td>-0.003384</td>\n",
       "    </tr>\n",
       "    <tr>\n",
       "      <th>436</th>\n",
       "      <td>-0.055273</td>\n",
       "      <td>0.016441</td>\n",
       "      <td>0.026393</td>\n",
       "      <td>0.005553</td>\n",
       "      <td>-0.008110</td>\n",
       "      <td>0.005618</td>\n",
       "      <td>-0.012719</td>\n",
       "      <td>0.000960</td>\n",
       "      <td>0.012366</td>\n",
       "      <td>-0.032007</td>\n",
       "      <td>0.004584</td>\n",
       "      <td>-0.003384</td>\n",
       "      <td>-0.050620</td>\n",
       "    </tr>\n",
       "    <tr>\n",
       "      <th>437</th>\n",
       "      <td>0.016441</td>\n",
       "      <td>0.026393</td>\n",
       "      <td>0.005553</td>\n",
       "      <td>-0.008110</td>\n",
       "      <td>0.005618</td>\n",
       "      <td>-0.012719</td>\n",
       "      <td>0.000960</td>\n",
       "      <td>0.012366</td>\n",
       "      <td>-0.032007</td>\n",
       "      <td>0.004584</td>\n",
       "      <td>-0.003384</td>\n",
       "      <td>-0.050620</td>\n",
       "      <td>-0.016581</td>\n",
       "    </tr>\n",
       "    <tr>\n",
       "      <th>438</th>\n",
       "      <td>0.026393</td>\n",
       "      <td>0.005553</td>\n",
       "      <td>-0.008110</td>\n",
       "      <td>0.005618</td>\n",
       "      <td>-0.012719</td>\n",
       "      <td>0.000960</td>\n",
       "      <td>0.012366</td>\n",
       "      <td>-0.032007</td>\n",
       "      <td>0.004584</td>\n",
       "      <td>-0.003384</td>\n",
       "      <td>-0.050620</td>\n",
       "      <td>-0.016581</td>\n",
       "      <td>-0.002479</td>\n",
       "    </tr>\n",
       "    <tr>\n",
       "      <th>439</th>\n",
       "      <td>0.005553</td>\n",
       "      <td>-0.008110</td>\n",
       "      <td>0.005618</td>\n",
       "      <td>-0.012719</td>\n",
       "      <td>0.000960</td>\n",
       "      <td>0.012366</td>\n",
       "      <td>-0.032007</td>\n",
       "      <td>0.004584</td>\n",
       "      <td>-0.003384</td>\n",
       "      <td>-0.050620</td>\n",
       "      <td>-0.016581</td>\n",
       "      <td>-0.002479</td>\n",
       "      <td>-0.024083</td>\n",
       "    </tr>\n",
       "    <tr>\n",
       "      <th>...</th>\n",
       "      <td>...</td>\n",
       "      <td>...</td>\n",
       "      <td>...</td>\n",
       "      <td>...</td>\n",
       "      <td>...</td>\n",
       "      <td>...</td>\n",
       "      <td>...</td>\n",
       "      <td>...</td>\n",
       "      <td>...</td>\n",
       "      <td>...</td>\n",
       "      <td>...</td>\n",
       "      <td>...</td>\n",
       "      <td>...</td>\n",
       "    </tr>\n",
       "    <tr>\n",
       "      <th>241281</th>\n",
       "      <td>-0.019328</td>\n",
       "      <td>0.020855</td>\n",
       "      <td>0.024526</td>\n",
       "      <td>-0.043495</td>\n",
       "      <td>0.006071</td>\n",
       "      <td>-0.035009</td>\n",
       "      <td>-0.056807</td>\n",
       "      <td>-0.018200</td>\n",
       "      <td>0.046694</td>\n",
       "      <td>-0.042663</td>\n",
       "      <td>-0.046090</td>\n",
       "      <td>-0.011729</td>\n",
       "      <td>-0.006204</td>\n",
       "    </tr>\n",
       "    <tr>\n",
       "      <th>241282</th>\n",
       "      <td>0.020855</td>\n",
       "      <td>0.024526</td>\n",
       "      <td>-0.043495</td>\n",
       "      <td>0.006071</td>\n",
       "      <td>-0.035009</td>\n",
       "      <td>-0.056807</td>\n",
       "      <td>-0.018200</td>\n",
       "      <td>0.046694</td>\n",
       "      <td>-0.042663</td>\n",
       "      <td>-0.046090</td>\n",
       "      <td>-0.011729</td>\n",
       "      <td>-0.006204</td>\n",
       "      <td>-0.013368</td>\n",
       "    </tr>\n",
       "    <tr>\n",
       "      <th>241283</th>\n",
       "      <td>0.024526</td>\n",
       "      <td>-0.043495</td>\n",
       "      <td>0.006071</td>\n",
       "      <td>-0.035009</td>\n",
       "      <td>-0.056807</td>\n",
       "      <td>-0.018200</td>\n",
       "      <td>0.046694</td>\n",
       "      <td>-0.042663</td>\n",
       "      <td>-0.046090</td>\n",
       "      <td>-0.011729</td>\n",
       "      <td>-0.006204</td>\n",
       "      <td>-0.013368</td>\n",
       "      <td>0.012448</td>\n",
       "    </tr>\n",
       "    <tr>\n",
       "      <th>241284</th>\n",
       "      <td>-0.043495</td>\n",
       "      <td>0.006071</td>\n",
       "      <td>-0.035009</td>\n",
       "      <td>-0.056807</td>\n",
       "      <td>-0.018200</td>\n",
       "      <td>0.046694</td>\n",
       "      <td>-0.042663</td>\n",
       "      <td>-0.046090</td>\n",
       "      <td>-0.011729</td>\n",
       "      <td>-0.006204</td>\n",
       "      <td>-0.013368</td>\n",
       "      <td>0.012448</td>\n",
       "      <td>0.041234</td>\n",
       "    </tr>\n",
       "    <tr>\n",
       "      <th>241285</th>\n",
       "      <td>0.006071</td>\n",
       "      <td>-0.035009</td>\n",
       "      <td>-0.056807</td>\n",
       "      <td>-0.018200</td>\n",
       "      <td>0.046694</td>\n",
       "      <td>-0.042663</td>\n",
       "      <td>-0.046090</td>\n",
       "      <td>-0.011729</td>\n",
       "      <td>-0.006204</td>\n",
       "      <td>-0.013368</td>\n",
       "      <td>0.012448</td>\n",
       "      <td>0.041234</td>\n",
       "      <td>-0.127936</td>\n",
       "    </tr>\n",
       "  </tbody>\n",
       "</table>\n",
       "<p>32992 rows × 13 columns</p>\n",
       "</div>\n",
       "      <button class=\"colab-df-convert\" onclick=\"convertToInteractive('df-4e9200b8-bc98-4fcb-b44c-85538eee28a9')\"\n",
       "              title=\"Convert this dataframe to an interactive table.\"\n",
       "              style=\"display:none;\">\n",
       "        \n",
       "  <svg xmlns=\"http://www.w3.org/2000/svg\" height=\"24px\"viewBox=\"0 0 24 24\"\n",
       "       width=\"24px\">\n",
       "    <path d=\"M0 0h24v24H0V0z\" fill=\"none\"/>\n",
       "    <path d=\"M18.56 5.44l.94 2.06.94-2.06 2.06-.94-2.06-.94-.94-2.06-.94 2.06-2.06.94zm-11 1L8.5 8.5l.94-2.06 2.06-.94-2.06-.94L8.5 2.5l-.94 2.06-2.06.94zm10 10l.94 2.06.94-2.06 2.06-.94-2.06-.94-.94-2.06-.94 2.06-2.06.94z\"/><path d=\"M17.41 7.96l-1.37-1.37c-.4-.4-.92-.59-1.43-.59-.52 0-1.04.2-1.43.59L10.3 9.45l-7.72 7.72c-.78.78-.78 2.05 0 2.83L4 21.41c.39.39.9.59 1.41.59.51 0 1.02-.2 1.41-.59l7.78-7.78 2.81-2.81c.8-.78.8-2.07 0-2.86zM5.41 20L4 18.59l7.72-7.72 1.47 1.35L5.41 20z\"/>\n",
       "  </svg>\n",
       "      </button>\n",
       "      \n",
       "  <style>\n",
       "    .colab-df-container {\n",
       "      display:flex;\n",
       "      flex-wrap:wrap;\n",
       "      gap: 12px;\n",
       "    }\n",
       "\n",
       "    .colab-df-convert {\n",
       "      background-color: #E8F0FE;\n",
       "      border: none;\n",
       "      border-radius: 50%;\n",
       "      cursor: pointer;\n",
       "      display: none;\n",
       "      fill: #1967D2;\n",
       "      height: 32px;\n",
       "      padding: 0 0 0 0;\n",
       "      width: 32px;\n",
       "    }\n",
       "\n",
       "    .colab-df-convert:hover {\n",
       "      background-color: #E2EBFA;\n",
       "      box-shadow: 0px 1px 2px rgba(60, 64, 67, 0.3), 0px 1px 3px 1px rgba(60, 64, 67, 0.15);\n",
       "      fill: #174EA6;\n",
       "    }\n",
       "\n",
       "    [theme=dark] .colab-df-convert {\n",
       "      background-color: #3B4455;\n",
       "      fill: #D2E3FC;\n",
       "    }\n",
       "\n",
       "    [theme=dark] .colab-df-convert:hover {\n",
       "      background-color: #434B5C;\n",
       "      box-shadow: 0px 1px 3px 1px rgba(0, 0, 0, 0.15);\n",
       "      filter: drop-shadow(0px 1px 2px rgba(0, 0, 0, 0.3));\n",
       "      fill: #FFFFFF;\n",
       "    }\n",
       "  </style>\n",
       "\n",
       "      <script>\n",
       "        const buttonEl =\n",
       "          document.querySelector('#df-4e9200b8-bc98-4fcb-b44c-85538eee28a9 button.colab-df-convert');\n",
       "        buttonEl.style.display =\n",
       "          google.colab.kernel.accessAllowed ? 'block' : 'none';\n",
       "\n",
       "        async function convertToInteractive(key) {\n",
       "          const element = document.querySelector('#df-4e9200b8-bc98-4fcb-b44c-85538eee28a9');\n",
       "          const dataTable =\n",
       "            await google.colab.kernel.invokeFunction('convertToInteractive',\n",
       "                                                     [key], {});\n",
       "          if (!dataTable) return;\n",
       "\n",
       "          const docLinkHtml = 'Like what you see? Visit the ' +\n",
       "            '<a target=\"_blank\" href=https://colab.research.google.com/notebooks/data_table.ipynb>data table notebook</a>'\n",
       "            + ' to learn more about interactive tables.';\n",
       "          element.innerHTML = '';\n",
       "          dataTable['output_type'] = 'display_data';\n",
       "          await google.colab.output.renderOutput(dataTable, element);\n",
       "          const docLink = document.createElement('div');\n",
       "          docLink.innerHTML = docLinkHtml;\n",
       "          element.appendChild(docLink);\n",
       "        }\n",
       "      </script>\n",
       "    </div>\n",
       "  </div>\n",
       "  "
      ],
      "text/plain": [
       "          R_t-12    R_t-11    R_t-10     R_t-9     R_t-8     R_t-7     R_t-6  \\\n",
       "435    -0.015724 -0.055273  0.016441  0.026393  0.005553 -0.008110  0.005618   \n",
       "436    -0.055273  0.016441  0.026393  0.005553 -0.008110  0.005618 -0.012719   \n",
       "437     0.016441  0.026393  0.005553 -0.008110  0.005618 -0.012719  0.000960   \n",
       "438     0.026393  0.005553 -0.008110  0.005618 -0.012719  0.000960  0.012366   \n",
       "439     0.005553 -0.008110  0.005618 -0.012719  0.000960  0.012366 -0.032007   \n",
       "...          ...       ...       ...       ...       ...       ...       ...   \n",
       "241281 -0.019328  0.020855  0.024526 -0.043495  0.006071 -0.035009 -0.056807   \n",
       "241282  0.020855  0.024526 -0.043495  0.006071 -0.035009 -0.056807 -0.018200   \n",
       "241283  0.024526 -0.043495  0.006071 -0.035009 -0.056807 -0.018200  0.046694   \n",
       "241284 -0.043495  0.006071 -0.035009 -0.056807 -0.018200  0.046694 -0.042663   \n",
       "241285  0.006071 -0.035009 -0.056807 -0.018200  0.046694 -0.042663 -0.046090   \n",
       "\n",
       "           R_t-5     R_t-4     R_t-3     R_t-2     R_t-1       R_t  \n",
       "435    -0.012719  0.000960  0.012366 -0.032007  0.004584 -0.003384  \n",
       "436     0.000960  0.012366 -0.032007  0.004584 -0.003384 -0.050620  \n",
       "437     0.012366 -0.032007  0.004584 -0.003384 -0.050620 -0.016581  \n",
       "438    -0.032007  0.004584 -0.003384 -0.050620 -0.016581 -0.002479  \n",
       "439     0.004584 -0.003384 -0.050620 -0.016581 -0.002479 -0.024083  \n",
       "...          ...       ...       ...       ...       ...       ...  \n",
       "241281 -0.018200  0.046694 -0.042663 -0.046090 -0.011729 -0.006204  \n",
       "241282  0.046694 -0.042663 -0.046090 -0.011729 -0.006204 -0.013368  \n",
       "241283 -0.042663 -0.046090 -0.011729 -0.006204 -0.013368  0.012448  \n",
       "241284 -0.046090 -0.011729 -0.006204 -0.013368  0.012448  0.041234  \n",
       "241285 -0.011729 -0.006204 -0.013368  0.012448  0.041234 -0.127936  \n",
       "\n",
       "[32992 rows x 13 columns]"
      ]
     },
     "execution_count": 59,
     "metadata": {},
     "output_type": "execute_result"
    }
   ],
   "source": [
    "final_test_X.iloc[:, -13:]"
   ]
  },
  {
   "cell_type": "code",
   "execution_count": null,
   "metadata": {
    "colab": {
     "base_uri": "https://localhost:8080/",
     "height": 488
    },
    "id": "YjKeiurxFD6h",
    "outputId": "f4822842-bb2d-4861-a6bf-326f6b82c111"
   },
   "outputs": [
    {
     "data": {
      "text/html": [
       "\n",
       "  <div id=\"df-6f358ade-181b-42fb-b605-8c5bd6016e8f\">\n",
       "    <div class=\"colab-df-container\">\n",
       "      <div>\n",
       "<style scoped>\n",
       "    .dataframe tbody tr th:only-of-type {\n",
       "        vertical-align: middle;\n",
       "    }\n",
       "\n",
       "    .dataframe tbody tr th {\n",
       "        vertical-align: top;\n",
       "    }\n",
       "\n",
       "    .dataframe thead th {\n",
       "        text-align: right;\n",
       "    }\n",
       "</style>\n",
       "<table border=\"1\" class=\"dataframe\">\n",
       "  <thead>\n",
       "    <tr style=\"text-align: right;\">\n",
       "      <th></th>\n",
       "      <th>R_t</th>\n",
       "      <th>R_t+1</th>\n",
       "      <th>R_t+2</th>\n",
       "      <th>R_t+3</th>\n",
       "      <th>R_t+4</th>\n",
       "      <th>R_t+5</th>\n",
       "      <th>R_t+6</th>\n",
       "      <th>R_t+7</th>\n",
       "      <th>R_t+8</th>\n",
       "      <th>R_t+9</th>\n",
       "      <th>R_t+10</th>\n",
       "      <th>R_t+11</th>\n",
       "      <th>R_t+12</th>\n",
       "    </tr>\n",
       "  </thead>\n",
       "  <tbody>\n",
       "    <tr>\n",
       "      <th>435</th>\n",
       "      <td>-0.003384</td>\n",
       "      <td>-0.050620</td>\n",
       "      <td>-0.016581</td>\n",
       "      <td>-0.002479</td>\n",
       "      <td>-0.024083</td>\n",
       "      <td>0.001528</td>\n",
       "      <td>0.028200</td>\n",
       "      <td>-0.006266</td>\n",
       "      <td>-0.011726</td>\n",
       "      <td>0.017461</td>\n",
       "      <td>0.010231</td>\n",
       "      <td>-0.024121</td>\n",
       "      <td>-0.020700</td>\n",
       "    </tr>\n",
       "    <tr>\n",
       "      <th>436</th>\n",
       "      <td>-0.050620</td>\n",
       "      <td>-0.016581</td>\n",
       "      <td>-0.002479</td>\n",
       "      <td>-0.024083</td>\n",
       "      <td>0.001528</td>\n",
       "      <td>0.028200</td>\n",
       "      <td>-0.006266</td>\n",
       "      <td>-0.011726</td>\n",
       "      <td>0.017461</td>\n",
       "      <td>0.010231</td>\n",
       "      <td>-0.024121</td>\n",
       "      <td>-0.020700</td>\n",
       "      <td>-0.016693</td>\n",
       "    </tr>\n",
       "    <tr>\n",
       "      <th>437</th>\n",
       "      <td>-0.016581</td>\n",
       "      <td>-0.002479</td>\n",
       "      <td>-0.024083</td>\n",
       "      <td>0.001528</td>\n",
       "      <td>0.028200</td>\n",
       "      <td>-0.006266</td>\n",
       "      <td>-0.011726</td>\n",
       "      <td>0.017461</td>\n",
       "      <td>0.010231</td>\n",
       "      <td>-0.024121</td>\n",
       "      <td>-0.020700</td>\n",
       "      <td>-0.016693</td>\n",
       "      <td>0.026131</td>\n",
       "    </tr>\n",
       "    <tr>\n",
       "      <th>438</th>\n",
       "      <td>-0.002479</td>\n",
       "      <td>-0.024083</td>\n",
       "      <td>0.001528</td>\n",
       "      <td>0.028200</td>\n",
       "      <td>-0.006266</td>\n",
       "      <td>-0.011726</td>\n",
       "      <td>0.017461</td>\n",
       "      <td>0.010231</td>\n",
       "      <td>-0.024121</td>\n",
       "      <td>-0.020700</td>\n",
       "      <td>-0.016693</td>\n",
       "      <td>0.026131</td>\n",
       "      <td>-0.013269</td>\n",
       "    </tr>\n",
       "    <tr>\n",
       "      <th>439</th>\n",
       "      <td>-0.024083</td>\n",
       "      <td>0.001528</td>\n",
       "      <td>0.028200</td>\n",
       "      <td>-0.006266</td>\n",
       "      <td>-0.011726</td>\n",
       "      <td>0.017461</td>\n",
       "      <td>0.010231</td>\n",
       "      <td>-0.024121</td>\n",
       "      <td>-0.020700</td>\n",
       "      <td>-0.016693</td>\n",
       "      <td>0.026131</td>\n",
       "      <td>-0.013269</td>\n",
       "      <td>0.001259</td>\n",
       "    </tr>\n",
       "    <tr>\n",
       "      <th>...</th>\n",
       "      <td>...</td>\n",
       "      <td>...</td>\n",
       "      <td>...</td>\n",
       "      <td>...</td>\n",
       "      <td>...</td>\n",
       "      <td>...</td>\n",
       "      <td>...</td>\n",
       "      <td>...</td>\n",
       "      <td>...</td>\n",
       "      <td>...</td>\n",
       "      <td>...</td>\n",
       "      <td>...</td>\n",
       "      <td>...</td>\n",
       "    </tr>\n",
       "    <tr>\n",
       "      <th>241281</th>\n",
       "      <td>-0.006204</td>\n",
       "      <td>-0.013368</td>\n",
       "      <td>0.012448</td>\n",
       "      <td>0.041234</td>\n",
       "      <td>-0.127936</td>\n",
       "      <td>0.111319</td>\n",
       "      <td>-0.019589</td>\n",
       "      <td>0.030624</td>\n",
       "      <td>0.048767</td>\n",
       "      <td>-0.025600</td>\n",
       "      <td>-0.058218</td>\n",
       "      <td>0.008999</td>\n",
       "      <td>0.005420</td>\n",
       "    </tr>\n",
       "    <tr>\n",
       "      <th>241282</th>\n",
       "      <td>-0.013368</td>\n",
       "      <td>0.012448</td>\n",
       "      <td>0.041234</td>\n",
       "      <td>-0.127936</td>\n",
       "      <td>0.111319</td>\n",
       "      <td>-0.019589</td>\n",
       "      <td>0.030624</td>\n",
       "      <td>0.048767</td>\n",
       "      <td>-0.025600</td>\n",
       "      <td>-0.058218</td>\n",
       "      <td>0.008999</td>\n",
       "      <td>0.005420</td>\n",
       "      <td>0.007438</td>\n",
       "    </tr>\n",
       "    <tr>\n",
       "      <th>241283</th>\n",
       "      <td>0.012448</td>\n",
       "      <td>0.041234</td>\n",
       "      <td>-0.127936</td>\n",
       "      <td>0.111319</td>\n",
       "      <td>-0.019589</td>\n",
       "      <td>0.030624</td>\n",
       "      <td>0.048767</td>\n",
       "      <td>-0.025600</td>\n",
       "      <td>-0.058218</td>\n",
       "      <td>0.008999</td>\n",
       "      <td>0.005420</td>\n",
       "      <td>0.007438</td>\n",
       "      <td>0.089949</td>\n",
       "    </tr>\n",
       "    <tr>\n",
       "      <th>241284</th>\n",
       "      <td>0.041234</td>\n",
       "      <td>-0.127936</td>\n",
       "      <td>0.111319</td>\n",
       "      <td>-0.019589</td>\n",
       "      <td>0.030624</td>\n",
       "      <td>0.048767</td>\n",
       "      <td>-0.025600</td>\n",
       "      <td>-0.058218</td>\n",
       "      <td>0.008999</td>\n",
       "      <td>0.005420</td>\n",
       "      <td>0.007438</td>\n",
       "      <td>0.089949</td>\n",
       "      <td>0.017959</td>\n",
       "    </tr>\n",
       "    <tr>\n",
       "      <th>241285</th>\n",
       "      <td>-0.127936</td>\n",
       "      <td>0.111319</td>\n",
       "      <td>-0.019589</td>\n",
       "      <td>0.030624</td>\n",
       "      <td>0.048767</td>\n",
       "      <td>-0.025600</td>\n",
       "      <td>-0.058218</td>\n",
       "      <td>0.008999</td>\n",
       "      <td>0.005420</td>\n",
       "      <td>0.007438</td>\n",
       "      <td>0.089949</td>\n",
       "      <td>0.017959</td>\n",
       "      <td>0.008363</td>\n",
       "    </tr>\n",
       "  </tbody>\n",
       "</table>\n",
       "<p>32992 rows × 13 columns</p>\n",
       "</div>\n",
       "      <button class=\"colab-df-convert\" onclick=\"convertToInteractive('df-6f358ade-181b-42fb-b605-8c5bd6016e8f')\"\n",
       "              title=\"Convert this dataframe to an interactive table.\"\n",
       "              style=\"display:none;\">\n",
       "        \n",
       "  <svg xmlns=\"http://www.w3.org/2000/svg\" height=\"24px\"viewBox=\"0 0 24 24\"\n",
       "       width=\"24px\">\n",
       "    <path d=\"M0 0h24v24H0V0z\" fill=\"none\"/>\n",
       "    <path d=\"M18.56 5.44l.94 2.06.94-2.06 2.06-.94-2.06-.94-.94-2.06-.94 2.06-2.06.94zm-11 1L8.5 8.5l.94-2.06 2.06-.94-2.06-.94L8.5 2.5l-.94 2.06-2.06.94zm10 10l.94 2.06.94-2.06 2.06-.94-2.06-.94-.94-2.06-.94 2.06-2.06.94z\"/><path d=\"M17.41 7.96l-1.37-1.37c-.4-.4-.92-.59-1.43-.59-.52 0-1.04.2-1.43.59L10.3 9.45l-7.72 7.72c-.78.78-.78 2.05 0 2.83L4 21.41c.39.39.9.59 1.41.59.51 0 1.02-.2 1.41-.59l7.78-7.78 2.81-2.81c.8-.78.8-2.07 0-2.86zM5.41 20L4 18.59l7.72-7.72 1.47 1.35L5.41 20z\"/>\n",
       "  </svg>\n",
       "      </button>\n",
       "      \n",
       "  <style>\n",
       "    .colab-df-container {\n",
       "      display:flex;\n",
       "      flex-wrap:wrap;\n",
       "      gap: 12px;\n",
       "    }\n",
       "\n",
       "    .colab-df-convert {\n",
       "      background-color: #E8F0FE;\n",
       "      border: none;\n",
       "      border-radius: 50%;\n",
       "      cursor: pointer;\n",
       "      display: none;\n",
       "      fill: #1967D2;\n",
       "      height: 32px;\n",
       "      padding: 0 0 0 0;\n",
       "      width: 32px;\n",
       "    }\n",
       "\n",
       "    .colab-df-convert:hover {\n",
       "      background-color: #E2EBFA;\n",
       "      box-shadow: 0px 1px 2px rgba(60, 64, 67, 0.3), 0px 1px 3px 1px rgba(60, 64, 67, 0.15);\n",
       "      fill: #174EA6;\n",
       "    }\n",
       "\n",
       "    [theme=dark] .colab-df-convert {\n",
       "      background-color: #3B4455;\n",
       "      fill: #D2E3FC;\n",
       "    }\n",
       "\n",
       "    [theme=dark] .colab-df-convert:hover {\n",
       "      background-color: #434B5C;\n",
       "      box-shadow: 0px 1px 3px 1px rgba(0, 0, 0, 0.15);\n",
       "      filter: drop-shadow(0px 1px 2px rgba(0, 0, 0, 0.3));\n",
       "      fill: #FFFFFF;\n",
       "    }\n",
       "  </style>\n",
       "\n",
       "      <script>\n",
       "        const buttonEl =\n",
       "          document.querySelector('#df-6f358ade-181b-42fb-b605-8c5bd6016e8f button.colab-df-convert');\n",
       "        buttonEl.style.display =\n",
       "          google.colab.kernel.accessAllowed ? 'block' : 'none';\n",
       "\n",
       "        async function convertToInteractive(key) {\n",
       "          const element = document.querySelector('#df-6f358ade-181b-42fb-b605-8c5bd6016e8f');\n",
       "          const dataTable =\n",
       "            await google.colab.kernel.invokeFunction('convertToInteractive',\n",
       "                                                     [key], {});\n",
       "          if (!dataTable) return;\n",
       "\n",
       "          const docLinkHtml = 'Like what you see? Visit the ' +\n",
       "            '<a target=\"_blank\" href=https://colab.research.google.com/notebooks/data_table.ipynb>data table notebook</a>'\n",
       "            + ' to learn more about interactive tables.';\n",
       "          element.innerHTML = '';\n",
       "          dataTable['output_type'] = 'display_data';\n",
       "          await google.colab.output.renderOutput(dataTable, element);\n",
       "          const docLink = document.createElement('div');\n",
       "          docLink.innerHTML = docLinkHtml;\n",
       "          element.appendChild(docLink);\n",
       "        }\n",
       "      </script>\n",
       "    </div>\n",
       "  </div>\n",
       "  "
      ],
      "text/plain": [
       "             R_t     R_t+1     R_t+2     R_t+3     R_t+4     R_t+5     R_t+6  \\\n",
       "435    -0.003384 -0.050620 -0.016581 -0.002479 -0.024083  0.001528  0.028200   \n",
       "436    -0.050620 -0.016581 -0.002479 -0.024083  0.001528  0.028200 -0.006266   \n",
       "437    -0.016581 -0.002479 -0.024083  0.001528  0.028200 -0.006266 -0.011726   \n",
       "438    -0.002479 -0.024083  0.001528  0.028200 -0.006266 -0.011726  0.017461   \n",
       "439    -0.024083  0.001528  0.028200 -0.006266 -0.011726  0.017461  0.010231   \n",
       "...          ...       ...       ...       ...       ...       ...       ...   \n",
       "241281 -0.006204 -0.013368  0.012448  0.041234 -0.127936  0.111319 -0.019589   \n",
       "241282 -0.013368  0.012448  0.041234 -0.127936  0.111319 -0.019589  0.030624   \n",
       "241283  0.012448  0.041234 -0.127936  0.111319 -0.019589  0.030624  0.048767   \n",
       "241284  0.041234 -0.127936  0.111319 -0.019589  0.030624  0.048767 -0.025600   \n",
       "241285 -0.127936  0.111319 -0.019589  0.030624  0.048767 -0.025600 -0.058218   \n",
       "\n",
       "           R_t+7     R_t+8     R_t+9    R_t+10    R_t+11    R_t+12  \n",
       "435    -0.006266 -0.011726  0.017461  0.010231 -0.024121 -0.020700  \n",
       "436    -0.011726  0.017461  0.010231 -0.024121 -0.020700 -0.016693  \n",
       "437     0.017461  0.010231 -0.024121 -0.020700 -0.016693  0.026131  \n",
       "438     0.010231 -0.024121 -0.020700 -0.016693  0.026131 -0.013269  \n",
       "439    -0.024121 -0.020700 -0.016693  0.026131 -0.013269  0.001259  \n",
       "...          ...       ...       ...       ...       ...       ...  \n",
       "241281  0.030624  0.048767 -0.025600 -0.058218  0.008999  0.005420  \n",
       "241282  0.048767 -0.025600 -0.058218  0.008999  0.005420  0.007438  \n",
       "241283 -0.025600 -0.058218  0.008999  0.005420  0.007438  0.089949  \n",
       "241284 -0.058218  0.008999  0.005420  0.007438  0.089949  0.017959  \n",
       "241285  0.008999  0.005420  0.007438  0.089949  0.017959  0.008363  \n",
       "\n",
       "[32992 rows x 13 columns]"
      ]
     },
     "execution_count": 60,
     "metadata": {},
     "output_type": "execute_result"
    }
   ],
   "source": [
    "final_test_y.iloc[:, -13:]"
   ]
  },
  {
   "cell_type": "markdown",
   "metadata": {
    "id": "L_I95oepSzez"
   },
   "source": [
    "# Model Running"
   ]
  },
  {
   "cell_type": "markdown",
   "metadata": {
    "id": "F1NzOQgvS0fN"
   },
   "source": [
    "## Import, Install"
   ]
  },
  {
   "cell_type": "code",
   "execution_count": null,
   "metadata": {
    "colab": {
     "base_uri": "https://localhost:8080/",
     "height": 1000
    },
    "id": "j4YWlGytS-pv",
    "outputId": "da2334bd-8e16-4655-8c09-e55b8db9717f"
   },
   "outputs": [],
   "source": [
    "import torch\n",
    "!pip install pytorch-tabnet\n",
    "!pip install torch --upgrade"
   ]
  },
  {
   "cell_type": "markdown",
   "metadata": {
    "id": "Up_XStp8LwN1"
   },
   "source": [
    "## Get Model"
   ]
  },
  {
   "cell_type": "code",
   "execution_count": null,
   "metadata": {
    "id": "9UjPlVRBsOa3"
   },
   "outputs": [],
   "source": [
    "import pickle\n",
    "\n",
    "# 모델 로드\n",
    "with open('TabNetmodel.pkl', 'rb') as f:\n",
    "    model = pickle.load(f)"
   ]
  },
  {
   "cell_type": "code",
   "execution_count": null,
   "metadata": {
    "id": "HhgmTJs_Pzx1"
   },
   "outputs": [],
   "source": [
    "y_pred = model.predict(final_test_X.values)"
   ]
  },
  {
   "cell_type": "markdown",
   "metadata": {
    "id": "IcDoS3RwrdOj"
   },
   "source": [
    "# Graph"
   ]
  },
  {
   "cell_type": "code",
   "execution_count": null,
   "metadata": {
    "colab": {
     "base_uri": "https://localhost:8080/"
    },
    "id": "fAfYawJfLwN1",
    "outputId": "155810a0-19f2-466c-afae-01d707e2156e"
   },
   "outputs": [],
   "source": [
    "import plotly.graph_objs as go\n",
    "from plotly.subplots import make_subplots\n",
    "import os\n",
    "# !pip install -q orca==1.8\n",
    "!pip install -U kaleido\n",
    "import plotly.io as pio\n",
    "pio.renderers.default = 'colab'"
   ]
  },
  {
   "cell_type": "code",
   "execution_count": null,
   "metadata": {
    "id": "c6YQAHlF7eSJ"
   },
   "outputs": [],
   "source": [
    "### 세번째함수 ver2\n",
    "### 기업의 ticker를 넣은 리스트를 만들어서 for문 돌리기 용\n",
    "import numpy as np\n",
    "\n",
    "def drawRGraph(X_test:pd.DataFrame, y_test_df:pd.DataFrame, y_pred:np.ndarray, df:pd.DataFrame):\n",
    "\n",
    "  # 데이터 준비\n",
    "  # X_test로부터 ticker, company 정보 꺼내기\n",
    "  mcle_ticker_df = pd.DataFrame(X_test.copy().iloc[:, 0])\n",
    "  mcle_ticker_lst = mcle_ticker_df.values.tolist()\n",
    "  TICKER = mcle.inverse_transform(X_test, 'ticker')\n",
    "  TICKER = TICKER['ticker'].values.tolist()\n",
    "\n",
    "  # X_test로부터 'timestamp' column 다시 만들기\n",
    "  test_timestamp = X_test.loc[:, ['year', 'month', 'day']]\n",
    "  test_timestamp['timestamp'] = test_timestamp['year'].astype(str) + '-' + test_timestamp['month'].astype(str) + '-' + test_timestamp['day'].astype(str)\n",
    "  test_timestamp['timestamp'] = pd.to_datetime(test_timestamp['timestamp'])\n",
    "\n",
    "  # X_test, y_test, y_pred를 그래프 뽑기 편하게 만들어주기 (timestamp 붙이기)\n",
    "  X_test_graph = X_test.copy()\n",
    "  X_columns = list(X_test_graph.columns)\n",
    "  X_test_graph = pd.concat([X_test_graph, test_timestamp['timestamp']], ignore_index=True, axis=1)\n",
    "  X_test_graph.columns = X_columns + ['timestamp']\n",
    "\n",
    "  y_test_graph = y_test_df.copy()\n",
    "  y_columns = list(y_test_graph.columns)\n",
    "  y_test_graph = pd.concat([y_test_graph, test_timestamp['timestamp']], ignore_index = True, axis=1)\n",
    "  y_test_graph = pd.concat([y_test_graph, X_test_graph['ticker']], ignore_index = True, axis=1)\n",
    "  y_test_graph.columns = y_columns+ ['timestamp', 'ticker']\n",
    "\n",
    "  y_pred_graph = pd.DataFrame(y_pred)\n",
    "  y_pred_graph = pd.concat([y_pred_graph, test_timestamp['timestamp'].reset_index(drop=True)], ignore_index = True, axis = 1)\n",
    "  y_pred_graph = pd.concat([y_pred_graph, X_test_graph['ticker'].reset_index(drop=True)], ignore_index=True, axis=1)\n",
    "  y_pred_graph.columns = [f\"R{s}\" for s in range(13)] + ['timestamp', 'ticker']\n",
    "\n",
    "  # timelist (X of graph)\n",
    "  X_timelist = X_test_graph['timestamp'].unique().tolist()\n",
    "  X_timelist.sort()\n",
    "  y_timelist = y_test_graph['timestamp'].unique().tolist()\n",
    "  y_timelist.sort()\n",
    "\n",
    "  # check bad prediction\n",
    "  bad_prediction = 0\n",
    "  # 그래프 그리기\n",
    "  unique_TICKER = list(set(TICKER))\n",
    "  for t in unique_TICKER:\n",
    "    coIndex = TICKER.index(t)\n",
    "    co_n = mcle_ticker_lst[coIndex]\n",
    "    \n",
    "    # 특정 ticker 골라내기\n",
    "    X_temp = X_test_graph[X_test_graph['ticker'] == co_n[0]]\n",
    "    y_temp = y_test_graph[y_test_graph['ticker'] == co_n[0]]\n",
    "    pred_temp = y_pred_graph[y_pred_graph['ticker'] == co_n[0]]\n",
    "\n",
    "    # sort\n",
    "    X_temp = X_temp.sort_values(by='timestamp', ascending=True)\n",
    "    y_temp = y_temp.sort_values(by='timestamp', ascending=True)\n",
    "    pred_temp = pred_temp.sort_values(by='timestamp', ascending=True)\n",
    "\n",
    "    # 그래프를 그릴 R만 골라내기\n",
    "    X_graph = X_temp.iloc[:, -14:-1]\n",
    "    y_graph = y_temp.iloc[:, -15:-2]\n",
    "    pred_graph = pred_temp.iloc[:, -15:-2]\n",
    "\n",
    "    # X dataset 마련\n",
    "    Xlist = [0] * (len(X_timelist)-1)\n",
    "    for i in range(len(X_graph)-l): \n",
    "      for j in range(l):\n",
    "        Xlist[i+j] += X_graph.iloc[i, j]\n",
    "    Xlist_real = []\n",
    "    for i in range(len(Xlist)):\n",
    "      if i < l:\n",
    "        Xlist_real.append(Xlist[i]/(i+1))\n",
    "      elif i > len(Xlist) - l:\n",
    "        Xlist_real.append(Xlist[i]/(len(Xlist)-i))\n",
    "      else:\n",
    "        Xlist_real.append(Xlist[i]/l)\n",
    "\n",
    "    # y dataset 마련\n",
    "    ylist = [0] * (len(y_timelist)-1)\n",
    "    for i in range(len(y_graph)-l): \n",
    "      for j in range(l):\n",
    "        ylist[i+j] += y_graph.iloc[i, j]\n",
    "    ylist_real = []\n",
    "    for i in range(len(ylist)):\n",
    "      if i < l:\n",
    "        ylist_real.append(ylist[i]/(i+1))\n",
    "      elif i > len(ylist) - l:\n",
    "        ylist_real.append(ylist[i]/(len(ylist)-i))\n",
    "      else:\n",
    "        ylist_real.append(ylist[i]/l)\n",
    "\n",
    "    # pred dataset 마련\n",
    "    predlist = [0] * (len(y_timelist)-1)\n",
    "    for i in range(len(pred_graph)-l): \n",
    "      for j in range(l):\n",
    "        predlist[i+j] += pred_graph.iloc[i, j]\n",
    "    predlist_real = []\n",
    "    for i in range(len(predlist)):\n",
    "      if i < l:\n",
    "        predlist_real.append(predlist[i]/(i+1))\n",
    "      elif i > len(predlist) - l:\n",
    "        predlist_real.append(predlist[i]/(len(predlist)-i))\n",
    "      else:\n",
    "        predlist_real.append(predlist[i]/l)\n",
    "    # print(predlist_real)\n",
    "    if np.std(predlist_real) < 0.002:\n",
    "      bad_prediction += 1\n",
    "    else:\n",
    "      print(\"good prediction company\", t)\n",
    "\n",
    "    # 그래프 그리기\n",
    "    fig = make_subplots(specs=[[{\"secondary_y\": True}]])\n",
    "    fig.update_layout(title_text=t, title_font_size=20)\n",
    "\n",
    "    Xrange = [i for i in range(len(X_timelist))]\n",
    "    yrange = [i + l - 1 for i in range(len(y_timelist))]\n",
    "  \n",
    "    # Add traces\n",
    "    fig.add_trace(\n",
    "        go.Scatter(x=Xrange, y=Xlist_real, name=\"X_test\"),\n",
    "        secondary_y=False,\n",
    "    )\n",
    "\n",
    "    fig.add_trace(\n",
    "        go.Scatter(x=yrange, y=ylist_real, name=\"y_test\"),\n",
    "        secondary_y=False,\n",
    "        #secondary_y=True,\n",
    "    )\n",
    "\n",
    "    fig.add_trace(\n",
    "        go.Scatter(x=yrange, y=predlist_real, name=\"y_pred\"),\n",
    "        secondary_y=False,\n",
    "        #secondary_y=True,\n",
    "    )\n",
    "\n",
    "    if not os.path.exists('/content/drive/MyDrive/graphR2'):\n",
    "      os.makedirs('/content/drive/MyDrive/graphR2')\n",
    "    fig.write_image(f\"/content/drive/MyDrive/graphR2/{t}.png\", engine='kaleido')\n",
    "\n",
    "  print(\"std 0.002 이하 비율\")\n",
    "  print(bad_prediction/len(unique_TICKER))"
   ]
  },
  {
   "cell_type": "code",
   "execution_count": null,
   "metadata": {
    "colab": {
     "base_uri": "https://localhost:8080/"
    },
    "id": "p2fDuhE6OS6T",
    "outputId": "52421dfa-ea15-46c0-d049-6a44bb1d0cef"
   },
   "outputs": [],
   "source": [
    "drawRGraph(final_test_X, final_test_y, y_pred, df_)"
   ]
  },
  {
   "cell_type": "markdown",
   "metadata": {
    "id": "blTHH3KUMyXO"
   },
   "source": [
    "# Graph about P"
   ]
  },
  {
   "cell_type": "code",
   "execution_count": null,
   "metadata": {
    "id": "yEymldFbQDB2"
   },
   "outputs": [],
   "source": [
    "### 함수 완성 1번\n",
    "def RfromDF(df:pd.DataFrame) -> pd.DataFrame:\n",
    "    \"\"\"\n",
    "    정규화 전 R을 나랑 같은 형태로 불러오기 위해서\n",
    "    \"\"\"\n",
    "    import ast\n",
    "    R = df.copy()\n",
    "    R = R[['R', 'R_future']]\n",
    "    R['R'] = R['R'].apply(ast.literal_eval)\n",
    "    R['R_future'] = R['R_future'].apply(ast.literal_eval)\n",
    "\n",
    "    l = 13\n",
    "\n",
    "    lst = [i for i in range(-l+1, l+1)]\n",
    "    Rcol= []\n",
    "\n",
    "    for i in range(2*l):\n",
    "      if lst[i] < 0:\n",
    "        col_name = \"R_t\" + str(lst[i])\n",
    "        Rcol.append(col_name)\n",
    "      elif lst[i] == 0:\n",
    "        col_name = \"R_t\"\n",
    "        Rcol.append(col_name)\n",
    "      else:\n",
    "        col_name = \"R_t+\" + str(lst[i])\n",
    "        Rcol.append(col_name)\n",
    "    R[Rcol[:l]] = pd.DataFrame(R['R'].tolist(), index=df.index)\n",
    "    R[Rcol[l:]] = pd.DataFrame(R['R_future'].tolist(), index=df.index)\n",
    "    R = R.drop(labels = ['R', 'R_future', 'R_t+13'], axis=1)\n",
    "\n",
    "    return R"
   ]
  },
  {
   "cell_type": "code",
   "execution_count": null,
   "metadata": {
    "id": "GN7D5sZDQD8k"
   },
   "outputs": [],
   "source": [
    "### 두번째함수 완성\n",
    "def RtoP(X_test:pd.DataFrame, y_test_df:pd.DataFrame, y_pred_df:pd.DataFrame, df:pd.DataFrame):\n",
    "    \"\"\"\n",
    "    맨 처음 파일 불러온 직후 dataframe을 df에 넣어주세요! 정규화 전 close, R을 불러오기 위함입니다!\n",
    "    \n",
    "    결과:\n",
    "    dataframe P가 return 되어, 각 observation에 대해 P_t-12, P_t-11, ~ , P_t+12까지의 column에 각각의 P값이 들어 있다. \n",
    "    단, index는 초기화된다. \n",
    "    \"\"\"\n",
    "    # X_test, y_test_df, y_pred_df와 같은 범위의 data를 뽑는다. \n",
    "    data = df.copy()\n",
    "    data = data[data['timestamp'] > '2021-09-01'] ############################## test set 바꾸면 여기도 수정!\n",
    "\n",
    "    # 계산의 편의성을 위해 'R'에서 R값들을 dataframe 형태로 가져온다. \n",
    "    R = RfromDF(data)\n",
    "    Rpred = y_pred_df.copy()\n",
    "    # P_t인 close값을 가져온다. \n",
    "    P_t = data['close'].values.tolist()\n",
    "\n",
    "    # P columns 만들기\n",
    "    l = 13\n",
    "    lst = [i for i in range(-l+1, l)]\n",
    "    Pcol= []\n",
    "    for i in range(2*l-1):\n",
    "      if lst[i] < 0:\n",
    "        col_name = \"P_t\" + str(lst[i])\n",
    "        Pcol.append(col_name)\n",
    "      elif lst[i] == 0:\n",
    "        col_name = \"P_t\"\n",
    "        Pcol.append(col_name)\n",
    "      else:\n",
    "        col_name = \"P_t+\" + str(lst[i])\n",
    "        Pcol.append(col_name)\n",
    "    # dataframe P를 만들기 위해 P_bucket, P_temp를 이용\n",
    "    P_bucket = []\n",
    "    P_temp = []\n",
    "\n",
    "    pred_bucket = []\n",
    "    pred_temp = []\n",
    "\n",
    "    for i in range(len(X_test)):\n",
    "      P_temp.append(P_t[i])\n",
    "      pred_temp.append(P_t[i])\n",
    "      for j in range(1, l):\n",
    "        P_temp.append((R.iloc[i][f'R_t+{j}'] + 1) * P_temp[-1])\n",
    "        pred_temp.append((Rpred.iloc[i][j] + 1) * pred_temp[-1])\n",
    "      for j in range(1, l):\n",
    "        if j == 1: \n",
    "          P_temp.insert(-1, P_temp[0] / (R.iloc[i]['R_t'] + 1))      \n",
    "        else: \n",
    "          P_temp.insert(-1, P_temp[0] / (R.iloc[i][f'R_t-{j}'] + 1))      \n",
    "      P_bucket.append(P_temp)\n",
    "      pred_bucket.append(pred_temp)\n",
    "      P_temp = []\n",
    "      pred_temp = []\n",
    "      if i % 10000 == 0:\n",
    "        print(\" real i \", i)\n",
    "\n",
    "\n",
    "    P = pd.DataFrame(P_bucket, columns=Pcol)\n",
    "    P_pred = pd.DataFrame(pred_bucket, columns=Pcol[l-1:])\n",
    "\n",
    "    X_test = pd.concat([X_test.reset_index(drop=True), P.iloc[:, :l]], axis=1)\n",
    "    y_test_df = pd.concat([y_test_df.reset_index(drop=True), P.iloc[:, l-1:]], axis=1)\n",
    "\n",
    "    y_pred_df = pd.concat([y_pred_df.reset_index(drop=True), P_pred], axis=1)\n",
    "    return X_test, y_test_df, y_pred_df"
   ]
  },
  {
   "cell_type": "code",
   "execution_count": null,
   "metadata": {
    "id": "9xMrO2JfQF62"
   },
   "outputs": [],
   "source": [
    "### 세번째함수\n",
    "from plotly.subplots import make_subplots\n",
    "import os\n",
    "\n",
    "def drawGraphCompanyy(X_test:pd.DataFrame, y_test_df:pd.DataFrame, y_pred:np.ndarray, df: pd.DataFrame): \n",
    "  # 데이터 준비\n",
    "  # X_test로부터 ticker, company 정보 꺼내기\n",
    "  mcle_ticker_df = pd.DataFrame(X_test.copy().iloc[:, 0])\n",
    "  mcle_ticker_lst = mcle_ticker_df.values.tolist()\n",
    "  TICKER = mcle.inverse_transform(X_test, 'ticker')\n",
    "  TICKER = TICKER['ticker'].values.tolist()\n",
    "\n",
    "  # X_test로부터 'timestamp' column 다시 만들기\n",
    "  test_timestamp = X_test.loc[:, ['year', 'month', 'day']]\n",
    "  test_timestamp['timestamp'] = test_timestamp['year'].astype(str) + '-' + test_timestamp['month'].astype(str) + '-' + test_timestamp['day'].astype(str)\n",
    "  test_timestamp['timestamp'] = pd.to_datetime(test_timestamp['timestamp'])\n",
    "\n",
    "  # X_test, y_test, y_pred를 그래프 뽑기 편하게 만들어주기 (timestamp 붙이기, ticker decode)\n",
    "  X_test_graph = X_test.copy()\n",
    "  X_columns = list(X_test_graph.columns)\n",
    "  X_test_graph = pd.concat([X_test_graph, test_timestamp['timestamp']], ignore_index=True, axis=1)\n",
    "  X_test_graph.columns = X_columns + ['timestamp']\n",
    "\n",
    "  y_test_graph = y_test_df.copy()\n",
    "  y_columns = list(y_test_graph.columns)\n",
    "  y_test_graph = pd.concat([y_test_graph, test_timestamp['timestamp']], ignore_index = True, axis=1)\n",
    "  y_test_graph = pd.concat([y_test_graph, X_test_graph['ticker']], ignore_index = True, axis=1)\n",
    "  y_test_graph.columns = y_columns+ ['timestamp', 'ticker']\n",
    "\n",
    "  y_pred_graph = pd.DataFrame(y_pred)\n",
    "  y_pred_graph = pd.concat([y_pred_graph, test_timestamp['timestamp'].reset_index(drop=True)], ignore_index = True, axis = 1)\n",
    "  y_pred_graph = pd.concat([y_pred_graph, X_test_graph['ticker'].reset_index(drop=True)], ignore_index=True, axis=1)\n",
    "  y_pred_graph.columns = [f\"P{s}\" for s in range(13)] + ['timestamp', 'ticker']\n",
    "\n",
    "  # # timelist (X of graph)\n",
    "  X_timelist = X_test_graph['timestamp'].unique().tolist()\n",
    "  X_timelist.sort()\n",
    "  y_timelist = y_test_graph['timestamp'].unique().tolist()\n",
    "  y_timelist.sort()\n",
    "\n",
    "  # # X, y, pred에 P값 추가\n",
    "  X_test_graph, y_test_graph, y_pred_graph = RtoP(X_test_graph, y_test_graph, y_pred_graph, df)\n",
    "\n",
    "  # 그래프 그리기\n",
    "  unique_TICKER = list(set(TICKER))\n",
    "  for t in unique_TICKER:\n",
    "    coIndex = TICKER.index(t)\n",
    "    co_n = mcle_ticker_lst[coIndex]\n",
    "    \n",
    "    # 특정 ticker 골라내기\n",
    "    X_temp = X_test_graph[X_test_graph['ticker'] == co_n[0]]\n",
    "    y_temp = y_test_graph[y_test_graph['ticker'] == co_n[0]]\n",
    "    pred_temp = y_pred_graph[y_pred_graph['ticker'] == co_n[0]]\n",
    "\n",
    "    # sort\n",
    "    X_temp = X_temp.sort_values(by='timestamp', ascending=True)\n",
    "    y_temp = y_temp.sort_values(by='timestamp', ascending=True)\n",
    "    pred_temp = pred_temp.sort_values(by='timestamp', ascending=True)\n",
    "\n",
    "    # 그래프를 그릴 P만 골라내기\n",
    "    X_graph = X_temp.iloc[:, -13:]\n",
    "    y_graph = y_temp.iloc[:, -13:]\n",
    "    pred_graph = pred_temp.iloc[:, -13:]\n",
    "\n",
    "    # X dataset 마련\n",
    "    Xlist = [0] * (len(X_timelist)-1)\n",
    "    for i in range(len(X_graph)-l): \n",
    "      for j in range(l):\n",
    "        Xlist[i+j] += X_graph.iloc[i, j]\n",
    "    Xlist_real = []\n",
    "    for i in range(len(Xlist)):\n",
    "      if i < l:\n",
    "        Xlist_real.append(Xlist[i]/(i+1))\n",
    "      elif i > len(Xlist) - l:\n",
    "        Xlist_real.append(Xlist[i]/(len(Xlist)-i))\n",
    "      else:\n",
    "        Xlist_real.append(Xlist[i]/l)\n",
    "\n",
    "    # y dataset 마련\n",
    "    ylist = [0] * (len(y_timelist)-1)\n",
    "    for i in range(len(y_graph)-l): \n",
    "      for j in range(l):\n",
    "        ylist[i+j] += y_graph.iloc[i, j]\n",
    "    ylist_real = []\n",
    "    for i in range(len(ylist)):\n",
    "      if i < l:\n",
    "        ylist_real.append(ylist[i]/(i+1))\n",
    "      elif i > len(ylist) - l:\n",
    "        ylist_real.append(ylist[i]/(len(ylist)-i))\n",
    "      else:\n",
    "        ylist_real.append(ylist[i]/l)\n",
    "\n",
    "    # pred dataset 마련\n",
    "    predlist = [0] * (len(y_timelist)-1)\n",
    "    for i in range(len(pred_graph)-l): \n",
    "      for j in range(l):\n",
    "        predlist[i+j] += pred_graph.iloc[i, j]\n",
    "    predlist_real = []\n",
    "    for i in range(len(predlist)):\n",
    "      if i < l:\n",
    "        predlist_real.append(predlist[i]/(i+1))\n",
    "      elif i > len(predlist) - l:\n",
    "        predlist_real.append(predlist[i]/(len(predlist)-i))\n",
    "      else:\n",
    "        predlist_real.append(predlist[i]/l)\n",
    "\n",
    "    # 그래프 그리기\n",
    "    fig = make_subplots(specs=[[{\"secondary_y\": True}]])\n",
    "    fig.update_layout(title_text=t, title_font_size=20)\n",
    "\n",
    "    Xrange = [i for i in range(len(X_timelist))]\n",
    "    yrange = [i + l - 1 for i in range(len(y_timelist))]\n",
    "\n",
    "    # Add traces\n",
    "    fig.add_trace(\n",
    "        go.Scatter(x=Xrange, y=Xlist_real, name=\"X_test\"),\n",
    "        secondary_y=False,\n",
    "    )\n",
    "\n",
    "    fig.add_trace(\n",
    "        go.Scatter(x=yrange, y=ylist_real, name=\"y_test\"),\n",
    "        secondary_y=False,\n",
    "        #secondary_y=True,\n",
    "    )\n",
    "\n",
    "    fig.add_trace(\n",
    "        go.Scatter(x=yrange, y=predlist_real, name=\"y_pred\"),\n",
    "        secondary_y=False,\n",
    "        #secondary_y=True,\n",
    "    )\n",
    "    if not os.path.exists('/content/drive/MyDrive/graphP3'):\n",
    "      os.makedirs('/content/drive/MyDrive/graphP3')\n",
    "    fig.write_image(f\"/content/drive/MyDrive/graphP3/{t}.png\", engine='kaleido')"
   ]
  },
  {
   "cell_type": "code",
   "execution_count": null,
   "metadata": {
    "colab": {
     "base_uri": "https://localhost:8080/"
    },
    "id": "vkT5-ZA5QMM2",
    "outputId": "62dba355-85fa-473e-9840-67e96d7af968"
   },
   "outputs": [
    {
     "name": "stdout",
     "output_type": "stream",
     "text": [
      " real i  0\n",
      " real i  10000\n",
      " real i  20000\n",
      " real i  30000\n"
     ]
    }
   ],
   "source": [
    "drawGraphCompanyy(final_test_X, final_test_y, y_pred, df_)"
   ]
  }
 ],
 "metadata": {
  "accelerator": "GPU",
  "colab": {
   "provenance": []
  },
  "gpuClass": "standard",
  "kernelspec": {
   "display_name": "Python 3 (ipykernel)",
   "language": "python",
   "name": "python3"
  },
  "language_info": {
   "codemirror_mode": {
    "name": "ipython",
    "version": 3
   },
   "file_extension": ".py",
   "mimetype": "text/x-python",
   "name": "python",
   "nbconvert_exporter": "python",
   "pygments_lexer": "ipython3",
   "version": "3.10.9"
  }
 },
 "nbformat": 4,
 "nbformat_minor": 1
}
