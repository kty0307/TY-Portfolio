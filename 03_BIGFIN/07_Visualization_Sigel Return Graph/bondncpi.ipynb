{
 "cells": [
  {
   "cell_type": "code",
   "execution_count": 58,
   "metadata": {},
   "outputs": [],
   "source": [
    "import pandas as pd\n",
    "import numpy as np"
   ]
  },
  {
   "cell_type": "code",
   "execution_count": 68,
   "metadata": {},
   "outputs": [
    {
     "name": "stderr",
     "output_type": "stream",
     "text": [
      "/var/folders/89/q65htr7s3zx_vygvg7q4nd3h0000gn/T/ipykernel_12417/555068753.py:2: UserWarning: Could not infer format, so each element will be parsed individually, falling back to `dateutil`. To ensure parsing is consistent and as-expected, please specify a format.\n",
      "  df_bond_volume = pd.read_csv('bond_volume_month.csv', index_col=0, parse_dates=True)\n",
      "/var/folders/89/q65htr7s3zx_vygvg7q4nd3h0000gn/T/ipykernel_12417/555068753.py:4: UserWarning: Could not infer format, so each element will be parsed individually, falling back to `dateutil`. To ensure parsing is consistent and as-expected, please specify a format.\n",
      "  df_bond_interest = pd.read_csv('bond_interest_month.csv', index_col=0, parse_dates=True)\n",
      "/var/folders/89/q65htr7s3zx_vygvg7q4nd3h0000gn/T/ipykernel_12417/555068753.py:6: UserWarning: Could not infer format, so each element will be parsed individually, falling back to `dateutil`. To ensure parsing is consistent and as-expected, please specify a format.\n",
      "  df_cpi = pd.read_csv('cpi.csv', index_col=0, parse_dates=True)\n"
     ]
    }
   ],
   "source": [
    "# csv파일 불러오기\n",
    "df_bond_volume = pd.read_csv('bond_volume_month.csv', index_col=0, parse_dates=True)\n",
    "df_bond_volume.index = df_bond_volume.index.to_period('M')\n",
    "df_bond_interest = pd.read_csv('bond_interest_month.csv', index_col=0, parse_dates=True)\n",
    "df_bond_interest.index = df_bond_interest.index.to_period('M')\n",
    "df_cpi = pd.read_csv('cpi.csv', index_col=0, parse_dates=True)\n",
    "df_cpi.index = df_cpi.index.to_period('M')"
   ]
  },
  {
   "cell_type": "code",
   "execution_count": 69,
   "metadata": {},
   "outputs": [],
   "source": [
    "# 열이름 변경\n",
    "df_bond_volume.rename(columns={'원자료':'kgb_1y_volume','원자료.1':'kgb_1y_bal','원자료.2':'ktb_3m_volume','원자료.3':'ktb_3m_bal'}, inplace=True)\n",
    "df_bond_interest.rename(columns={'원자료':'kgb_1y_return','원자료.1':'ktb_3m_return'}, inplace=True)\n",
    "df_cpi.rename(columns={'원자료':'cpi_index'}, inplace=True)"
   ]
  },
  {
   "cell_type": "code",
   "execution_count": 70,
   "metadata": {},
   "outputs": [],
   "source": [
    "df = pd.concat([df_bond_interest, df_bond_volume, df_cpi], axis=1)\n",
    "df.drop(columns=['kgb_1y_bal', 'ktb_3m_bal'], inplace=True)\n",
    "df = df[['kgb_1y_return', 'kgb_1y_volume', 'ktb_3m_return', 'ktb_3m_volume', 'cpi_index']]"
   ]
  },
  {
   "cell_type": "code",
   "execution_count": 71,
   "metadata": {},
   "outputs": [
    {
     "data": {
      "text/html": [
       "<div>\n",
       "<style scoped>\n",
       "    .dataframe tbody tr th:only-of-type {\n",
       "        vertical-align: middle;\n",
       "    }\n",
       "\n",
       "    .dataframe tbody tr th {\n",
       "        vertical-align: top;\n",
       "    }\n",
       "\n",
       "    .dataframe thead th {\n",
       "        text-align: right;\n",
       "    }\n",
       "</style>\n",
       "<table border=\"1\" class=\"dataframe\">\n",
       "  <thead>\n",
       "    <tr style=\"text-align: right;\">\n",
       "      <th></th>\n",
       "      <th>kgb_1y_return</th>\n",
       "      <th>kgb_1y_volume</th>\n",
       "      <th>ktb_3m_return</th>\n",
       "      <th>ktb_3m_volume</th>\n",
       "      <th>cpi_index</th>\n",
       "    </tr>\n",
       "    <tr>\n",
       "      <th>변환</th>\n",
       "      <th></th>\n",
       "      <th></th>\n",
       "      <th></th>\n",
       "      <th></th>\n",
       "      <th></th>\n",
       "    </tr>\n",
       "  </thead>\n",
       "  <tbody>\n",
       "    <tr>\n",
       "      <th>2000-01</th>\n",
       "      <td>NaN</td>\n",
       "      <td>NaN</td>\n",
       "      <td>NaN</td>\n",
       "      <td>20,943.2</td>\n",
       "      <td>62.456</td>\n",
       "    </tr>\n",
       "    <tr>\n",
       "      <th>2000-02</th>\n",
       "      <td>8.530</td>\n",
       "      <td>NaN</td>\n",
       "      <td>NaN</td>\n",
       "      <td>18,255.7</td>\n",
       "      <td>62.647</td>\n",
       "    </tr>\n",
       "    <tr>\n",
       "      <th>2000-03</th>\n",
       "      <td>8.350</td>\n",
       "      <td>NaN</td>\n",
       "      <td>NaN</td>\n",
       "      <td>11,591.1</td>\n",
       "      <td>62.962</td>\n",
       "    </tr>\n",
       "    <tr>\n",
       "      <th>2000-04</th>\n",
       "      <td>8.340</td>\n",
       "      <td>NaN</td>\n",
       "      <td>NaN</td>\n",
       "      <td>11,449.5</td>\n",
       "      <td>62.709</td>\n",
       "    </tr>\n",
       "    <tr>\n",
       "      <th>2000-05</th>\n",
       "      <td>8.340</td>\n",
       "      <td>NaN</td>\n",
       "      <td>NaN</td>\n",
       "      <td>4,272.1</td>\n",
       "      <td>62.393</td>\n",
       "    </tr>\n",
       "    <tr>\n",
       "      <th>...</th>\n",
       "      <td>...</td>\n",
       "      <td>...</td>\n",
       "      <td>...</td>\n",
       "      <td>...</td>\n",
       "      <td>...</td>\n",
       "    </tr>\n",
       "    <tr>\n",
       "      <th>2022-12</th>\n",
       "      <td>3.705</td>\n",
       "      <td>2,700.0</td>\n",
       "      <td>3.444</td>\n",
       "      <td>7,210.0</td>\n",
       "      <td>109.280</td>\n",
       "    </tr>\n",
       "    <tr>\n",
       "      <th>2023-01</th>\n",
       "      <td>3.584</td>\n",
       "      <td>12,961.7</td>\n",
       "      <td>3.460</td>\n",
       "      <td>10,770.0</td>\n",
       "      <td>110.100</td>\n",
       "    </tr>\n",
       "    <tr>\n",
       "      <th>2023-02</th>\n",
       "      <td>3.528</td>\n",
       "      <td>14,188.2</td>\n",
       "      <td>3.464</td>\n",
       "      <td>11,850.0</td>\n",
       "      <td>110.380</td>\n",
       "    </tr>\n",
       "    <tr>\n",
       "      <th>2023-03</th>\n",
       "      <td>3.452</td>\n",
       "      <td>18,836.6</td>\n",
       "      <td>3.434</td>\n",
       "      <td>10,820.0</td>\n",
       "      <td>110.560</td>\n",
       "    </tr>\n",
       "    <tr>\n",
       "      <th>2023-04</th>\n",
       "      <td>3.254</td>\n",
       "      <td>NaN</td>\n",
       "      <td>3.241</td>\n",
       "      <td>12,050.0</td>\n",
       "      <td>110.800</td>\n",
       "    </tr>\n",
       "  </tbody>\n",
       "</table>\n",
       "<p>280 rows × 5 columns</p>\n",
       "</div>"
      ],
      "text/plain": [
       "         kgb_1y_return kgb_1y_volume  ktb_3m_return ktb_3m_volume  cpi_index\n",
       "변환                                                                          \n",
       "2000-01            NaN           NaN            NaN      20,943.2     62.456\n",
       "2000-02          8.530           NaN            NaN      18,255.7     62.647\n",
       "2000-03          8.350           NaN            NaN      11,591.1     62.962\n",
       "2000-04          8.340           NaN            NaN      11,449.5     62.709\n",
       "2000-05          8.340           NaN            NaN       4,272.1     62.393\n",
       "...                ...           ...            ...           ...        ...\n",
       "2022-12          3.705       2,700.0          3.444       7,210.0    109.280\n",
       "2023-01          3.584      12,961.7          3.460      10,770.0    110.100\n",
       "2023-02          3.528      14,188.2          3.464      11,850.0    110.380\n",
       "2023-03          3.452      18,836.6          3.434      10,820.0    110.560\n",
       "2023-04          3.254           NaN          3.241      12,050.0    110.800\n",
       "\n",
       "[280 rows x 5 columns]"
      ]
     },
     "execution_count": 71,
     "metadata": {},
     "output_type": "execute_result"
    }
   ],
   "source": [
    "df"
   ]
  },
  {
   "cell_type": "code",
   "execution_count": 72,
   "metadata": {},
   "outputs": [],
   "source": [
    "df.to_csv('bondncpi.csv')"
   ]
  }
 ],
 "metadata": {
  "kernelspec": {
   "display_name": "Python 3",
   "language": "python",
   "name": "python3"
  },
  "language_info": {
   "codemirror_mode": {
    "name": "ipython",
    "version": 3
   },
   "file_extension": ".py",
   "mimetype": "text/x-python",
   "name": "python",
   "nbconvert_exporter": "python",
   "pygments_lexer": "ipython3",
   "version": "3.9.6"
  },
  "orig_nbformat": 4
 },
 "nbformat": 4,
 "nbformat_minor": 2
}
