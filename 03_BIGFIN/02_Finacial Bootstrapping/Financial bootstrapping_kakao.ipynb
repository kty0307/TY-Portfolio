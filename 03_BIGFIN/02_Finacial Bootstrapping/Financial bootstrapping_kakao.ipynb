{
 "cells": [
  {
   "cell_type": "markdown",
   "id": "76f153ab",
   "metadata": {},
   "source": [
    "# Financial bootstrapping"
   ]
  },
  {
   "cell_type": "markdown",
   "id": "0cce6db9",
   "metadata": {},
   "source": []
  },
  {
   "cell_type": "markdown",
   "id": "a794dfb1",
   "metadata": {},
   "source": [
    "### 0. 종목 선정\n",
    "<hr><br>\n",
    "카카오(035720)  \n"
   ]
  },
  {
   "cell_type": "markdown",
   "id": "859c3c35",
   "metadata": {},
   "source": []
  },
  {
   "cell_type": "markdown",
   "id": "344ec329",
   "metadata": {},
   "source": [
    "### 1.  필요 모듈, 라이브러리 설치\n",
    "<hr>"
   ]
  },
  {
   "cell_type": "code",
   "execution_count": 64,
   "id": "275a003d",
   "metadata": {
    "scrolled": true
   },
   "outputs": [
    {
     "name": "stdout",
     "output_type": "stream",
     "text": [
      "Requirement already satisfied: pykrx in /Users/daniel/opt/anaconda3/lib/python3.9/site-packages (1.0.40)\n",
      "Requirement already satisfied: xlrd in /Users/daniel/opt/anaconda3/lib/python3.9/site-packages (from pykrx) (2.0.1)\n",
      "Requirement already satisfied: numpy in /Users/daniel/opt/anaconda3/lib/python3.9/site-packages (from pykrx) (1.21.5)\n",
      "Requirement already satisfied: requests in /Users/daniel/opt/anaconda3/lib/python3.9/site-packages (from pykrx) (2.28.1)\n",
      "Requirement already satisfied: pandas in /Users/daniel/opt/anaconda3/lib/python3.9/site-packages (from pykrx) (1.4.4)\n",
      "Requirement already satisfied: datetime in /Users/daniel/opt/anaconda3/lib/python3.9/site-packages (from pykrx) (5.0)\n",
      "Requirement already satisfied: deprecated in /Users/daniel/opt/anaconda3/lib/python3.9/site-packages (from pykrx) (1.2.13)\n",
      "Requirement already satisfied: zope.interface in /Users/daniel/opt/anaconda3/lib/python3.9/site-packages (from datetime->pykrx) (5.4.0)\n",
      "Requirement already satisfied: pytz in /Users/daniel/opt/anaconda3/lib/python3.9/site-packages (from datetime->pykrx) (2022.1)\n",
      "Requirement already satisfied: wrapt<2,>=1.10 in /Users/daniel/opt/anaconda3/lib/python3.9/site-packages (from deprecated->pykrx) (1.14.1)\n",
      "Requirement already satisfied: python-dateutil>=2.8.1 in /Users/daniel/opt/anaconda3/lib/python3.9/site-packages (from pandas->pykrx) (2.8.2)\n",
      "Requirement already satisfied: charset-normalizer<3,>=2 in /Users/daniel/opt/anaconda3/lib/python3.9/site-packages (from requests->pykrx) (2.0.4)\n",
      "Requirement already satisfied: certifi>=2017.4.17 in /Users/daniel/opt/anaconda3/lib/python3.9/site-packages (from requests->pykrx) (2022.9.24)\n",
      "Requirement already satisfied: urllib3<1.27,>=1.21.1 in /Users/daniel/opt/anaconda3/lib/python3.9/site-packages (from requests->pykrx) (1.26.11)\n",
      "Requirement already satisfied: idna<4,>=2.5 in /Users/daniel/opt/anaconda3/lib/python3.9/site-packages (from requests->pykrx) (3.3)\n",
      "Requirement already satisfied: six>=1.5 in /Users/daniel/opt/anaconda3/lib/python3.9/site-packages (from python-dateutil>=2.8.1->pandas->pykrx) (1.16.0)\n",
      "Requirement already satisfied: setuptools in /Users/daniel/opt/anaconda3/lib/python3.9/site-packages (from zope.interface->datetime->pykrx) (63.4.1)\n"
     ]
    }
   ],
   "source": [
    "!pip3 install pykrx\n",
    "import pykrx\n",
    "from pykrx import stock"
   ]
  },
  {
   "cell_type": "code",
   "execution_count": 65,
   "id": "e083bb04",
   "metadata": {},
   "outputs": [],
   "source": [
    "import math\n",
    "import numpy as np\n",
    "import pandas as pd"
   ]
  },
  {
   "cell_type": "markdown",
   "id": "9f334397",
   "metadata": {},
   "source": [
    "### 2. 종목 정보를 가져오는 함수: getStockInfo\n",
    "<hr>"
   ]
  },
  {
   "cell_type": "markdown",
   "id": "71beeb5e",
   "metadata": {},
   "source": [
    "입출력 관계: (시작일, 마감일, 종목코드) -> (종목 정보) "
   ]
  },
  {
   "cell_type": "markdown",
   "id": "84854602",
   "metadata": {},
   "source": [
    "##### 2.1 함수 구현 코드"
   ]
  },
  {
   "cell_type": "code",
   "execution_count": 66,
   "id": "1f1ab2f6",
   "metadata": {},
   "outputs": [],
   "source": [
    "def getStockInfo(initialDate, finalDate, stockCode):\n",
    "    return stock.get_market_ohlcv(initialDate, finalDate, stockCode) "
   ]
  },
  {
   "cell_type": "markdown",
   "id": "c201deca",
   "metadata": {},
   "source": [
    "##### 2.2 출력 데이터 확인"
   ]
  },
  {
   "cell_type": "code",
   "execution_count": 67,
   "id": "1f33f2a0",
   "metadata": {},
   "outputs": [
    {
     "data": {
      "text/html": [
       "<div>\n",
       "<style scoped>\n",
       "    .dataframe tbody tr th:only-of-type {\n",
       "        vertical-align: middle;\n",
       "    }\n",
       "\n",
       "    .dataframe tbody tr th {\n",
       "        vertical-align: top;\n",
       "    }\n",
       "\n",
       "    .dataframe thead th {\n",
       "        text-align: right;\n",
       "    }\n",
       "</style>\n",
       "<table border=\"1\" class=\"dataframe\">\n",
       "  <thead>\n",
       "    <tr style=\"text-align: right;\">\n",
       "      <th></th>\n",
       "      <th>시가</th>\n",
       "      <th>고가</th>\n",
       "      <th>저가</th>\n",
       "      <th>종가</th>\n",
       "      <th>거래량</th>\n",
       "      <th>거래대금</th>\n",
       "      <th>등락률</th>\n",
       "    </tr>\n",
       "    <tr>\n",
       "      <th>날짜</th>\n",
       "      <th></th>\n",
       "      <th></th>\n",
       "      <th></th>\n",
       "      <th></th>\n",
       "      <th></th>\n",
       "      <th></th>\n",
       "      <th></th>\n",
       "    </tr>\n",
       "  </thead>\n",
       "  <tbody>\n",
       "    <tr>\n",
       "      <th>2022-01-03</th>\n",
       "      <td>113500</td>\n",
       "      <td>117000</td>\n",
       "      <td>113000</td>\n",
       "      <td>114500</td>\n",
       "      <td>1846049</td>\n",
       "      <td>212280750000</td>\n",
       "      <td>1.78</td>\n",
       "    </tr>\n",
       "    <tr>\n",
       "      <th>2022-01-04</th>\n",
       "      <td>114000</td>\n",
       "      <td>114500</td>\n",
       "      <td>111000</td>\n",
       "      <td>111500</td>\n",
       "      <td>2396207</td>\n",
       "      <td>268925764000</td>\n",
       "      <td>-2.62</td>\n",
       "    </tr>\n",
       "    <tr>\n",
       "      <th>2022-01-05</th>\n",
       "      <td>111000</td>\n",
       "      <td>111000</td>\n",
       "      <td>105000</td>\n",
       "      <td>105500</td>\n",
       "      <td>5108428</td>\n",
       "      <td>545379775500</td>\n",
       "      <td>-5.38</td>\n",
       "    </tr>\n",
       "    <tr>\n",
       "      <th>2022-01-06</th>\n",
       "      <td>102500</td>\n",
       "      <td>103000</td>\n",
       "      <td>99900</td>\n",
       "      <td>100000</td>\n",
       "      <td>7120428</td>\n",
       "      <td>716638704800</td>\n",
       "      <td>-5.21</td>\n",
       "    </tr>\n",
       "    <tr>\n",
       "      <th>2022-01-07</th>\n",
       "      <td>100000</td>\n",
       "      <td>101500</td>\n",
       "      <td>99800</td>\n",
       "      <td>100000</td>\n",
       "      <td>3962672</td>\n",
       "      <td>398238832200</td>\n",
       "      <td>0.00</td>\n",
       "    </tr>\n",
       "    <tr>\n",
       "      <th>...</th>\n",
       "      <td>...</td>\n",
       "      <td>...</td>\n",
       "      <td>...</td>\n",
       "      <td>...</td>\n",
       "      <td>...</td>\n",
       "      <td>...</td>\n",
       "      <td>...</td>\n",
       "    </tr>\n",
       "    <tr>\n",
       "      <th>2022-12-23</th>\n",
       "      <td>54000</td>\n",
       "      <td>54300</td>\n",
       "      <td>53100</td>\n",
       "      <td>53400</td>\n",
       "      <td>1339673</td>\n",
       "      <td>71753381000</td>\n",
       "      <td>-3.09</td>\n",
       "    </tr>\n",
       "    <tr>\n",
       "      <th>2022-12-26</th>\n",
       "      <td>53400</td>\n",
       "      <td>53800</td>\n",
       "      <td>52700</td>\n",
       "      <td>53600</td>\n",
       "      <td>988777</td>\n",
       "      <td>52802294200</td>\n",
       "      <td>0.37</td>\n",
       "    </tr>\n",
       "    <tr>\n",
       "      <th>2022-12-27</th>\n",
       "      <td>53900</td>\n",
       "      <td>54700</td>\n",
       "      <td>53600</td>\n",
       "      <td>54400</td>\n",
       "      <td>1226474</td>\n",
       "      <td>66426954300</td>\n",
       "      <td>1.49</td>\n",
       "    </tr>\n",
       "    <tr>\n",
       "      <th>2022-12-28</th>\n",
       "      <td>53900</td>\n",
       "      <td>54700</td>\n",
       "      <td>52900</td>\n",
       "      <td>53600</td>\n",
       "      <td>1268005</td>\n",
       "      <td>68298151900</td>\n",
       "      <td>-1.47</td>\n",
       "    </tr>\n",
       "    <tr>\n",
       "      <th>2022-12-29</th>\n",
       "      <td>53500</td>\n",
       "      <td>55300</td>\n",
       "      <td>52900</td>\n",
       "      <td>53100</td>\n",
       "      <td>1319611</td>\n",
       "      <td>70904387100</td>\n",
       "      <td>-0.93</td>\n",
       "    </tr>\n",
       "  </tbody>\n",
       "</table>\n",
       "<p>246 rows × 7 columns</p>\n",
       "</div>"
      ],
      "text/plain": [
       "                시가      고가      저가      종가      거래량          거래대금   등락률\n",
       "날짜                                                                     \n",
       "2022-01-03  113500  117000  113000  114500  1846049  212280750000  1.78\n",
       "2022-01-04  114000  114500  111000  111500  2396207  268925764000 -2.62\n",
       "2022-01-05  111000  111000  105000  105500  5108428  545379775500 -5.38\n",
       "2022-01-06  102500  103000   99900  100000  7120428  716638704800 -5.21\n",
       "2022-01-07  100000  101500   99800  100000  3962672  398238832200  0.00\n",
       "...            ...     ...     ...     ...      ...           ...   ...\n",
       "2022-12-23   54000   54300   53100   53400  1339673   71753381000 -3.09\n",
       "2022-12-26   53400   53800   52700   53600   988777   52802294200  0.37\n",
       "2022-12-27   53900   54700   53600   54400  1226474   66426954300  1.49\n",
       "2022-12-28   53900   54700   52900   53600  1268005   68298151900 -1.47\n",
       "2022-12-29   53500   55300   52900   53100  1319611   70904387100 -0.93\n",
       "\n",
       "[246 rows x 7 columns]"
      ]
     },
     "execution_count": 67,
     "metadata": {},
     "output_type": "execute_result"
    }
   ],
   "source": [
    "# 분석 종목: 카카오 (코드: 035720)\n",
    "# 분석 기간: 2022.1.1~2022.12.31\n",
    "rawData = getStockInfo(\"20220101\", \"20221231\", \"035720\") \n",
    "rawData"
   ]
  },
  {
   "cell_type": "markdown",
   "id": "098f889f",
   "metadata": {},
   "source": [
    "##### 2.3 데이터 전처리: 종가 열만 남기기"
   ]
  },
  {
   "cell_type": "code",
   "execution_count": 68,
   "id": "1e6d8007",
   "metadata": {},
   "outputs": [
    {
     "data": {
      "text/html": [
       "<div>\n",
       "<style scoped>\n",
       "    .dataframe tbody tr th:only-of-type {\n",
       "        vertical-align: middle;\n",
       "    }\n",
       "\n",
       "    .dataframe tbody tr th {\n",
       "        vertical-align: top;\n",
       "    }\n",
       "\n",
       "    .dataframe thead th {\n",
       "        text-align: right;\n",
       "    }\n",
       "</style>\n",
       "<table border=\"1\" class=\"dataframe\">\n",
       "  <thead>\n",
       "    <tr style=\"text-align: right;\">\n",
       "      <th></th>\n",
       "      <th>close</th>\n",
       "    </tr>\n",
       "    <tr>\n",
       "      <th>날짜</th>\n",
       "      <th></th>\n",
       "    </tr>\n",
       "  </thead>\n",
       "  <tbody>\n",
       "    <tr>\n",
       "      <th>2022-01-03</th>\n",
       "      <td>114500</td>\n",
       "    </tr>\n",
       "    <tr>\n",
       "      <th>2022-01-04</th>\n",
       "      <td>111500</td>\n",
       "    </tr>\n",
       "    <tr>\n",
       "      <th>2022-01-05</th>\n",
       "      <td>105500</td>\n",
       "    </tr>\n",
       "    <tr>\n",
       "      <th>2022-01-06</th>\n",
       "      <td>100000</td>\n",
       "    </tr>\n",
       "    <tr>\n",
       "      <th>2022-01-07</th>\n",
       "      <td>100000</td>\n",
       "    </tr>\n",
       "    <tr>\n",
       "      <th>...</th>\n",
       "      <td>...</td>\n",
       "    </tr>\n",
       "    <tr>\n",
       "      <th>2022-12-23</th>\n",
       "      <td>53400</td>\n",
       "    </tr>\n",
       "    <tr>\n",
       "      <th>2022-12-26</th>\n",
       "      <td>53600</td>\n",
       "    </tr>\n",
       "    <tr>\n",
       "      <th>2022-12-27</th>\n",
       "      <td>54400</td>\n",
       "    </tr>\n",
       "    <tr>\n",
       "      <th>2022-12-28</th>\n",
       "      <td>53600</td>\n",
       "    </tr>\n",
       "    <tr>\n",
       "      <th>2022-12-29</th>\n",
       "      <td>53100</td>\n",
       "    </tr>\n",
       "  </tbody>\n",
       "</table>\n",
       "<p>246 rows × 1 columns</p>\n",
       "</div>"
      ],
      "text/plain": [
       "             close\n",
       "날짜                \n",
       "2022-01-03  114500\n",
       "2022-01-04  111500\n",
       "2022-01-05  105500\n",
       "2022-01-06  100000\n",
       "2022-01-07  100000\n",
       "...            ...\n",
       "2022-12-23   53400\n",
       "2022-12-26   53600\n",
       "2022-12-27   54400\n",
       "2022-12-28   53600\n",
       "2022-12-29   53100\n",
       "\n",
       "[246 rows x 1 columns]"
      ]
     },
     "execution_count": 68,
     "metadata": {},
     "output_type": "execute_result"
    }
   ],
   "source": [
    "# 종가만 가져오기\n",
    "df = pd.DataFrame(rawData['종가'])\n",
    "df = df.rename(columns={'종가':'close'}) # 종가변수 이름을 close로 변경\n",
    "df"
   ]
  },
  {
   "cell_type": "markdown",
   "id": "5615bc9f",
   "metadata": {},
   "source": [
    "카카오의 2022년 주가 추이는 연초 114500원 고점에서 연말 53100원으로 하락 추세를 보였다. "
   ]
  },
  {
   "cell_type": "markdown",
   "id": "6b7431f6",
   "metadata": {},
   "source": [
    "##### 2.4 데이터 전처리: 일 상승률 계산 후 새로운 열로 추가"
   ]
  },
  {
   "cell_type": "code",
   "execution_count": 69,
   "id": "7e149f93",
   "metadata": {
    "scrolled": false
   },
   "outputs": [
    {
     "data": {
      "text/html": [
       "<div>\n",
       "<style scoped>\n",
       "    .dataframe tbody tr th:only-of-type {\n",
       "        vertical-align: middle;\n",
       "    }\n",
       "\n",
       "    .dataframe tbody tr th {\n",
       "        vertical-align: top;\n",
       "    }\n",
       "\n",
       "    .dataframe thead th {\n",
       "        text-align: right;\n",
       "    }\n",
       "</style>\n",
       "<table border=\"1\" class=\"dataframe\">\n",
       "  <thead>\n",
       "    <tr style=\"text-align: right;\">\n",
       "      <th></th>\n",
       "      <th>close</th>\n",
       "      <th>return</th>\n",
       "    </tr>\n",
       "    <tr>\n",
       "      <th>날짜</th>\n",
       "      <th></th>\n",
       "      <th></th>\n",
       "    </tr>\n",
       "  </thead>\n",
       "  <tbody>\n",
       "    <tr>\n",
       "      <th>2022-01-03</th>\n",
       "      <td>114500</td>\n",
       "      <td>NaN</td>\n",
       "    </tr>\n",
       "    <tr>\n",
       "      <th>2022-01-04</th>\n",
       "      <td>111500</td>\n",
       "      <td>-0.026550</td>\n",
       "    </tr>\n",
       "    <tr>\n",
       "      <th>2022-01-05</th>\n",
       "      <td>105500</td>\n",
       "      <td>-0.055314</td>\n",
       "    </tr>\n",
       "    <tr>\n",
       "      <th>2022-01-06</th>\n",
       "      <td>100000</td>\n",
       "      <td>-0.053541</td>\n",
       "    </tr>\n",
       "    <tr>\n",
       "      <th>2022-01-07</th>\n",
       "      <td>100000</td>\n",
       "      <td>0.000000</td>\n",
       "    </tr>\n",
       "    <tr>\n",
       "      <th>...</th>\n",
       "      <td>...</td>\n",
       "      <td>...</td>\n",
       "    </tr>\n",
       "    <tr>\n",
       "      <th>2022-12-23</th>\n",
       "      <td>53400</td>\n",
       "      <td>-0.031339</td>\n",
       "    </tr>\n",
       "    <tr>\n",
       "      <th>2022-12-26</th>\n",
       "      <td>53600</td>\n",
       "      <td>0.003738</td>\n",
       "    </tr>\n",
       "    <tr>\n",
       "      <th>2022-12-27</th>\n",
       "      <td>54400</td>\n",
       "      <td>0.014815</td>\n",
       "    </tr>\n",
       "    <tr>\n",
       "      <th>2022-12-28</th>\n",
       "      <td>53600</td>\n",
       "      <td>-0.014815</td>\n",
       "    </tr>\n",
       "    <tr>\n",
       "      <th>2022-12-29</th>\n",
       "      <td>53100</td>\n",
       "      <td>-0.009372</td>\n",
       "    </tr>\n",
       "  </tbody>\n",
       "</table>\n",
       "<p>246 rows × 2 columns</p>\n",
       "</div>"
      ],
      "text/plain": [
       "             close    return\n",
       "날짜                          \n",
       "2022-01-03  114500       NaN\n",
       "2022-01-04  111500 -0.026550\n",
       "2022-01-05  105500 -0.055314\n",
       "2022-01-06  100000 -0.053541\n",
       "2022-01-07  100000  0.000000\n",
       "...            ...       ...\n",
       "2022-12-23   53400 -0.031339\n",
       "2022-12-26   53600  0.003738\n",
       "2022-12-27   54400  0.014815\n",
       "2022-12-28   53600 -0.014815\n",
       "2022-12-29   53100 -0.009372\n",
       "\n",
       "[246 rows x 2 columns]"
      ]
     },
     "execution_count": 69,
     "metadata": {},
     "output_type": "execute_result"
    }
   ],
   "source": [
    "df['return']=np.log(df['close']/df['close'].shift(1)) # %변화 보기 위해, log x_t+1 - log x_t 사용\n",
    "df"
   ]
  },
  {
   "cell_type": "markdown",
   "id": "5c6a9788",
   "metadata": {},
   "source": [
    "### 3. 가상의 상승률 데이터 만들기\n",
    "<hr>"
   ]
  },
  {
   "cell_type": "markdown",
   "id": "6039f2eb",
   "metadata": {},
   "source": [
    "원본 데이터 df['return']로부터 데이터를 251회 무작위 추출하여 가상의 상승률 리스트 데이터를 만든다. "
   ]
  },
  {
   "cell_type": "code",
   "execution_count": null,
   "id": "fc56a3f7",
   "metadata": {
    "scrolled": true
   },
   "outputs": [],
   "source": [
    "# 12월 29일 종가를 기준으로 향후 251일 이후의 수익률 부트스트래핑\n",
    "returns_virtual = np.random.choice(df['return'], size=251) # 비복원 추출 / 복원 추출 중 적절히 사용위해 random.choice 사용 \n",
    "returns_virtual"
   ]
  },
  {
   "cell_type": "markdown",
   "id": "f05499a5",
   "metadata": {},
   "source": [
    "### 4. 기준 시작가 설정\n",
    "<hr>"
   ]
  },
  {
   "cell_type": "markdown",
   "id": "d6cd797a",
   "metadata": {},
   "source": [
    "기준 시작가는 주어진 데이터의 마지막 종가, 2022년 12월 29일 종가로 설정한다."
   ]
  },
  {
   "cell_type": "code",
   "execution_count": 71,
   "id": "a932b60f",
   "metadata": {},
   "outputs": [],
   "source": [
    "# 12월 29일 종가를 부트스트래핑 초기 기준가로 저장\n",
    "price_initial = df.iloc[-1,0]"
   ]
  },
  {
   "cell_type": "markdown",
   "id": "69a6a05b",
   "metadata": {},
   "source": [
    "### 5. 가상의 종가 리스트를 출력하는 함수: getListOfPrices\n",
    "<hr>"
   ]
  },
  {
   "cell_type": "markdown",
   "id": "58102933",
   "metadata": {},
   "source": [
    "입출력 관계: (기준 시작 가격, 상승률 리스트) -> (가격들 리스트) "
   ]
  },
  {
   "cell_type": "markdown",
   "id": "bd466d22",
   "metadata": {},
   "source": [
    "##### 5.1 함수 구현 코드"
   ]
  },
  {
   "cell_type": "code",
   "execution_count": 72,
   "id": "0af1eed3",
   "metadata": {},
   "outputs": [],
   "source": [
    "def getListOfPrices(price:int, returns:list)->list:\n",
    "    price_list = []\n",
    "    price_virtual = price\n",
    "    for r in returns:\n",
    "        # 수익률이 NaN인 경우 상승률 없음(r=0, 가격 그대로)을 가정 \n",
    "        if np.isnan(r):\n",
    "            r = 0\n",
    "        # 카카오 주가의 호가단위 100원을 반영하기 위해 floor 메소드를 적절히 사용\n",
    "        price_virtual = math.floor((price_virtual * math.exp(r))/100)*100 \n",
    "        price_list.append(price_virtual)\n",
    "    return price_list"
   ]
  },
  {
   "cell_type": "markdown",
   "id": "faac2599",
   "metadata": {},
   "source": [
    "##### 5.2 출력 데이터 확인: 가상의 종가 리스트"
   ]
  },
  {
   "cell_type": "code",
   "execution_count": null,
   "id": "61a59640",
   "metadata": {},
   "outputs": [],
   "source": [
    "prices_virtual = getListOfPrices(price_initial, returns_virtual)\n",
    "prices_virtual"
   ]
  },
  {
   "cell_type": "markdown",
   "id": "3a3a99a9",
   "metadata": {},
   "source": [
    "### 6. 1년 간(D+1, ... ,D+251) 가상의 주가 흐름을 Line plot으로 그려보기 \n",
    "<hr>"
   ]
  },
  {
   "cell_type": "markdown",
   "id": "a633fee5",
   "metadata": {},
   "source": [
    "##### 6.1 Plot을 그리기 위한 라이브러리 설치\n"
   ]
  },
  {
   "cell_type": "code",
   "execution_count": 74,
   "id": "f601e085",
   "metadata": {
    "scrolled": true
   },
   "outputs": [],
   "source": [
    "%matplotlib inline\n",
    "import matplotlib.pyplot as plt\n",
    "plt.style.use('seaborn-whitegrid')"
   ]
  },
  {
   "cell_type": "markdown",
   "id": "d781678c",
   "metadata": {},
   "source": [
    "##### 6.2 1년 간 가상의 주가 흐름 line plot "
   ]
  },
  {
   "cell_type": "code",
   "execution_count": 75,
   "id": "770e8c6c",
   "metadata": {
    "scrolled": false
   },
   "outputs": [
    {
     "data": {
      "text/plain": [
       "(-1.0, 251.0)"
      ]
     },
     "execution_count": 75,
     "metadata": {},
     "output_type": "execute_result"
    },
    {
     "data": {
      "image/png": "[encoded data removed]",
      "text/plain": [
       "<Figure size 800x300 with 1 Axes>"
      ]
     },
     "metadata": {},
     "output_type": "display_data"
    }
   ],
   "source": [
    "plt.figure(figsize=(8,3))\n",
    "plot = plt.axes()\n",
    "\n",
    "# 플롯의 입력값은 5.2에서의 가상의 종가 리스트\n",
    "# 색상은 카카오의 브랜드 컬러인 짙은 노란색으로 설정\n",
    "plot.plot(prices_virtual, 'gold')\n",
    "plt.title(\"Virtual stock prices for 1 year: kakao(035720)\")\n",
    "plt.xlabel('Time (day)')\n",
    "plt.ylabel('Price (won)')\n",
    "plt.xlim([-1, 251])"
   ]
  },
  {
   "cell_type": "markdown",
   "id": "fd112cd6",
   "metadata": {},
   "source": [
    "원본 데이터인 2022년 주가 흐름(연초 114500원에서 연말 53100원으로 크게 하락)과 유사하게, 2022년 마지막 종가를 기준가로 한 1년 간의 가상의 주가 흐름 역시 연초 고점, 연말 저가로 하락 추이를 나타낸다."
   ]
  },
  {
   "cell_type": "markdown",
   "id": "d8314700",
   "metadata": {},
   "source": [
    "##### 6.3 1년 간 실제 주가 추이 Line plot"
   ]
  },
  {
   "cell_type": "code",
   "execution_count": 90,
   "id": "75774f15",
   "metadata": {
    "scrolled": true
   },
   "outputs": [
    {
     "data": {
      "text/plain": [
       "Text(0, 0.5, 'Price (won)')"
      ]
     },
     "execution_count": 90,
     "metadata": {},
     "output_type": "execute_result"
    },
    {
     "data": {
      "image/png": "[encoded data removed]",
      "text/plain": [
       "<Figure size 800x300 with 1 Axes>"
      ]
     },
     "metadata": {},
     "output_type": "display_data"
    }
   ],
   "source": [
    "plt.figure(figsize=(8,3))\n",
    "plot = plt.axes()\n",
    "\n",
    "# 플롯의 입력값은 5.2에서의 가상의 종가 리스트\n",
    "# 색상은 카카오의 브랜드 컬러인 짙은 노란색으로 설정\n",
    "plot.plot(df['close'], 'gray')\n",
    "plt.title(\"Stock prices for 1 year: kakao(035720)\")\n",
    "plt.xlabel('Time (date)')\n",
    "plt.ylabel('Price (won)')"
   ]
  },
  {
   "cell_type": "markdown",
   "id": "bdf09b9c",
   "metadata": {},
   "source": [
    "- 카카오의 실제 주가 추이는 상승/하락 구간이 좀 더 국소적으로 집중된 경향성을 띈다. (상승 상승 상승... 하락 하락 하락 ... ) \n",
    "- 반면 원본 상승률 데이터로부터 무작위 추출된 상승률 데이터로 얻은 가상의 결과는 대체로 상승과 하락이 좀 더 고르게 섞여있으므로 (하락 하락 상승 하락 상승 하락 ...) 실제보다 하락률이 더 큰 경향성을 보인다.  "
   ]
  },
  {
   "cell_type": "markdown",
   "id": "314b07b3",
   "metadata": {},
   "source": [
    "### 7. D+251 가상의 예측 종가들 만들기\n",
    "<hr>"
   ]
  },
  {
   "cell_type": "markdown",
   "id": "c40bac17",
   "metadata": {},
   "source": [
    "해당 시행을 1000번, 10000번 반복하여 251일째 (즉, 대략적인 영업일 기준 2023년 12월 31일)의 예측 종가를 히스토그램으로 그려보기"
   ]
  },
  {
   "cell_type": "markdown",
   "id": "43c51fc5",
   "metadata": {},
   "source": [
    "##### 7.1 가상의 상승률 리스트를 생성하는 함수: getListOfReturns"
   ]
  },
  {
   "cell_type": "markdown",
   "id": "254ae33a",
   "metadata": {},
   "source": [
    "입출력 관계: (251개 상승률 리스트) -> (무작위 추출된 215개 가상의 상승률 리스트)"
   ]
  },
  {
   "cell_type": "code",
   "execution_count": 92,
   "id": "025e3513",
   "metadata": {},
   "outputs": [],
   "source": [
    "def getListOfReturns(returns):\n",
    "    return np.random.choice(returns, size=251)"
   ]
  },
  {
   "cell_type": "markdown",
   "id": "4f5cef22",
   "metadata": {},
   "source": [
    "##### 7.2 가상의 D+251 (마지막 거래일) 종가들을 출력하는 함수"
   ]
  },
  {
   "cell_type": "markdown",
   "id": "cbe7509f",
   "metadata": {},
   "source": [
    "입출력 관계: (생성하고자 하는 리스트의 원소 개수) -> (입력한 개수만큼 D+251 가상의 종가들을 담은 리스트)"
   ]
  },
  {
   "cell_type": "code",
   "execution_count": 93,
   "id": "ebc858c5",
   "metadata": {},
   "outputs": [],
   "source": [
    "def getListOfFinalPrices(num):\n",
    "    final_prices = []\n",
    "    for i in range(num):\n",
    "        # 상승률 리스트는 매 시도마다 원본 데이터 df['return']으로부터 새롭게 추출됨\n",
    "        returns = getListOfReturns(df['return'])\n",
    "        # 251일째 가격을 얻기 위해 인덱스 [-1] 이용\n",
    "        price_final = getListOfPrices(price_initial, returns)[-1]\n",
    "        final_prices.append(price_final)\n",
    "    return final_prices"
   ]
  },
  {
   "cell_type": "markdown",
   "id": "1ebeddcd",
   "metadata": {},
   "source": [
    "### 8.  1000개의 가상의 종가들로 히스토그램 그리기\n",
    "<hr>"
   ]
  },
  {
   "cell_type": "markdown",
   "id": "b10359af",
   "metadata": {},
   "source": [
    "##### 8.1 1000개의 가상의 종가 출력하기"
   ]
  },
  {
   "cell_type": "code",
   "execution_count": null,
   "id": "d7ec26f0",
   "metadata": {},
   "outputs": [],
   "source": [
    "# 1000번 반복해 251일째 종가 1000개의 리스트를 얻음 \n",
    "prices_final_1000 = getListOfFinalPrices(1000)\n",
    "prices_final_1000"
   ]
  },
  {
   "cell_type": "code",
   "execution_count": 95,
   "id": "4225889a",
   "metadata": {
    "scrolled": true
   },
   "outputs": [
    {
     "data": {
      "text/plain": [
       "1000"
      ]
     },
     "execution_count": 95,
     "metadata": {},
     "output_type": "execute_result"
    }
   ],
   "source": [
    "# 리스트 원소 개수 1000개인지 확인\n",
    "len(prices_final_1000)"
   ]
  },
  {
   "cell_type": "markdown",
   "id": "b9fa69a0",
   "metadata": {},
   "source": [
    "##### 8.2 1000개의 가상의 종가 히스토그램"
   ]
  },
  {
   "cell_type": "code",
   "execution_count": 96,
   "id": "3c4328d4",
   "metadata": {
    "scrolled": true
   },
   "outputs": [
    {
     "data": {
      "image/png": "[encoded data removed]",
      "text/plain": [
       "<Figure size 600x350 with 1 Axes>"
      ]
     },
     "metadata": {},
     "output_type": "display_data"
    }
   ],
   "source": [
    "plt.figure(figsize=(6,3.5))\n",
    "plt.hist(prices_final_1000, color = 'gold', alpha=0.7, edgecolor = 'black', linewidth = 0.5)\n",
    "plt.title(\"1000 virtual D+251 prices: kakao(035720)\")\n",
    "plt.xlabel('Price (won)')\n",
    "plt.ylabel('Number (ea)')\n",
    "plt.show()"
   ]
  },
  {
   "cell_type": "markdown",
   "id": "f1deaf79",
   "metadata": {},
   "source": [
    "- 1년 후 가상의 종가들은 대체로 기준가보다 크게 하락한 10000 ~ 30000원 범위에 머물지만 매우 드물게 기준가보다 상승한 60000 ~ 70000원인 경우도 존재한다."
   ]
  },
  {
   "cell_type": "markdown",
   "id": "e8b3a3c4",
   "metadata": {},
   "source": [
    "### 9.  10000개의 가상의 종가들로 히스토그램 그리기\n",
    "<hr>"
   ]
  },
  {
   "cell_type": "markdown",
   "id": "5396bb97",
   "metadata": {},
   "source": [
    "##### 9.1 10000개의 가상의 종가 출력하기"
   ]
  },
  {
   "cell_type": "code",
   "execution_count": null,
   "id": "91df53cd",
   "metadata": {},
   "outputs": [],
   "source": [
    "prices_final_10000 = getListOfFinalPrices(10000)\n",
    "prices_final_10000"
   ]
  },
  {
   "cell_type": "code",
   "execution_count": 98,
   "id": "f051bcf7",
   "metadata": {
    "scrolled": true
   },
   "outputs": [
    {
     "data": {
      "text/plain": [
       "10000"
      ]
     },
     "execution_count": 98,
     "metadata": {},
     "output_type": "execute_result"
    }
   ],
   "source": [
    "len(prices_final_10000)"
   ]
  },
  {
   "cell_type": "markdown",
   "id": "e4dad672",
   "metadata": {},
   "source": [
    "##### 9.2 10000개의 가상의 종가 히스토그램"
   ]
  },
  {
   "cell_type": "code",
   "execution_count": 99,
   "id": "95c1583b",
   "metadata": {
    "scrolled": false
   },
   "outputs": [
    {
     "data": {
      "image/png": "[encoded data removed]",
      "text/plain": [
       "<Figure size 600x350 with 1 Axes>"
      ]
     },
     "metadata": {},
     "output_type": "display_data"
    }
   ],
   "source": [
    "plt.figure(figsize=(6,3.5))\n",
    "plt.hist(prices_final_10000, color = 'gold', alpha=0.7, edgecolor = 'black', linewidth = 0.5)\n",
    "plt.title(\"10000 virtual D+251 prices: kakao(035720)\")\n",
    "plt.xlabel('Price (won)')\n",
    "plt.ylabel('Number (ea)')\n",
    "plt.show()"
   ]
  },
  {
   "cell_type": "markdown",
   "id": "8487ec83",
   "metadata": {},
   "source": [
    "- 1년 후 가상의 종가들은 대체로 기준가보다 크게 하락한 10000 ~ 30000원 범위에 머물지만 매우 드물게 기준가보다 상승한 60000원 이상인 경우도 존재한다. \n",
    "- 10000번 반복시행의 경우 1000번 반복시행의 경우보다 극히 낮은 확률로 매우 극단적인 사례(저점으로는 10000원 이하, 고점으로는 80000원 이상)가 존재하기도 한다."
   ]
  }
 ],
 "metadata": {
  "kernelspec": {
   "display_name": "Python 3 (ipykernel)",
   "language": "python",
   "name": "python3"
  },
  "language_info": {
   "codemirror_mode": {
    "name": "ipython",
    "version": 3
   },
   "file_extension": ".py",
   "mimetype": "text/x-python",
   "name": "python",
   "nbconvert_exporter": "python",
   "pygments_lexer": "ipython3",
   "version": "3.10.9"
  }
 },
 "nbformat": 4,
 "nbformat_minor": 5
}
