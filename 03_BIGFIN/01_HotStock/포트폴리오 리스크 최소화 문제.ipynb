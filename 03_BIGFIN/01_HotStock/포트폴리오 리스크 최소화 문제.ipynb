{
 "cells": [
  {
   "cell_type": "markdown",
   "id": "b20a8863",
   "metadata": {},
   "source": [
    "# 포트폴리오 리스크 최소화 문제"
   ]
  },
  {
   "cell_type": "markdown",
   "id": "9c9cf2fb",
   "metadata": {},
   "source": []
  },
  {
   "cell_type": "markdown",
   "id": "08872d46",
   "metadata": {},
   "source": [
    "### 0. 문제상황 및 조건\n",
    "<hr>"
   ]
  },
  {
   "cell_type": "markdown",
   "id": "a1a5e1bf",
   "metadata": {},
   "source": [
    "#### 0.1. 문제상황"
   ]
  },
  {
   "cell_type": "markdown",
   "id": "e88217b8",
   "metadata": {},
   "source": [
    "전체 자산의 w를 30% 리스크 자산에 투자, (1-w)를 10% 리스크 자산에 투자할때\n",
    "1. 전체 포트폴리오의 에러를 RMSE로 계산하라\n",
    "2. 리스크를 최소화하는 w를 구하라.\n",
    "3. correlation이 +0.5, -0.5, +1, -1, ... 일때 w를 구하라.\n",
    "4. 어떨 때 가장 유리한가? "
   ]
  },
  {
   "cell_type": "markdown",
   "id": "2bf87283",
   "metadata": {},
   "source": [
    "#### 0.2. 전제: 리스크 = 표준편차"
   ]
  },
  {
   "cell_type": "markdown",
   "id": "b2acea77",
   "metadata": {},
   "source": [
    "따라서 리스크 30%인 자산의 표준편차는 0.3(분산은 0.09)이고, 리스크 10%인 자산의 표준편차는 0.1(분산은 0.01)이다. "
   ]
  },
  {
   "cell_type": "markdown",
   "id": "bf9e997e",
   "metadata": {},
   "source": [
    "#### 0.3. 변수 문자를 도입하여 문제의 주어진 조건 기술"
   ]
  },
  {
   "cell_type": "markdown",
   "id": "dd84b281",
   "metadata": {},
   "source": [
    "- $X_1$ : 리스크 30%인 자산, 자산1을 나타내는 확률 변수(random variable)\n",
    "- $X_2$ : 리스크 10%인 자산, 자산2를 나타내는 확률 변수(random variable)\n",
    "- $w$ : 자산1에 투자하는 비율\n",
    "- $\\sigma_1 = 0.3 $ : $X_1$의 표준편차, 즉 자산1의 리스크\n",
    "- $\\sigma_2 = 0.1 $ : $X_2$의 표준편차, 즉 자산2의 리스크\n",
    "- $\\rho$ : 자산1과 자산2의 correlation $( -1 \\leq \\rho \\leq 1 )$"
   ]
  },
  {
   "cell_type": "markdown",
   "id": "444f6725",
   "metadata": {},
   "source": [
    "#### 0.4. 두 확률변수 $X_1, X_2$ 상관계수(correlation) $\\rho$의 정의"
   ]
  },
  {
   "cell_type": "markdown",
   "id": "31394fa2",
   "metadata": {},
   "source": [
    "$$ \\rho \\equiv \\frac{\\text{Cov}(X_1, X_2)}{\\sigma_1 \\sigma_2} $$"
   ]
  },
  {
   "cell_type": "markdown",
   "id": "edf10dcb",
   "metadata": {},
   "source": [
    "### 1. 전체 포트폴리오의 에러를 RMSE로 계산\n",
    "<hr>"
   ]
  },
  {
   "cell_type": "markdown",
   "id": "930f69fd",
   "metadata": {},
   "source": [
    "우선 MSE를 먼저 계산한다."
   ]
  },
  {
   "cell_type": "markdown",
   "id": "58f02a80",
   "metadata": {},
   "source": [
    "\\begin{align} \n",
    "\\text{MSE} & = \\text{Var}(wX_1 + (1-w)X_2) \\\\\n",
    "& = w^2 \\text{Var}(X_1) + (1-w)^2 \\text{Var}(X_2) + 2w(1-w)\\text{Cov}(X_1, X_2) \\\\\n",
    "& = w^2 \\sigma_1^2 + (1-w)^2 \\sigma_2^2 + 2w(1-w)\\sigma_1\\sigma_2\\rho \\\\\n",
    "& = 0.09w^2 + 0.01(1-w)^2 + 0.06w(1-w)\\rho \\\\\n",
    "& = (0.1-0.06\\rho)w^2 + (-0.02+0.06\\rho)w +0.01 \\\\\n",
    "\\end{align} \n"
   ]
  },
  {
   "cell_type": "markdown",
   "id": "6b15933d",
   "metadata": {},
   "source": [
    "correlation $\\rho$는 통상적으로 out-of-control 파라미터라고 교수님께서 언급하셨으므로, RMSE는 w에 대해 2차 다항함수라 할 수 있다. RMSE가 w에 대한 함수라는 것을 명시하기 위해 이하 다음과 같이 표현하도록 한다. "
   ]
  },
  {
   "cell_type": "markdown",
   "id": "8710d92e",
   "metadata": {},
   "source": [
    "\n",
    "> $$  \\text{RMSE}(w) = \\sqrt{(0.1-0.06\\rho)w^2 + (-0.02+0.06\\rho)w +0.01} $$ "
   ]
  },
  {
   "cell_type": "markdown",
   "id": "19fe4e36",
   "metadata": {},
   "source": [
    "### 2. 리스크를 최소화하는 자산 투자 비율 $w$\n",
    "<hr>"
   ]
  },
  {
   "cell_type": "markdown",
   "id": "df03fcf8",
   "metadata": {},
   "source": [
    "주어진 투자 방식의 리스크는 $\\text{RMSE}(w)$로 측정된다. 이때 $\\rho$ 는 $( -1 \\leq \\rho \\leq 1 )$ 이므로 언제나 아래로 볼록한 함수, 즉 극소값을 갖는 함수이다. 따라서 $\\text{RMSE}(w) $를 $w$에 대해 미분하여 리스크를 최소화하는 w를 구한다."
   ]
  },
  {
   "cell_type": "markdown",
   "id": "c90aa005",
   "metadata": {},
   "source": [
    "$$ \\frac{d}{dw}\\text{RMSE}(w) = \\frac{(0.1-0.06\\rho)w-(0.01-0.03\\rho)}{\\sqrt{(0.1-0.06\\rho)w^2 + (-0.02+0.06\\rho)w +0.01}} = 0$$"
   ]
  },
  {
   "cell_type": "markdown",
   "id": "a98b57c9",
   "metadata": {},
   "source": [
    "> $$ w = \\frac{0.1-0.3\\rho}{1-0.6\\rho} $$"
   ]
  },
  {
   "cell_type": "markdown",
   "id": "3e260ac3",
   "metadata": {},
   "source": [
    "### 3. $\\rho = -1, -\\frac{1}{2}, 0, \\frac{1}{2}, 1, ... $일때 자산 투자 비율 $w$\n",
    "<hr>"
   ]
  },
  {
   "cell_type": "markdown",
   "id": "8446ca9d",
   "metadata": {},
   "source": [
    "단순 반복 계산이므로 Python 코드를 이용하여 계산한다."
   ]
  },
  {
   "cell_type": "code",
   "execution_count": 14,
   "id": "c1e30521",
   "metadata": {
    "scrolled": true
   },
   "outputs": [
    {
     "data": {
      "text/plain": [
       "[0.25, 0.1923076923076923, 0.1, -0.07142857142857141, -0.49999999999999994]"
      ]
     },
     "execution_count": 14,
     "metadata": {},
     "output_type": "execute_result"
    }
   ],
   "source": [
    "x_list = [-1, -0.5, 0, 0.5, 1]\n",
    "w_list = []\n",
    "for x in x_list:\n",
    "    w = (0.1-0.3*x) / (1-0.6*x)\n",
    "    w_list.append(w)\n",
    "w_list"
   ]
  },
  {
   "cell_type": "markdown",
   "id": "4bceb9ed",
   "metadata": {},
   "source": [
    "##### 3.1. ($\\, \\rho = -1 \\,$) 정반대로 움직이는 두 자산에 투자할 경우, 리스크를 최소화하는 투자 비율"
   ]
  },
  {
   "cell_type": "markdown",
   "id": "3f87e3e0",
   "metadata": {},
   "source": [
    "$$ w = 0.25 $$"
   ]
  },
  {
   "cell_type": "markdown",
   "id": "3b89084a",
   "metadata": {},
   "source": [
    "자산1에 25% 투자, 자산2에 75% 투자해야 리스크가 최소화된다."
   ]
  },
  {
   "cell_type": "markdown",
   "id": "fc0287a4",
   "metadata": {},
   "source": [
    "##### 3.2. ($\\, \\rho = -\\frac{1}{2} \\,$) 절반 정도 반대로 움직이는 두 자산에 투자할 경우, 리스크를 최소화하는 투자 비율"
   ]
  },
  {
   "cell_type": "markdown",
   "id": "9adb93e6",
   "metadata": {},
   "source": [
    "$$ w = 0.19 $$"
   ]
  },
  {
   "cell_type": "markdown",
   "id": "b6db1b51",
   "metadata": {},
   "source": [
    "자산1에 19% 투자, 자산2에 81% 투자해야 리스크가 최소화된다."
   ]
  },
  {
   "cell_type": "markdown",
   "id": "a762ae7f",
   "metadata": {},
   "source": [
    "##### 3.3. ($\\, \\rho = 0 \\,$) 서로 무관하게 움직이는 두 자산에 투자할 경우, 리스크를 최소화하는 투자 비율"
   ]
  },
  {
   "cell_type": "markdown",
   "id": "42a8d98d",
   "metadata": {},
   "source": [
    "$$ w = 0.1 $$"
   ]
  },
  {
   "cell_type": "markdown",
   "id": "e78c5632",
   "metadata": {},
   "source": [
    "자산1에 10% 투자, 자산2에 90% 투자해야 리스크가 최소화된다."
   ]
  },
  {
   "cell_type": "markdown",
   "id": "f0435344",
   "metadata": {},
   "source": [
    "##### 3.4. ($\\, \\rho = \\frac{1}{2} \\,$) 동반 상승-동반 하락, 비슷하게 움직이는 두 자산에 투자할 경우 리스크를 최소화하는 투자 비율"
   ]
  },
  {
   "cell_type": "markdown",
   "id": "37e3961b",
   "metadata": {},
   "source": [
    "$$ w = -0.07 $$"
   ]
  },
  {
   "cell_type": "markdown",
   "id": "ee089789",
   "metadata": {},
   "source": [
    "자산1에 -7% 비율로 투자, 자산2에 107% 투자해야 리스크가 최소화된다. 이 경우 해석은 다음과 같이 할 수 있다\n",
    "- 리스크가 30%인 자산1은 자산2 대비 위험 자산인데, 이 경우 리스크가 10%인 자산1에 투자하지 않고 자산2(안전자산)에 100% 투자하는 것이 리스크를 최소화할 수 있다. \"안전자산에만 투자하라!\"\n",
    "- 만약 상승-하락의 비율을 완벽히(100%) 반영하는 자산1의 공매도 상품과 자산2의 레버리지 투자 상품이 있을 경우, 투자금의 7% 만큼을 자산1 공매도, 투자금의 107%만큼을 자산2 레버리지 투자하는 것으로 리스크를 최소화할 수 있다."
   ]
  },
  {
   "cell_type": "markdown",
   "id": "a4b246d4",
   "metadata": {},
   "source": [
    "##### 3.5. ($\\, \\rho = 1 \\,$) 동일한 비율로 상승-하락하는 두 자산에 투자할 경우 리스크를 최소화하는 투자 비율"
   ]
  },
  {
   "cell_type": "markdown",
   "id": "660e52f3",
   "metadata": {},
   "source": [
    "$$ w = -0.5 $$"
   ]
  },
  {
   "cell_type": "markdown",
   "id": "5587ab4d",
   "metadata": {},
   "source": [
    "자산1에 -50% 비율로 투자, 자산2에 150% 투자해야 리스크가 최소화된다. 이 경우 해석은 다음과 같이 할 수 있다\n",
    "- 리스크가 30%인 자산1은 자산2 대비 위험 자산인데, 이 경우 리스크가 10%인 자산1에 투자하지 않고 자산2에 100% 투자하는 것이 리스크를 최소화할 수 있다. \"똑같은 비율로 상승 하락하는 두 투자 자산이 있는 경우, 더더욱 안전자산에만 투자하라!\"\n",
    "- 만약 상승-하락의 비율을 완벽히(100%) 반영하는 자산1의 공매도 상품과 자산2의 레버리지 투자 상품이 있을 경우, 투자금의 50% 만큼을 자산1 공매도, 투자금의 150%만큼을 자산2 레버리지 투자하는 것으로 리스크를 최소화할 수 있다."
   ]
  },
  {
   "cell_type": "markdown",
   "id": "da763b38",
   "metadata": {},
   "source": [
    "##### 3.6. 위의 결과들로부터, $\\rho$가 특정한 지점부터 투자 비율 $w$ 0보다 작아진다는 것을 알 수 있다. 이때의 $\\rho$"
   ]
  },
  {
   "cell_type": "markdown",
   "id": "4ed0ab68",
   "metadata": {},
   "source": [
    "$$ w = \\frac{0.1-0.3\\rho}{1-0.6\\rho} = 0 $$"
   ]
  },
  {
   "cell_type": "markdown",
   "id": "bdd695e8",
   "metadata": {},
   "source": [
    "> $$ \\rho = 1/3 $$"
   ]
  },
  {
   "cell_type": "markdown",
   "id": "0a670f4a",
   "metadata": {},
   "source": [
    "상관 계수가 1/3 인 경우부터, 즉 1/3 정도로 비슷하게 움직이는 위험 자산과 안전 자산에 분산 투자할 경우 안전 자산에 100% 투자하는 것이 리스크를 최소화할 수 있다. 따라서 **두 투자 자산의 상관 계수가 1/3보다 커지는 경우 안전자산에만 100% 투자를 해야 리스크를 최소화할 수 있다.** "
   ]
  },
  {
   "cell_type": "markdown",
   "id": "c7b38c00",
   "metadata": {},
   "source": [
    "### 4. 가장 유리한 경우 탐색\n",
    "<hr>"
   ]
  },
  {
   "cell_type": "markdown",
   "id": "7cbdb6ea",
   "metadata": {},
   "source": [
    "몇 가지 $\\rho$ 값에 대해 리스크 함수를 그려보자. "
   ]
  },
  {
   "cell_type": "markdown",
   "id": "b370ce80",
   "metadata": {},
   "source": [
    "##### RMSE 함수를 구현한 코드 "
   ]
  },
  {
   "cell_type": "code",
   "execution_count": 63,
   "id": "5d971d89",
   "metadata": {},
   "outputs": [],
   "source": [
    "def RMSE(rho, domain):\n",
    "    fw_list = []\n",
    "    for w in domain:\n",
    "        fw = math.sqrt((0.1-0.06*rho)*w**2 + (-0.02+0.06*rho)*w +0.01)\n",
    "        fw_list.append(fw)\n",
    "    return fw_list"
   ]
  },
  {
   "cell_type": "code",
   "execution_count": 84,
   "id": "bd87d06e",
   "metadata": {},
   "outputs": [],
   "source": [
    "w_domain = np.linspace(-.2, 1, num=50)"
   ]
  },
  {
   "cell_type": "markdown",
   "id": "8edf9ff0",
   "metadata": {},
   "source": [
    "##### $\\rho = -1, -1/2, 0, 1/3, 1/2$ 각각에 대해 $ \\text{RMSE}(w)$ plot 그리기 "
   ]
  },
  {
   "cell_type": "code",
   "execution_count": 85,
   "id": "03fe58de",
   "metadata": {},
   "outputs": [],
   "source": [
    "f1 = RMSE(-1, w_domain)\n",
    "f2 = RMSE(-0.5, w_domain)\n",
    "f3 = RMSE(0, w_domain)\n",
    "f4 = RMSE(1/3, w_domain)\n",
    "f5 = RMSE(1/2, w_domain)"
   ]
  },
  {
   "cell_type": "code",
   "execution_count": 99,
   "id": "4d18f2e8",
   "metadata": {
    "scrolled": true
   },
   "outputs": [
    {
     "data": {
      "image/png": "[encoded data removed]",
      "text/plain": [
       "<Figure size 800x350 with 1 Axes>"
      ]
     },
     "metadata": {},
     "output_type": "display_data"
    }
   ],
   "source": [
    "plt.style.use('seaborn-whitegrid')\n",
    "plt.figure(figsize=(8,3.5))\n",
    "plt.plot(w_domain, f1, label=\"corr. = -1\")\n",
    "plt.plot(w_domain, f2, label=\"corr. = -1/2\")\n",
    "plt.plot(w_domain, f3, label=\"corr. = 0\")\n",
    "plt.plot(w_domain, f4, label=\"corr. = 1/3\")\n",
    "plt.plot(w_domain, f5, label=\"corr. = 1/2\")\n",
    "\n",
    "plt.xlabel('w')\n",
    "plt.ylabel('RMSE')\n",
    "plt.xticks(np.arange(-0.2, 1.05, 0.1))\n",
    "plt.xlim([-0.15, 1.02])\n",
    "plt.legend()\n",
    "plt.show()"
   ]
  },
  {
   "cell_type": "code",
   "execution_count": 93,
   "id": "3b1b53c1",
   "metadata": {
    "scrolled": false
   },
   "outputs": [
    {
     "data": {
      "text/plain": [
       "[0.003673469387755413,\n",
       " 0.07205786928883835,\n",
       " 0.09488808375212754,\n",
       " 0.10000666366802345,\n",
       " 0.09821140997645174]"
      ]
     },
     "execution_count": 93,
     "metadata": {},
     "output_type": "execute_result"
    }
   ],
   "source": [
    "minimums = [np.min(f1), np.min(f2), np.min(f3), np.min(f4), np.min(f5)]\n",
    "minimums"
   ]
  },
  {
   "cell_type": "markdown",
   "id": "8dbd2865",
   "metadata": {},
   "source": [
    "각 $\\rho$에 대해 최소화된 $\\text{RMSE}$, 즉 리스크의 크기는 다음과 같다. "
   ]
  },
  {
   "cell_type": "markdown",
   "id": "9e337cf5",
   "metadata": {},
   "source": [
    "$$ \\text{RMSE}_{min} = \n",
    "\\begin{cases}\n",
    "0.004 & \\text{at} \\quad w = 0.25 \\quad \\cdots \\quad (\\rho = -1) \\\\\n",
    "0.072 & \\text{at} \\quad w = 0.19 \\quad \\cdots \\quad (\\rho = -0.5) \\\\\n",
    "0.095 & \\text{at} \\quad w = 0.1 \\quad \\cdots \\quad (\\rho = 0) \\\\\n",
    "0.100 & \\text{at} \\quad w = 0 \\quad \\cdots \\quad (\\rho = 1/3) \\\\\n",
    "\\end{cases}\n",
    "$$"
   ]
  },
  {
   "cell_type": "markdown",
   "id": "5d4985b6",
   "metadata": {},
   "source": [
    "> 투자에 가장 유리한 상황은 리스크가 최소화되는 투자 비율을 선택하는 것이다. 즉, 각 그래프에서 RMSE가 최소가 되는 $w$ 값으로 자산1과 자산2에 분산 투자하는 것이다. "
   ]
  }
 ],
 "metadata": {
  "kernelspec": {
   "display_name": "Python 3 (ipykernel)",
   "language": "python",
   "name": "python3"
  },
  "language_info": {
   "codemirror_mode": {
    "name": "ipython",
    "version": 3
   },
   "file_extension": ".py",
   "mimetype": "text/x-python",
   "name": "python",
   "nbconvert_exporter": "python",
   "pygments_lexer": "ipython3",
   "version": "3.10.9"
  }
 },
 "nbformat": 4,
 "nbformat_minor": 5
}
